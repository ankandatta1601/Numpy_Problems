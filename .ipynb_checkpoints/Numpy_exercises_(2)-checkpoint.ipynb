{
 "cells": [
  {
   "cell_type": "markdown",
   "metadata": {
    "id": "zeLOLmTj1kBM"
   },
   "source": [
    "### <a name='0'></a> Import of libraries"
   ]
  },
  {
   "cell_type": "code",
   "execution_count": 1,
   "metadata": {
    "id": "HXMB7SMe1Wnz"
   },
   "outputs": [
    {
     "data": {
      "text/plain": [
       "'1.21.6'"
      ]
     },
     "execution_count": 1,
     "metadata": {},
     "output_type": "execute_result"
    }
   ],
   "source": [
    "import numpy as np\n",
    "\n",
    "np.__version__"
   ]
  },
  {
   "cell_type": "markdown",
   "metadata": {
    "id": "cyc70pMe1oCg"
   },
   "source": [
    "### <a name='1'></a> Exercise 1\n",
    "Check if all array elements $ A, B, C $ and $ D $ return the logical value _True_.\n",
    "\n",
    "```\n",
    "A = np.array([[3, 2, 1, 4],\n",
    "              [5, 2, 1, 6]])\n",
    "\n",
    "B = np.array([[3, 2, 1, 4],\n",
    "              [5, 2, 0, 6]])\n",
    "\n",
    "C = np.array([[True, False, False],\n",
    "              [True, True, True]])\n",
    "\n",
    "D = np.array([0.1, 0.3])\n",
    "```\n",
    "\n",
    "__Tip:__ Use the function _np.all()_."
   ]
  },
  {
   "cell_type": "code",
   "execution_count": null,
   "metadata": {
    "id": "B0IVx0-CpcDW"
   },
   "outputs": [],
   "source": [
    "# enter solution here"
   ]
  },
  {
   "cell_type": "code",
   "execution_count": 2,
   "metadata": {},
   "outputs": [
    {
     "data": {
      "text/plain": [
       "True"
      ]
     },
     "execution_count": 2,
     "metadata": {},
     "output_type": "execute_result"
    }
   ],
   "source": [
    "A = np.array([[3, 2, 1, 4],\n",
    "              [5, 2, 1, 6]])\n",
    "\n",
    "np.all(A)"
   ]
  },
  {
   "cell_type": "code",
   "execution_count": 3,
   "metadata": {},
   "outputs": [
    {
     "data": {
      "text/plain": [
       "False"
      ]
     },
     "execution_count": 3,
     "metadata": {},
     "output_type": "execute_result"
    }
   ],
   "source": [
    "B = np.array([[3, 2, 1, 4],\n",
    "              [5, 2, 0, 6]])\n",
    "\n",
    "np.all(B)"
   ]
  },
  {
   "cell_type": "code",
   "execution_count": 4,
   "metadata": {},
   "outputs": [
    {
     "data": {
      "text/plain": [
       "False"
      ]
     },
     "execution_count": 4,
     "metadata": {},
     "output_type": "execute_result"
    }
   ],
   "source": [
    "C = np.array([[True, False, False],\n",
    "              [True, True, True]])\n",
    "\n",
    "np.all(C)"
   ]
  },
  {
   "cell_type": "code",
   "execution_count": 5,
   "metadata": {},
   "outputs": [
    {
     "data": {
      "text/plain": [
       "True"
      ]
     },
     "execution_count": 5,
     "metadata": {},
     "output_type": "execute_result"
    }
   ],
   "source": [
    "D = np.array([0.1, 0.3])\n",
    "\n",
    "np.all(D)"
   ]
  },
  {
   "cell_type": "markdown",
   "metadata": {
    "id": "J9pY1rtr1sC0"
   },
   "source": [
    "### <a name='2'></a> Exercise 2\n",
    "Check if all array elements $ A, B $ and $ C $ return the logical value _True_ along the axis with index 1.\n",
    "\n",
    "```\n",
    "A = np.array([[3, 2, 1, 4],\n",
    "              [5, 2, 1, 6]])\n",
    "\n",
    "B = np.array([[3, 2, 1, 4],\n",
    "              [5, 2, 0, 6]])\n",
    "\n",
    "C = np.array([[True, False, False],\n",
    "              [True, True, True]])\n",
    "```\n",
    "\n",
    "__Tip:__ Use the function _np.all()_ with the parameter _axis_."
   ]
  },
  {
   "cell_type": "code",
   "execution_count": null,
   "metadata": {
    "id": "8Vt03pJyp78D"
   },
   "outputs": [],
   "source": [
    "# enter solution here"
   ]
  },
  {
   "cell_type": "code",
   "execution_count": 6,
   "metadata": {},
   "outputs": [
    {
     "data": {
      "text/plain": [
       "array([ True,  True])"
      ]
     },
     "execution_count": 6,
     "metadata": {},
     "output_type": "execute_result"
    }
   ],
   "source": [
    "A = np.array([[3, 2, 1, 4],\n",
    "              [5, 2, 1, 6]])\n",
    "np.all(A, axis=1)"
   ]
  },
  {
   "cell_type": "code",
   "execution_count": 7,
   "metadata": {},
   "outputs": [
    {
     "data": {
      "text/plain": [
       "array([ True, False])"
      ]
     },
     "execution_count": 7,
     "metadata": {},
     "output_type": "execute_result"
    }
   ],
   "source": [
    "B = np.array([[3, 2, 1, 4],\n",
    "              [5, 2, 0, 6]])\n",
    "\n",
    "np.all(B, axis = 1)"
   ]
  },
  {
   "cell_type": "code",
   "execution_count": 8,
   "metadata": {},
   "outputs": [
    {
     "data": {
      "text/plain": [
       "array([False,  True])"
      ]
     },
     "execution_count": 8,
     "metadata": {},
     "output_type": "execute_result"
    }
   ],
   "source": [
    "C = np.array([[True, False, False],\n",
    "              [True, True, True]])\n",
    "\n",
    "np.all(C,axis = 1)"
   ]
  },
  {
   "cell_type": "markdown",
   "metadata": {
    "id": "XQLYT2m11wVG"
   },
   "source": [
    "### <a name='3'></a> Exercise 3\n",
    "Check if any element of arrays $ A, B, C $ and $ D $ returns the logical value _True_.\n",
    "\n",
    "```\n",
    "A = np.array([[0, 0, 0],\n",
    "              [0, 0, 0]])\n",
    "\n",
    "B = np.array([[0, 0, 0],\n",
    "              [0, 1, 0]])\n",
    "\n",
    "C = np.array([[False, False, False],\n",
    "              [True, False, False]])\n",
    "\n",
    "D = np.array([[0.1, 0.0]])\n",
    "```\n",
    "\n",
    "__Tip:__ Use the _np.any()_ function."
   ]
  },
  {
   "cell_type": "code",
   "execution_count": null,
   "metadata": {
    "id": "dQ4cIqS7p9zd"
   },
   "outputs": [],
   "source": [
    "# enter solution here"
   ]
  },
  {
   "cell_type": "code",
   "execution_count": 9,
   "metadata": {},
   "outputs": [
    {
     "data": {
      "text/plain": [
       "False"
      ]
     },
     "execution_count": 9,
     "metadata": {},
     "output_type": "execute_result"
    }
   ],
   "source": [
    "A = np.array([[0, 0, 0],\n",
    "              [0, 0, 0]])\n",
    "\n",
    "np.all(A)"
   ]
  },
  {
   "cell_type": "code",
   "execution_count": 10,
   "metadata": {},
   "outputs": [
    {
     "data": {
      "text/plain": [
       "False"
      ]
     },
     "execution_count": 10,
     "metadata": {},
     "output_type": "execute_result"
    }
   ],
   "source": [
    "B = np.array([[0, 0, 0],\n",
    "              [0, 1, 0]])\n",
    "\n",
    "np.all(B)"
   ]
  },
  {
   "cell_type": "code",
   "execution_count": 11,
   "metadata": {},
   "outputs": [
    {
     "data": {
      "text/plain": [
       "False"
      ]
     },
     "execution_count": 11,
     "metadata": {},
     "output_type": "execute_result"
    }
   ],
   "source": [
    "\n",
    "C = np.array([[False, False, False],\n",
    "              [True, False, False]])\n",
    "\n",
    "np.all(C)"
   ]
  },
  {
   "cell_type": "code",
   "execution_count": 12,
   "metadata": {},
   "outputs": [
    {
     "data": {
      "text/plain": [
       "False"
      ]
     },
     "execution_count": 12,
     "metadata": {},
     "output_type": "execute_result"
    }
   ],
   "source": [
    "D = np.array([[0.1, 0.0]])\n",
    "np.all(D)"
   ]
  },
  {
   "cell_type": "markdown",
   "metadata": {
    "id": "4xTKSUzg10MK"
   },
   "source": [
    "### <a name='4'></a> Exercise 4\n",
    "Check if any element of arrays $ A, B, C $ and $ D $ returns the logical value _True_ along the axis with index 0.\n",
    "\n",
    "```\n",
    "A = np.array([[0, 0, 0],\n",
    "              [0, 0, 0]])\n",
    "\n",
    "B = np.array([[0, 0, 0],\n",
    "              [0, 1, 0]])\n",
    "\n",
    "C = np.array([[False, False, False],\n",
    "              [True, False, False]])\n",
    "\n",
    "D = np.array([[0.1, 0.0]])\n",
    "```\n",
    "\n",
    "__Tip:__ Use the _np.any()_ function with the parameter _axis_.\n"
   ]
  },
  {
   "cell_type": "code",
   "execution_count": null,
   "metadata": {},
   "outputs": [],
   "source": [
    "# enter solution here"
   ]
  },
  {
   "cell_type": "code",
   "execution_count": 15,
   "metadata": {},
   "outputs": [
    {
     "name": "stdout",
     "output_type": "stream",
     "text": [
      "[False False False]\t[False False]\n"
     ]
    }
   ],
   "source": [
    "print(np.all(A, axis = 0), np.all(A,axis = 1), sep = '\\t')"
   ]
  },
  {
   "cell_type": "code",
   "execution_count": 16,
   "metadata": {},
   "outputs": [
    {
     "name": "stdout",
     "output_type": "stream",
     "text": [
      "[False False False]\t[False False]\n"
     ]
    }
   ],
   "source": [
    "print(np.all(B, axis = 0), np.all(B,axis = 1), sep = '\\t')"
   ]
  },
  {
   "cell_type": "code",
   "execution_count": 17,
   "metadata": {},
   "outputs": [
    {
     "name": "stdout",
     "output_type": "stream",
     "text": [
      "[False False False]\t[False False]\n"
     ]
    }
   ],
   "source": [
    "print(np.all(C, axis = 0), np.all(C,axis = 1), sep = '\\t')"
   ]
  },
  {
   "cell_type": "code",
   "execution_count": 18,
   "metadata": {
    "id": "yR-X87M1qKFE"
   },
   "outputs": [
    {
     "name": "stdout",
     "output_type": "stream",
     "text": [
      "[ True False]\t[False]\n"
     ]
    }
   ],
   "source": [
    "print(np.all(D, axis = 0), np.all(D,axis = 1), sep = '\\t')"
   ]
  },
  {
   "cell_type": "markdown",
   "metadata": {
    "id": "o3HKIKlP15Ro"
   },
   "source": [
    "### <a name='5'></a> Exercise 5\n",
    "Check the array $ A $ for missing data (_np.nan_).\n",
    "\n",
    "```\n",
    "A = np.array([[3, 2, 1, np.nan],\n",
    "              [5, np.nan, 1, 6]])\n",
    "```\n",
    "__Tip:__ Use the _np.isnan()_ function.\n"
   ]
  },
  {
   "cell_type": "code",
   "execution_count": null,
   "metadata": {
    "id": "Bf65a1SFqn7L"
   },
   "outputs": [],
   "source": [
    "# enter solution here"
   ]
  },
  {
   "cell_type": "code",
   "execution_count": 19,
   "metadata": {},
   "outputs": [],
   "source": [
    "A = np.array([[3, 2, 1, np.nan],\n",
    "              [5, np.nan, 1, 6]])"
   ]
  },
  {
   "cell_type": "code",
   "execution_count": 20,
   "metadata": {},
   "outputs": [
    {
     "data": {
      "text/plain": [
       "array([[ 3.,  2.,  1., nan],\n",
       "       [ 5., nan,  1.,  6.]])"
      ]
     },
     "execution_count": 20,
     "metadata": {},
     "output_type": "execute_result"
    }
   ],
   "source": [
    "A"
   ]
  },
  {
   "cell_type": "code",
   "execution_count": 22,
   "metadata": {},
   "outputs": [
    {
     "data": {
      "text/plain": [
       "array([[False, False, False,  True],\n",
       "       [False,  True, False, False]])"
      ]
     },
     "execution_count": 22,
     "metadata": {},
     "output_type": "execute_result"
    }
   ],
   "source": [
    "np.isnan(A,)"
   ]
  },
  {
   "cell_type": "markdown",
   "metadata": {
    "id": "PunXd_Ey16so"
   },
   "source": [
    "### <a name='6'></a> Exercise 6\n",
    "Check if the following arrays $ A $ and $ B $ are equal in terms of elements (element-wise) with the specified tolerance level. Use the _np.allclose()_ function with default parameters.\n",
    "\n",
    "```\n",
    "A = np.array([0.4, 0.5, 0.3])\n",
    "B = np.array([0.39999999, 0.5000001, 0.3])\n",
    "```"
   ]
  },
  {
   "cell_type": "code",
   "execution_count": null,
   "metadata": {
    "id": "GFvNmr9erl1D"
   },
   "outputs": [],
   "source": [
    "# enter solution here"
   ]
  },
  {
   "cell_type": "code",
   "execution_count": 25,
   "metadata": {},
   "outputs": [],
   "source": [
    "A = np.array([0.4, 0.5, 0.3])\n",
    "B = np.array([0.39999999, 0.5000001, 0.3])"
   ]
  },
  {
   "cell_type": "code",
   "execution_count": 26,
   "metadata": {},
   "outputs": [
    {
     "name": "stdout",
     "output_type": "stream",
     "text": [
      "[0.4 0.5 0.3]\n",
      "[0.39999999 0.5000001  0.3       ]\n"
     ]
    }
   ],
   "source": [
    "print(A,B, sep ='\\n')"
   ]
  },
  {
   "cell_type": "code",
   "execution_count": 32,
   "metadata": {},
   "outputs": [
    {
     "data": {
      "text/plain": [
       "True"
      ]
     },
     "execution_count": 32,
     "metadata": {},
     "output_type": "execute_result"
    }
   ],
   "source": [
    "np.allclose(A,B)"
   ]
  },
  {
   "cell_type": "markdown",
   "metadata": {
    "id": "hOhqDRz618Tx"
   },
   "source": [
    "### <a name='7'></a> Exercise 7\n",
    "Check if the following arrays $ A $ and $ B $ are equal in terms of elements (element-wise). Use the comparison operator _==_.\n",
    "\n",
    "```\n",
    "A = np.array([0.4, 0.5, 0.3])\n",
    "B = np.array([0.3999999999, 0.5000000001, 0.3])\n",
    "```"
   ]
  },
  {
   "cell_type": "code",
   "execution_count": null,
   "metadata": {
    "id": "gX6r6i6BrwUL"
   },
   "outputs": [],
   "source": [
    "# enter solution here"
   ]
  },
  {
   "cell_type": "code",
   "execution_count": 31,
   "metadata": {},
   "outputs": [],
   "source": [
    "A = np.array([0.4, 0.5, 0.3])\n",
    "B = np.array([0.3999999999, 0.5000000001, 0.3])"
   ]
  },
  {
   "cell_type": "code",
   "execution_count": 33,
   "metadata": {},
   "outputs": [
    {
     "name": "stdout",
     "output_type": "stream",
     "text": [
      "[False False  True]\n"
     ]
    }
   ],
   "source": [
    "print(A==B)"
   ]
  },
  {
   "cell_type": "code",
   "execution_count": null,
   "metadata": {},
   "outputs": [],
   "source": []
  },
  {
   "cell_type": "markdown",
   "metadata": {
    "id": "TXUd_4631-gw"
   },
   "source": [
    "### <a name='8'></a> Exercise 8\n",
    "\n",
    "Check which elements (element-wise) from the array $ A $ below have higher values than the array $ B $.\n",
    "\n",
    "```\n",
    "A = np.array([0.4, 0.5, 0.3, 0.9])\n",
    "B = np.array([0.38, 0.51, 0.3, 0.91])\n",
    "```"
   ]
  },
  {
   "cell_type": "code",
   "execution_count": null,
   "metadata": {
    "id": "KkK9env2sCv8"
   },
   "outputs": [],
   "source": [
    "# enter solution here"
   ]
  },
  {
   "cell_type": "code",
   "execution_count": 34,
   "metadata": {},
   "outputs": [
    {
     "name": "stdout",
     "output_type": "stream",
     "text": [
      "[ True False False False]\n"
     ]
    }
   ],
   "source": [
    "A = np.array([0.4, 0.5, 0.3, 0.9])\n",
    "B = np.array([0.38, 0.51, 0.3, 0.91])\n",
    "print(A>B)"
   ]
  },
  {
   "cell_type": "code",
   "execution_count": null,
   "metadata": {},
   "outputs": [],
   "source": []
  },
  {
   "cell_type": "markdown",
   "metadata": {
    "id": "tgI6xEn-2AQo"
   },
   "source": [
    "### <a name='9'></a> Exercise 9\n",
    "\n",
    "Create an array of numpy dimensions _4x4_ filled with zeros. Set the data type to _int_.\n",
    "\n",
    "__Expected result:__\n",
    "\n",
    "```\n",
    "array([[0, 0, 0, 0],\n",
    "       [0, 0, 0, 0],\n",
    "       [0, 0, 0, 0],\n",
    "       [0, 0, 0, 0]])\n",
    "```\n",
    "__Tip:__ Use the _np.zeros()_ function."
   ]
  },
  {
   "cell_type": "code",
   "execution_count": null,
   "metadata": {
    "id": "FwHWvOAWsbYn"
   },
   "outputs": [],
   "source": [
    "# enter solution here"
   ]
  },
  {
   "cell_type": "code",
   "execution_count": 35,
   "metadata": {},
   "outputs": [],
   "source": [
    "zeros = np.zeros((4,4))"
   ]
  },
  {
   "cell_type": "code",
   "execution_count": 36,
   "metadata": {},
   "outputs": [
    {
     "data": {
      "text/plain": [
       "array([[0., 0., 0., 0.],\n",
       "       [0., 0., 0., 0.],\n",
       "       [0., 0., 0., 0.],\n",
       "       [0., 0., 0., 0.]])"
      ]
     },
     "execution_count": 36,
     "metadata": {},
     "output_type": "execute_result"
    }
   ],
   "source": [
    "zeros"
   ]
  },
  {
   "cell_type": "markdown",
   "metadata": {
    "id": "wxhpf-uq2B1I"
   },
   "source": [
    "### <a name='10'></a> Exercise 10\n",
    "Create an array of numpy dimensions _10x10_ filled with number 255. Set the data type to _float_.\n",
    "\n",
    "__Expected result:__\n",
    "```\n",
    "array([[255., 255., 255., 255., 255., 255., 255., 255., 255., 255.],\n",
    "       [255., 255., 255., 255., 255., 255., 255., 255., 255., 255.],\n",
    "       [255., 255., 255., 255., 255., 255., 255., 255., 255., 255.],\n",
    "       [255., 255., 255., 255., 255., 255., 255., 255., 255., 255.],\n",
    "       [255., 255., 255., 255., 255., 255., 255., 255., 255., 255.],\n",
    "       [255., 255., 255., 255., 255., 255., 255., 255., 255., 255.],\n",
    "       [255., 255., 255., 255., 255., 255., 255., 255., 255., 255.],\n",
    "       [255., 255., 255., 255., 255., 255., 255., 255., 255., 255.],\n",
    "       [255., 255., 255., 255., 255., 255., 255., 255., 255., 255.],\n",
    "       [255., 255., 255., 255., 255., 255., 255., 255., 255., 255.]])\n",
    "```\n",
    "\n",
    "__Tip:__ Use the _np.ones()_ or _np.full()_ functions."
   ]
  },
  {
   "cell_type": "code",
   "execution_count": null,
   "metadata": {
    "id": "YFc0KW6URsuc"
   },
   "outputs": [],
   "source": [
    "# enter solution here"
   ]
  },
  {
   "cell_type": "code",
   "execution_count": 37,
   "metadata": {},
   "outputs": [
    {
     "data": {
      "text/plain": [
       "array([[1., 1., 1., 1., 1., 1., 1., 1., 1., 1.],\n",
       "       [1., 1., 1., 1., 1., 1., 1., 1., 1., 1.],\n",
       "       [1., 1., 1., 1., 1., 1., 1., 1., 1., 1.],\n",
       "       [1., 1., 1., 1., 1., 1., 1., 1., 1., 1.],\n",
       "       [1., 1., 1., 1., 1., 1., 1., 1., 1., 1.],\n",
       "       [1., 1., 1., 1., 1., 1., 1., 1., 1., 1.],\n",
       "       [1., 1., 1., 1., 1., 1., 1., 1., 1., 1.],\n",
       "       [1., 1., 1., 1., 1., 1., 1., 1., 1., 1.],\n",
       "       [1., 1., 1., 1., 1., 1., 1., 1., 1., 1.],\n",
       "       [1., 1., 1., 1., 1., 1., 1., 1., 1., 1.]])"
      ]
     },
     "execution_count": 37,
     "metadata": {},
     "output_type": "execute_result"
    }
   ],
   "source": [
    "array = np.ones((10,10))\n",
    "array"
   ]
  },
  {
   "cell_type": "code",
   "execution_count": 40,
   "metadata": {},
   "outputs": [],
   "source": [
    "dim = array.shape"
   ]
  },
  {
   "cell_type": "code",
   "execution_count": 41,
   "metadata": {},
   "outputs": [
    {
     "data": {
      "text/plain": [
       "(10, 10)"
      ]
     },
     "execution_count": 41,
     "metadata": {},
     "output_type": "execute_result"
    }
   ],
   "source": [
    "dim"
   ]
  },
  {
   "cell_type": "code",
   "execution_count": 42,
   "metadata": {},
   "outputs": [],
   "source": [
    "array_2 = np.full(dim,255 )"
   ]
  },
  {
   "cell_type": "code",
   "execution_count": 43,
   "metadata": {},
   "outputs": [
    {
     "data": {
      "text/plain": [
       "array([[255, 255, 255, 255, 255, 255, 255, 255, 255, 255],\n",
       "       [255, 255, 255, 255, 255, 255, 255, 255, 255, 255],\n",
       "       [255, 255, 255, 255, 255, 255, 255, 255, 255, 255],\n",
       "       [255, 255, 255, 255, 255, 255, 255, 255, 255, 255],\n",
       "       [255, 255, 255, 255, 255, 255, 255, 255, 255, 255],\n",
       "       [255, 255, 255, 255, 255, 255, 255, 255, 255, 255],\n",
       "       [255, 255, 255, 255, 255, 255, 255, 255, 255, 255],\n",
       "       [255, 255, 255, 255, 255, 255, 255, 255, 255, 255],\n",
       "       [255, 255, 255, 255, 255, 255, 255, 255, 255, 255],\n",
       "       [255, 255, 255, 255, 255, 255, 255, 255, 255, 255]])"
      ]
     },
     "execution_count": 43,
     "metadata": {},
     "output_type": "execute_result"
    }
   ],
   "source": [
    "array_2"
   ]
  },
  {
   "cell_type": "markdown",
   "metadata": {
    "id": "vI1xmtEpdVSs"
   },
   "source": [
    "### <a name='1'></a> Exercise 11\n",
    "Build a one-dimensional numpy array of two-digit numbers.\n",
    "\n",
    "__Expected result:__\n",
    "```\n",
    "array([10, 11, 12, 13, 14, 15, 16, 17, 18, 19, 20, 21, 22, 23, 24, 25, 26,\n",
    "       27, 28, 29, 30, 31, 32, 33, 34, 35, 36, 37, 38, 39, 40, 41, 42, 43,\n",
    "       44, 45, 46, 47, 48, 49, 50, 51, 52, 53, 54, 55, 56, 57, 58, 59, 60,\n",
    "       61, 62, 63, 64, 65, 66, 67, 68, 69, 70, 71, 72, 73, 74, 75, 76, 77,\n",
    "       78, 79, 80, 81, 82, 83, 84, 85, 86, 87, 88, 89, 90, 91, 92, 93, 94,\n",
    "       95, 96, 97, 98, 99])\n",
    "```\n",
    "\n",
    "__Tip:__ Use the _np.arange()_ function.\n"
   ]
  },
  {
   "cell_type": "code",
   "execution_count": null,
   "metadata": {
    "id": "6EVaM-bVd4XW"
   },
   "outputs": [],
   "source": [
    "# enter solution here"
   ]
  },
  {
   "cell_type": "code",
   "execution_count": 46,
   "metadata": {},
   "outputs": [],
   "source": [
    "arranged = np.arange(10,100,1)"
   ]
  },
  {
   "cell_type": "code",
   "execution_count": 47,
   "metadata": {},
   "outputs": [
    {
     "data": {
      "text/plain": [
       "array([10, 11, 12, 13, 14, 15, 16, 17, 18, 19, 20, 21, 22, 23, 24, 25, 26,\n",
       "       27, 28, 29, 30, 31, 32, 33, 34, 35, 36, 37, 38, 39, 40, 41, 42, 43,\n",
       "       44, 45, 46, 47, 48, 49, 50, 51, 52, 53, 54, 55, 56, 57, 58, 59, 60,\n",
       "       61, 62, 63, 64, 65, 66, 67, 68, 69, 70, 71, 72, 73, 74, 75, 76, 77,\n",
       "       78, 79, 80, 81, 82, 83, 84, 85, 86, 87, 88, 89, 90, 91, 92, 93, 94,\n",
       "       95, 96, 97, 98, 99])"
      ]
     },
     "execution_count": 47,
     "metadata": {},
     "output_type": "execute_result"
    }
   ],
   "source": [
    "arranged"
   ]
  },
  {
   "cell_type": "markdown",
   "metadata": {
    "id": "0RWvvmRZd665"
   },
   "source": [
    "### <a name='2'></a> Exercise 12\n",
    "\n",
    "Build the numpy array specified below:\n",
    "\n",
    "```\n",
    "array([[10, 11, 12, 13, 14, 15, 16, 17, 18, 19],\n",
    "       [20, 21, 22, 23, 24, 25, 26, 27, 28, 29],\n",
    "       [30, 31, 32, 33, 34, 35, 36, 37, 38, 39],\n",
    "       [40, 41, 42, 43, 44, 45, 46, 47, 48, 49],\n",
    "       [50, 51, 52, 53, 54, 55, 56, 57, 58, 59],\n",
    "       [60, 61, 62, 63, 64, 65, 66, 67, 68, 69],\n",
    "       [70, 71, 72, 73, 74, 75, 76, 77, 78, 79],\n",
    "       [80, 81, 82, 83, 84, 85, 86, 87, 88, 89],\n",
    "       [90, 91, 92, 93, 94, 95, 96, 97, 98, 99]])\n",
    "```\n",
    "\n",
    "Note that the shape of the array is (9, 10).\n",
    "\n",
    "__Tip:__ Use the _np.arange()_ function and the _np.ndarray.reshape()_ method.\n",
    "\n"
   ]
  },
  {
   "cell_type": "code",
   "execution_count": null,
   "metadata": {
    "id": "az9duDcWeEJa"
   },
   "outputs": [],
   "source": [
    "# enter solution here"
   ]
  },
  {
   "cell_type": "code",
   "execution_count": 48,
   "metadata": {},
   "outputs": [
    {
     "data": {
      "text/plain": [
       "(90,)"
      ]
     },
     "execution_count": 48,
     "metadata": {},
     "output_type": "execute_result"
    }
   ],
   "source": [
    "arranged.shape"
   ]
  },
  {
   "cell_type": "code",
   "execution_count": 53,
   "metadata": {},
   "outputs": [
    {
     "data": {
      "text/plain": [
       "array([[10, 11, 12, 13, 14, 15, 16, 17, 18, 19],\n",
       "       [20, 21, 22, 23, 24, 25, 26, 27, 28, 29],\n",
       "       [30, 31, 32, 33, 34, 35, 36, 37, 38, 39],\n",
       "       [40, 41, 42, 43, 44, 45, 46, 47, 48, 49],\n",
       "       [50, 51, 52, 53, 54, 55, 56, 57, 58, 59],\n",
       "       [60, 61, 62, 63, 64, 65, 66, 67, 68, 69],\n",
       "       [70, 71, 72, 73, 74, 75, 76, 77, 78, 79],\n",
       "       [80, 81, 82, 83, 84, 85, 86, 87, 88, 89],\n",
       "       [90, 91, 92, 93, 94, 95, 96, 97, 98, 99]])"
      ]
     },
     "execution_count": 53,
     "metadata": {},
     "output_type": "execute_result"
    }
   ],
   "source": [
    "arranged.reshape((9,10))"
   ]
  },
  {
   "cell_type": "markdown",
   "metadata": {
    "id": "dNpXvFW9eG_5"
   },
   "source": [
    "### Reminder\n",
    "\n",
    "### Identity matrix:\n",
    "\n",
    "Identity matrix - a square matrix which coefficients are given by the formula:\n",
    "$${\\displaystyle a_{ij}={\\begin{cases}1\\quad {\\text{dla}}\\quad i=j\\\\[2pt]0\\quad {\\text{dla}}\\quad i\\neq j\\end{cases}}}$$\n",
    "\n",
    "#### Examples:\n",
    "${\\displaystyle I_{1}={\\begin{bmatrix}1\\end{bmatrix}},\\;I_{2}={\\begin{bmatrix}1&0\\\\0&1\\end{bmatrix}},\\;I_{3}={\\begin{bmatrix}1&0&0\\\\0&1&0\\\\0&0&1\\end{bmatrix}}}$"
   ]
  },
  {
   "cell_type": "markdown",
   "metadata": {
    "id": "w6KVlc_6eOmZ"
   },
   "source": [
    "### <a name='3'></a> Exercise 13\n",
    "\n",
    "Build a _6x6_ two-dimensional array - identity matrix. Use the _int_ data type.\n",
    "\n",
    "__Expected result:__\n",
    "\n",
    "```\n",
    "array([[1, 0, 0, 0, 0, 0],\n",
    "       [0, 1, 0, 0, 0, 0],\n",
    "       [0, 0, 1, 0, 0, 0],\n",
    "       [0, 0, 0, 1, 0, 0],\n",
    "       [0, 0, 0, 0, 1, 0],\n",
    "       [0, 0, 0, 0, 0, 1]])\n",
    "```\n",
    "__Tip:__ Use the _np.eye()_ function.\n"
   ]
  },
  {
   "cell_type": "code",
   "execution_count": null,
   "metadata": {
    "id": "n1FWPE4KeWjV"
   },
   "outputs": [],
   "source": [
    "# enter solution here"
   ]
  },
  {
   "cell_type": "code",
   "execution_count": 76,
   "metadata": {},
   "outputs": [
    {
     "data": {
      "text/plain": [
       "array([[0., 0., 0., 0., 0., 0.],\n",
       "       [0., 0., 0., 0., 0., 0.],\n",
       "       [0., 0., 0., 0., 0., 0.],\n",
       "       [0., 0., 0., 0., 0., 0.],\n",
       "       [0., 0., 0., 0., 0., 0.],\n",
       "       [0., 0., 0., 0., 0., 0.]])"
      ]
     },
     "execution_count": 76,
     "metadata": {},
     "output_type": "execute_result"
    }
   ],
   "source": [
    "test = np.zeros((6,6))\n",
    "test"
   ]
  },
  {
   "cell_type": "code",
   "execution_count": 88,
   "metadata": {},
   "outputs": [],
   "source": [
    "for i in range(len(test[1])):\n",
    "    for j in range(len(test[0])):\n",
    "        if i == j:\n",
    "            test[i][i] = 1\n",
    "    "
   ]
  },
  {
   "cell_type": "code",
   "execution_count": 89,
   "metadata": {},
   "outputs": [
    {
     "data": {
      "text/plain": [
       "array([[1., 0., 0., 0., 0., 0.],\n",
       "       [0., 1., 0., 0., 0., 0.],\n",
       "       [0., 0., 1., 0., 0., 0.],\n",
       "       [0., 0., 0., 1., 0., 0.],\n",
       "       [0., 0., 0., 0., 1., 0.],\n",
       "       [0., 0., 0., 0., 0., 1.]])"
      ]
     },
     "execution_count": 89,
     "metadata": {},
     "output_type": "execute_result"
    }
   ],
   "source": [
    "test"
   ]
  },
  {
   "cell_type": "code",
   "execution_count": 55,
   "metadata": {},
   "outputs": [],
   "source": [
    "identity = np.eye(6,6)"
   ]
  },
  {
   "cell_type": "code",
   "execution_count": 56,
   "metadata": {},
   "outputs": [
    {
     "data": {
      "text/plain": [
       "array([[1., 0., 0., 0., 0., 0.],\n",
       "       [0., 1., 0., 0., 0., 0.],\n",
       "       [0., 0., 1., 0., 0., 0.],\n",
       "       [0., 0., 0., 1., 0., 0.],\n",
       "       [0., 0., 0., 0., 1., 0.],\n",
       "       [0., 0., 0., 0., 0., 1.]])"
      ]
     },
     "execution_count": 56,
     "metadata": {},
     "output_type": "execute_result"
    }
   ],
   "source": [
    "identity"
   ]
  },
  {
   "cell_type": "markdown",
   "metadata": {
    "id": "SYef7AddeZS6"
   },
   "source": [
    "### <a name='4'></a> Exercise 14\n",
    "\n",
    "Set the random seed to 10. Then build a one-dimensional array consisting of 30 pseudo-randomly generated values from the uniform distribution above the $ [0, 1) $ interval.\n",
    "\n",
    "__Expected result:__\n",
    "\n",
    "```\n",
    "array([0.77132064, 0.02075195, 0.63364823, 0.74880388, 0.49850701,\n",
    "       0.22479665, 0.19806286, 0.76053071, 0.16911084, 0.08833981,\n",
    "       0.68535982, 0.95339335, 0.00394827, 0.51219226, 0.81262096,\n",
    "       0.61252607, 0.72175532, 0.29187607, 0.91777412, 0.71457578,\n",
    "       0.54254437, 0.14217005, 0.37334076, 0.67413362, 0.44183317,\n",
    "       0.43401399, 0.61776698, 0.51313824, 0.65039718, 0.60103895])\n",
    "```\n",
    "__Tip:__ Use the function _np.random.rand()_.\n"
   ]
  },
  {
   "cell_type": "code",
   "execution_count": null,
   "metadata": {
    "id": "g5Zjyp25ecil"
   },
   "outputs": [],
   "source": [
    "# enter solution here"
   ]
  },
  {
   "cell_type": "code",
   "execution_count": 60,
   "metadata": {},
   "outputs": [],
   "source": [
    "def set_random(x):\n",
    "    return np.random.seed(x)"
   ]
  },
  {
   "cell_type": "code",
   "execution_count": 61,
   "metadata": {},
   "outputs": [],
   "source": [
    "set_random(10)"
   ]
  },
  {
   "cell_type": "code",
   "execution_count": 62,
   "metadata": {},
   "outputs": [
    {
     "data": {
      "text/plain": [
       "array([[0.77132064, 0.02075195, 0.63364823, 0.74880388, 0.49850701],\n",
       "       [0.22479665, 0.19806286, 0.76053071, 0.16911084, 0.08833981],\n",
       "       [0.68535982, 0.95339335, 0.00394827, 0.51219226, 0.81262096],\n",
       "       [0.61252607, 0.72175532, 0.29187607, 0.91777412, 0.71457578],\n",
       "       [0.54254437, 0.14217005, 0.37334076, 0.67413362, 0.44183317],\n",
       "       [0.43401399, 0.61776698, 0.51313824, 0.65039718, 0.60103895]])"
      ]
     },
     "execution_count": 62,
     "metadata": {},
     "output_type": "execute_result"
    }
   ],
   "source": [
    "np.random.rand(6,5)"
   ]
  },
  {
   "cell_type": "markdown",
   "metadata": {
    "id": "1N0Oi6UCei3S"
   },
   "source": [
    "### <a name='5'></a> Exercise 15\n",
    "\n",
    "Set the random seed to 20. Then build a two-dimensional array with the shape _(10, 4)_ pseudo-random values generated from the standard normal distribution $ N (0, 1) $.\n",
    "\n",
    "__Expected result:__\n",
    "```\n",
    "array([[ 0.88389311,  0.19586502,  0.35753652, -2.34326191],\n",
    "       [-1.08483259,  0.55969629,  0.93946935, -0.97848104],\n",
    "       [ 0.50309684,  0.40641447,  0.32346101, -0.49341088],\n",
    "       [-0.79201679, -0.84236793, -1.27950266,  0.24571517],\n",
    "       [-0.0441948 ,  1.56763255,  1.05110868,  0.40636843],\n",
    "       [-0.1686461 , -3.18970279,  1.12013226,  1.33277821],\n",
    "       [-0.24333877, -0.13003071, -0.10901737,  1.55618644],\n",
    "       [ 0.12877835, -2.06694872, -0.88549315, -1.10457948],\n",
    "       [ 0.93286635,  2.059838  , -0.93493796, -1.61299022],\n",
    "       [ 0.52706972, -1.55110074,  0.32961334, -1.13652654]])\n",
    "```\n",
    "__Tip:__ Use the function _np.random.randn()_.\n"
   ]
  },
  {
   "cell_type": "code",
   "execution_count": null,
   "metadata": {
    "id": "R7x3j9Txejua"
   },
   "outputs": [],
   "source": [
    "# enter solution here"
   ]
  },
  {
   "cell_type": "code",
   "execution_count": 63,
   "metadata": {},
   "outputs": [],
   "source": [
    "set_random(20)"
   ]
  },
  {
   "cell_type": "code",
   "execution_count": 64,
   "metadata": {},
   "outputs": [
    {
     "data": {
      "text/plain": [
       "array([[ 0.88389311,  0.19586502,  0.35753652, -2.34326191],\n",
       "       [-1.08483259,  0.55969629,  0.93946935, -0.97848104],\n",
       "       [ 0.50309684,  0.40641447,  0.32346101, -0.49341088],\n",
       "       [-0.79201679, -0.84236793, -1.27950266,  0.24571517],\n",
       "       [-0.0441948 ,  1.56763255,  1.05110868,  0.40636843],\n",
       "       [-0.1686461 , -3.18970279,  1.12013226,  1.33277821],\n",
       "       [-0.24333877, -0.13003071, -0.10901737,  1.55618644],\n",
       "       [ 0.12877835, -2.06694872, -0.88549315, -1.10457948],\n",
       "       [ 0.93286635,  2.059838  , -0.93493796, -1.61299022],\n",
       "       [ 0.52706972, -1.55110074,  0.32961334, -1.13652654]])"
      ]
     },
     "execution_count": 64,
     "metadata": {},
     "output_type": "execute_result"
    }
   ],
   "source": [
    "np.random.randn(10,4)"
   ]
  },
  {
   "cell_type": "code",
   "execution_count": null,
   "metadata": {},
   "outputs": [],
   "source": []
  },
  {
   "cell_type": "markdown",
   "metadata": {
    "id": "XNN_2jpie4mh"
   },
   "source": [
    "### <a name='6'></a> Exercise 16\n",
    "Set the random seed to 30. Then build a two-dimensional array with the shape _(10, 4)_ pseudo-random values generated from the normal distribution $ N (100, 5) $.\n",
    "$\\mu=100$   \n",
    "$\\sigma^{2}=5$\n",
    "\n",
    "__Expected result:__\n",
    "```\n",
    "array([[ 97.17349231, 103.41650023,  97.82942436, 101.05220329],\n",
    "       [ 99.7748353 , 100.67930221,  96.14063068, 103.544381  ],\n",
    "       [100.30029631,  97.52499594, 103.52901961, 100.24037271],\n",
    "       [ 98.29153712,  98.2666258 , 103.09437633, 101.70027274],\n",
    "       [ 99.36127721, 101.20382627,  95.34026547, 102.09694365],\n",
    "       [ 99.98708001,  98.95468525,  99.05410904, 102.38025432],\n",
    "       [ 93.50787269, 103.61547679, 103.18753701,  98.51356237],\n",
    "       [102.20256689,  96.19764407,  97.54000366,  97.05813038],\n",
    "       [101.81233513,  97.66380453,  98.45883627,  98.09317768],\n",
    "       [102.48979932,  95.70413391,  98.43161651, 101.89861815]])\n",
    "```\n",
    "__Tip:__ Use the function _np.random.rand()_.\n"
   ]
  },
  {
   "cell_type": "code",
   "execution_count": null,
   "metadata": {
    "id": "4WeO2gcLe7Br"
   },
   "outputs": [],
   "source": [
    "# enter solution here"
   ]
  },
  {
   "cell_type": "code",
   "execution_count": 98,
   "metadata": {},
   "outputs": [],
   "source": [
    "set_random(30)"
   ]
  },
  {
   "cell_type": "code",
   "execution_count": 99,
   "metadata": {},
   "outputs": [
    {
     "data": {
      "text/plain": [
       "array([[ 93.67973668, 107.63952676,  95.14644531, 102.35279808],\n",
       "       [ 99.49651642, 101.51896592,  91.37018786, 107.92547685],\n",
       "       [100.67148297,  94.46572267, 107.89112775, 100.53748971],\n",
       "       [ 96.17976087,  96.12405745, 106.91923583, 103.80192542],\n",
       "       [ 98.57177243, 102.69183738,  89.58051684, 104.68890855],\n",
       "       [ 99.97111002,  97.66260516,  97.8849235 , 105.32241047],\n",
       "       [ 85.48316202, 108.08445187, 107.12754943,  96.67622441],\n",
       "       [104.9250893 ,  91.49767367,  94.49928096,  93.42177955],\n",
       "       [104.05250455,  94.77610813,  96.55385313,  95.73621568],\n",
       "       [105.56736054,  90.39415141,  96.49298791, 104.24543925]])"
      ]
     },
     "execution_count": 99,
     "metadata": {},
     "output_type": "execute_result"
    }
   ],
   "source": [
    "np.random.normal(loc = 100, scale = 5, size = (10,4))"
   ]
  },
  {
   "cell_type": "markdown",
   "metadata": {
    "id": "Jkc8U5OBfBTS"
   },
   "source": [
    "### <a name='7'></a> Exercise 17\n",
    "Iterating by array numpy $ A $ element by element (element-wise) print each element of the array to the console.\n",
    "\n",
    "```\n",
    "A = np.array([[1, 4, 3],\n",
    "              [5, 2, 6]])\n",
    "```\n",
    "\n",
    "__Tip:__ Use the _np.nditer()_ function.\n"
   ]
  },
  {
   "cell_type": "code",
   "execution_count": null,
   "metadata": {
    "id": "zMthtdFGfCRa"
   },
   "outputs": [],
   "source": [
    "# enter solution here"
   ]
  },
  {
   "cell_type": "code",
   "execution_count": 94,
   "metadata": {},
   "outputs": [],
   "source": [
    "A = np.array([[1, 4, 3],\n",
    "              [5, 2, 6]])"
   ]
  },
  {
   "cell_type": "code",
   "execution_count": 96,
   "metadata": {},
   "outputs": [
    {
     "name": "stdout",
     "output_type": "stream",
     "text": [
      "1\n",
      "4\n",
      "3\n",
      "5\n",
      "2\n",
      "6\n"
     ]
    }
   ],
   "source": [
    "for i in np.nditer(A):\n",
    "    print(i)"
   ]
  },
  {
   "cell_type": "markdown",
   "metadata": {
    "id": "DKJz_EsCfHlB"
   },
   "source": [
    "### <a name='8'></a> Exercise 18\n",
    "Create a one-dimensional numpy array (vector) consisting of 11 equally spaced points from the interval $ [0, 1]. $\n",
    "\n",
    "__Expected result:__\n",
    "```\n",
    "array([0. , 0.1, 0.2, 0.3, 0.4, 0.5, 0.6, 0.7, 0.8, 0.9, 1. ])\n",
    "```\n",
    "__Tip:__ Use the _np.linspace()_ function.\n",
    "\n"
   ]
  },
  {
   "cell_type": "code",
   "execution_count": null,
   "metadata": {
    "id": "1_IlLjGTfJMB"
   },
   "outputs": [],
   "source": [
    "# enter solution here"
   ]
  },
  {
   "cell_type": "code",
   "execution_count": 100,
   "metadata": {},
   "outputs": [
    {
     "data": {
      "text/plain": [
       "array([0. , 0.1, 0.2, 0.3, 0.4, 0.5, 0.6, 0.7, 0.8, 0.9, 1. ])"
      ]
     },
     "execution_count": 100,
     "metadata": {},
     "output_type": "execute_result"
    }
   ],
   "source": [
    "np.linspace(0,1, 11)"
   ]
  },
  {
   "cell_type": "code",
   "execution_count": null,
   "metadata": {},
   "outputs": [],
   "source": []
  },
  {
   "cell_type": "markdown",
   "metadata": {
    "id": "UAdzIcgxfNnj"
   },
   "source": [
    "### <a name='9'></a> Exercise 19\n",
    "\n",
    "Set the random seed to 42. Generate a one-dimensional array (vector) containing the possible result from the Big Lotto game.\n",
    "\n",
    "__Expected result:__\n",
    "```\n",
    "array([39, 29, 15, 43,  8, 21])\n",
    "```\n",
    "\n",
    "__Tip:__ The result of the game is a 6-element vector of values from 1 to 49 inclusive.\n",
    "\n"
   ]
  },
  {
   "cell_type": "code",
   "execution_count": null,
   "metadata": {
    "id": "lSrE2PwxfOgy"
   },
   "outputs": [],
   "source": [
    "# enter solution here"
   ]
  },
  {
   "cell_type": "code",
   "execution_count": 105,
   "metadata": {},
   "outputs": [],
   "source": [
    "set_random(42)"
   ]
  },
  {
   "cell_type": "code",
   "execution_count": 106,
   "metadata": {},
   "outputs": [
    {
     "data": {
      "text/plain": [
       "array([[39, 29, 15, 43,  8, 21]])"
      ]
     },
     "execution_count": 106,
     "metadata": {},
     "output_type": "execute_result"
    }
   ],
   "source": [
    "np.random.randint(1,50, size = (1,6))"
   ]
  },
  {
   "cell_type": "markdown",
   "metadata": {
    "id": "FmX1xoLCfTyZ"
   },
   "source": [
    "### <a name='10'></a> Exercise 20\n",
    "Build the two-dimensional _6x6_ size array below:\n",
    "\n",
    "```\n",
    "array([[0, 0, 0, 0, 0, 0],\n",
    "       [0, 1, 0, 0, 0, 0],\n",
    "       [0, 0, 2, 0, 0, 0],\n",
    "       [0, 0, 0, 3, 0, 0],\n",
    "       [0, 0, 0, 0, 4, 0],\n",
    "       [0, 0, 0, 0, 0, 5]])\n",
    "```\n",
    "__Tip:__ Use the _np.diag()_ function.\n",
    "\n"
   ]
  },
  {
   "cell_type": "code",
   "execution_count": 160,
   "metadata": {
    "id": "t1MEOBXDfUnK"
   },
   "outputs": [],
   "source": [
    "# enter solution here"
   ]
  },
  {
   "cell_type": "code",
   "execution_count": 18,
   "metadata": {},
   "outputs": [
    {
     "data": {
      "text/plain": [
       "array([[0, 0, 0, 0, 0, 0],\n",
       "       [0, 1, 0, 0, 0, 0],\n",
       "       [0, 0, 2, 0, 0, 0],\n",
       "       [0, 0, 0, 3, 0, 0],\n",
       "       [0, 0, 0, 0, 4, 0],\n",
       "       [0, 0, 0, 0, 0, 5]])"
      ]
     },
     "execution_count": 18,
     "metadata": {},
     "output_type": "execute_result"
    }
   ],
   "source": [
    "np.diag([0,1,2,3,4,5],k=0)"
   ]
  },
  {
   "cell_type": "code",
   "execution_count": null,
   "metadata": {},
   "outputs": [],
   "source": []
  },
  {
   "cell_type": "markdown",
   "metadata": {
    "id": "a7P_lJHcfnrV"
   },
   "source": [
    "### <a name='1'></a> Exercise 21\n",
    "Generate the following numpy array. Save the array to a binary file named _'array.npy'_ and then load that file back into another variable.\n",
    "\n",
    "```\n",
    "array([[ 0,  1,  2,  3],\n",
    "       [ 4,  5,  6,  7],\n",
    "       [ 8,  9, 10, 11]])\n",
    "```\n",
    "__Tip:__ Use the _np.save()_ and _np.load()_ functions.\n"
   ]
  },
  {
   "cell_type": "code",
   "execution_count": null,
   "metadata": {
    "id": "qtIewTnIfopZ"
   },
   "outputs": [],
   "source": [
    "# enter solution here"
   ]
  },
  {
   "cell_type": "code",
   "execution_count": 117,
   "metadata": {},
   "outputs": [
    {
     "data": {
      "text/plain": [
       "array([[ 0,  1,  2,  3],\n",
       "       [ 4,  5,  6,  7],\n",
       "       [ 8,  9, 10, 11]])"
      ]
     },
     "execution_count": 117,
     "metadata": {},
     "output_type": "execute_result"
    }
   ],
   "source": [
    "save =  np.array([[ 0,  1,  2,  3],\n",
    "                   [ 4,  5,  6,  7],\n",
    "                   [ 8,  9, 10, 11]])\n",
    "\n",
    "save"
   ]
  },
  {
   "cell_type": "code",
   "execution_count": 121,
   "metadata": {},
   "outputs": [],
   "source": [
    "np.save('array.npy',save, allow_pickle=True)"
   ]
  },
  {
   "cell_type": "code",
   "execution_count": 122,
   "metadata": {},
   "outputs": [
    {
     "name": "stdout",
     "output_type": "stream",
     "text": [
      "[[ 0  1  2  3]\n",
      " [ 4  5  6  7]\n",
      " [ 8  9 10 11]]\n"
     ]
    }
   ],
   "source": [
    "with open('array.npy', 'rb') as f:\n",
    "    a  = np.load(f)\n",
    "print(a)"
   ]
  },
  {
   "cell_type": "markdown",
   "metadata": {
    "id": "S_Kj4ym_fr6g"
   },
   "source": [
    "### <a name='2'></a> Exercise 22\n",
    "Generate the following numpy array:\n",
    "```\n",
    "array([[ 0,  1,  2,  3],\n",
    "       [ 4,  5,  6,  7],\n",
    "       [ 8,  9, 10, 11]])\n",
    "```\n",
    "\n",
    "Save the array to a text file named _'array.txt'_ with two decimal places and then load the file back into another variable.\n",
    "\n",
    "__Tip:__ Use the _np.savetxt()_ and _np.loadtxt()_ functions.\n"
   ]
  },
  {
   "cell_type": "code",
   "execution_count": null,
   "metadata": {
    "id": "9mYHUMIaftdI"
   },
   "outputs": [],
   "source": [
    "# enter solution here"
   ]
  },
  {
   "cell_type": "code",
   "execution_count": 123,
   "metadata": {},
   "outputs": [],
   "source": [
    "save_as_text = np.array([[ 0,  1,  2,  3],\n",
    "                       [ 4,  5,  6,  7],\n",
    "                       [ 8,  9, 10, 11]])"
   ]
  },
  {
   "cell_type": "code",
   "execution_count": 124,
   "metadata": {},
   "outputs": [
    {
     "data": {
      "text/plain": [
       "array([[ 0,  1,  2,  3],\n",
       "       [ 4,  5,  6,  7],\n",
       "       [ 8,  9, 10, 11]])"
      ]
     },
     "execution_count": 124,
     "metadata": {},
     "output_type": "execute_result"
    }
   ],
   "source": [
    "save_as_text"
   ]
  },
  {
   "cell_type": "code",
   "execution_count": 128,
   "metadata": {},
   "outputs": [],
   "source": [
    "np.savetxt('array.txt',save_as_text)"
   ]
  },
  {
   "cell_type": "code",
   "execution_count": 130,
   "metadata": {},
   "outputs": [
    {
     "name": "stdout",
     "output_type": "stream",
     "text": [
      "[[ 0.  1.  2.  3.]\n",
      " [ 4.  5.  6.  7.]\n",
      " [ 8.  9. 10. 11.]]\n"
     ]
    }
   ],
   "source": [
    "with open('array.txt', 'rb') as f:\n",
    "    a  = np.loadtxt(f)\n",
    "print(a)"
   ]
  },
  {
   "cell_type": "code",
   "execution_count": null,
   "metadata": {},
   "outputs": [],
   "source": []
  },
  {
   "cell_type": "markdown",
   "metadata": {
    "id": "Sol69Ss6fw4I"
   },
   "source": [
    "### <a name='3'></a> Exercise 23\n",
    "Generate and convert the following numpy array into a list:\n",
    "\n",
    "```\n",
    "array([[ 0,  1,  2,  3],\n",
    "       [ 4,  5,  6,  7],\n",
    "       [ 8,  9, 10, 11]])\n",
    "```\n",
    "__Tip:__ Use the _np.array.tolist()_ method.\n"
   ]
  },
  {
   "cell_type": "code",
   "execution_count": null,
   "metadata": {
    "id": "vPVQzZhHfx4R"
   },
   "outputs": [],
   "source": [
    "# enter solution here"
   ]
  },
  {
   "cell_type": "code",
   "execution_count": 131,
   "metadata": {},
   "outputs": [
    {
     "data": {
      "text/plain": [
       "array([[ 0,  1,  2,  3],\n",
       "       [ 4,  5,  6,  7],\n",
       "       [ 8,  9, 10, 11]])"
      ]
     },
     "execution_count": 131,
     "metadata": {},
     "output_type": "execute_result"
    }
   ],
   "source": [
    "gen = np.array([[ 0,  1,  2,  3],\n",
    "       [ 4,  5,  6,  7],\n",
    "       [ 8,  9, 10, 11]])\n",
    "\n",
    "gen"
   ]
  },
  {
   "cell_type": "code",
   "execution_count": null,
   "metadata": {},
   "outputs": [],
   "source": []
  },
  {
   "cell_type": "code",
   "execution_count": 134,
   "metadata": {},
   "outputs": [
    {
     "data": {
      "text/plain": [
       "[[0, 1, 2, 3], [4, 5, 6, 7], [8, 9, 10, 11]]"
      ]
     },
     "execution_count": 134,
     "metadata": {},
     "output_type": "execute_result"
    }
   ],
   "source": [
    "gen.tolist()"
   ]
  },
  {
   "cell_type": "code",
   "execution_count": null,
   "metadata": {},
   "outputs": [],
   "source": []
  },
  {
   "cell_type": "markdown",
   "metadata": {
    "id": "CjnmStc9f2MI"
   },
   "source": [
    "### <a name='4'></a> Exercise 24\n",
    "The following numpy array is given:\n",
    "```\n",
    "array([[ 0,  1,  2,  3],\n",
    "       [ 4,  5,  6,  7],\n",
    "       [ 8,  9, 10, 11]])\n",
    "```\n",
    "\n",
    "Using the cut operator, transform the array into the following:\n",
    "\n",
    "* swap rows (first with last)\n",
    "\n",
    "```\n",
    "array([[ 8,  9, 10, 11],\n",
    "       [ 4,  5,  6,  7],\n",
    "       [ 0,  1,  2,  3]])\n",
    "```"
   ]
  },
  {
   "cell_type": "code",
   "execution_count": 153,
   "metadata": {
    "id": "JJa62LhOgNRI"
   },
   "outputs": [],
   "source": [
    "# enter solution here"
   ]
  },
  {
   "cell_type": "code",
   "execution_count": 22,
   "metadata": {},
   "outputs": [
    {
     "data": {
      "text/plain": [
       "array([[ 0,  1,  2,  3],\n",
       "       [ 4,  5,  6,  7],\n",
       "       [ 8,  9, 10, 11]])"
      ]
     },
     "execution_count": 22,
     "metadata": {},
     "output_type": "execute_result"
    }
   ],
   "source": [
    "arr = np.array([[ 0,  1,  2,  3],\n",
    "       [ 4,  5,  6,  7],\n",
    "       [ 8,  9, 10, 11]])\n",
    "\n",
    "arr"
   ]
  },
  {
   "cell_type": "code",
   "execution_count": 23,
   "metadata": {},
   "outputs": [
    {
     "data": {
      "text/plain": [
       "array([[ 8,  9, 10, 11],\n",
       "       [ 4,  5,  6,  7],\n",
       "       [ 0,  1,  2,  3]])"
      ]
     },
     "execution_count": 23,
     "metadata": {},
     "output_type": "execute_result"
    }
   ],
   "source": [
    "arr[::-1,0:]"
   ]
  },
  {
   "cell_type": "markdown",
   "metadata": {
    "id": "SC7dOmQLhelB"
   },
   "source": [
    "* swap columns (reverse order)\n",
    "\n",
    "```\n",
    "array([[ 3,  2,  1,  0],\n",
    "       [ 7,  6,  5,  4],\n",
    "       [11, 10,  9,  8]])\n",
    "```"
   ]
  },
  {
   "cell_type": "code",
   "execution_count": 156,
   "metadata": {
    "id": "Hx7nJdcWhfzy"
   },
   "outputs": [],
   "source": [
    "# enter solution here"
   ]
  },
  {
   "cell_type": "code",
   "execution_count": 24,
   "metadata": {},
   "outputs": [
    {
     "data": {
      "text/plain": [
       "array([[ 3,  2,  1,  0],\n",
       "       [ 7,  6,  5,  4],\n",
       "       [11, 10,  9,  8]])"
      ]
     },
     "execution_count": 24,
     "metadata": {},
     "output_type": "execute_result"
    }
   ],
   "source": [
    "arr[0:,::-1]"
   ]
  },
  {
   "cell_type": "markdown",
   "metadata": {
    "id": "5sCqct3Fhm2R"
   },
   "source": [
    "* swapp rows and columns (reverse order)\n",
    "\n",
    "```\n",
    "array([[11, 10,  9,  8],\n",
    "       [ 7,  6,  5,  4],\n",
    "       [ 3,  2,  1,  0]])\n",
    "``` "
   ]
  },
  {
   "cell_type": "code",
   "execution_count": null,
   "metadata": {
    "id": "IpYoHAplhpqw"
   },
   "outputs": [],
   "source": [
    "# enter solution here"
   ]
  },
  {
   "cell_type": "code",
   "execution_count": 25,
   "metadata": {},
   "outputs": [
    {
     "data": {
      "text/plain": [
       "array([[11, 10,  9,  8],\n",
       "       [ 7,  6,  5,  4],\n",
       "       [ 3,  2,  1,  0]])"
      ]
     },
     "execution_count": 25,
     "metadata": {},
     "output_type": "execute_result"
    }
   ],
   "source": [
    "arr[::-1,::-1]"
   ]
  },
  {
   "cell_type": "markdown",
   "metadata": {
    "id": "wMGJQSSDht0Y"
   },
   "source": [
    "### <a name='5'></a> Exercise 25\n",
    "The following numpy array:\n",
    "\n",
    "```\n",
    "array([[1., 1., 1., 1.],\n",
    "       [1., 1., 1., 1.],\n",
    "       [1., 1., 1., 1.],\n",
    "       [1., 1., 1., 1.]])\n",
    "```\n",
    "Transform to array:\n",
    "\n",
    "```\n",
    "array([[0., 0., 0., 0., 0., 0.],\n",
    "       [0., 1., 1., 1., 1., 0.],\n",
    "       [0., 1., 1., 1., 1., 0.],\n",
    "       [0., 1., 1., 1., 1., 0.],\n",
    "       [0., 1., 1., 1., 1., 0.],\n",
    "       [0., 0., 0., 0., 0., 0.]])\n",
    "```\n",
    "\n",
    "__Tip:__ Use the _np.pad()_ function."
   ]
  },
  {
   "cell_type": "code",
   "execution_count": null,
   "metadata": {
    "id": "ZeDUu5O3huro"
   },
   "outputs": [],
   "source": [
    "# enter solution here"
   ]
  },
  {
   "cell_type": "code",
   "execution_count": 26,
   "metadata": {},
   "outputs": [],
   "source": [
    "arr = np.array([[1., 1., 1., 1.],\n",
    "       [1., 1., 1., 1.],\n",
    "       [1., 1., 1., 1.],\n",
    "       [1., 1., 1., 1.]])"
   ]
  },
  {
   "cell_type": "code",
   "execution_count": 27,
   "metadata": {},
   "outputs": [
    {
     "data": {
      "text/plain": [
       "array([[1., 1., 1., 1.],\n",
       "       [1., 1., 1., 1.],\n",
       "       [1., 1., 1., 1.],\n",
       "       [1., 1., 1., 1.]])"
      ]
     },
     "execution_count": 27,
     "metadata": {},
     "output_type": "execute_result"
    }
   ],
   "source": [
    "arr"
   ]
  },
  {
   "cell_type": "code",
   "execution_count": 32,
   "metadata": {},
   "outputs": [
    {
     "data": {
      "text/plain": [
       "array([[0., 0., 0., 0., 0., 0.],\n",
       "       [0., 1., 1., 1., 1., 0.],\n",
       "       [0., 1., 1., 1., 1., 0.],\n",
       "       [0., 1., 1., 1., 1., 0.],\n",
       "       [0., 1., 1., 1., 1., 0.],\n",
       "       [0., 0., 0., 0., 0., 0.]])"
      ]
     },
     "execution_count": 32,
     "metadata": {},
     "output_type": "execute_result"
    }
   ],
   "source": [
    "np.pad(arr,pad_width = (1,1))"
   ]
  },
  {
   "cell_type": "markdown",
   "metadata": {
    "id": "42KJW-6Hh7O4"
   },
   "source": [
    "### <a name='6'></a> Exercise 26\n",
    "The following numpy array:\n",
    "```\n",
    "array([[0, 0, 0, 0, 0, 0],\n",
    "       [0, 0, 0, 0, 0, 0],\n",
    "       [0, 0, 0, 0, 0, 0],\n",
    "       [0, 0, 0, 0, 0, 0],\n",
    "       [0, 0, 0, 0, 0, 0],\n",
    "       [0, 0, 0, 0, 0, 0]])\n",
    "```\n",
    "\n",
    "Transform to array:\n",
    "```\n",
    "array([[10,  0, 10,  0, 10,  0],\n",
    "       [ 5,  0,  5,  0,  5,  0],\n",
    "       [10,  0, 10,  0, 10,  0],\n",
    "       [ 5,  0,  5,  0,  5,  0],\n",
    "       [10,  0, 10,  0, 10,  0],\n",
    "       [ 5,  0,  5,  0,  5,  0]])\n",
    "```\n",
    "\n",
    "__Tip:__ Use the cut operator and assign the appropriate values.\n"
   ]
  },
  {
   "cell_type": "code",
   "execution_count": null,
   "metadata": {
    "id": "UChhZY-uh79M"
   },
   "outputs": [],
   "source": [
    "# enter solution here"
   ]
  },
  {
   "cell_type": "code",
   "execution_count": 40,
   "metadata": {},
   "outputs": [
    {
     "data": {
      "text/plain": [
       "array([[0., 0., 0., 0., 0., 0.],\n",
       "       [0., 0., 0., 0., 0., 0.],\n",
       "       [0., 0., 0., 0., 0., 0.],\n",
       "       [0., 0., 0., 0., 0., 0.],\n",
       "       [0., 0., 0., 0., 0., 0.],\n",
       "       [0., 0., 0., 0., 0., 0.]])"
      ]
     },
     "execution_count": 40,
     "metadata": {},
     "output_type": "execute_result"
    }
   ],
   "source": [
    "arr = np.zeros((6,6))\n",
    "arr"
   ]
  },
  {
   "cell_type": "code",
   "execution_count": 41,
   "metadata": {},
   "outputs": [
    {
     "data": {
      "text/plain": [
       "array([[10.,  0., 10.,  0., 10.,  0.],\n",
       "       [ 0.,  0.,  0.,  0.,  0.,  0.],\n",
       "       [10.,  0., 10.,  0., 10.,  0.],\n",
       "       [ 0.,  0.,  0.,  0.,  0.,  0.],\n",
       "       [10.,  0., 10.,  0., 10.,  0.],\n",
       "       [ 0.,  0.,  0.,  0.,  0.,  0.]])"
      ]
     },
     "execution_count": 41,
     "metadata": {},
     "output_type": "execute_result"
    }
   ],
   "source": [
    "arr[0::2, 0::2]= 10\n",
    "arr"
   ]
  },
  {
   "cell_type": "code",
   "execution_count": 42,
   "metadata": {},
   "outputs": [],
   "source": [
    "arr[1::2,0::2]= 5"
   ]
  },
  {
   "cell_type": "code",
   "execution_count": 43,
   "metadata": {},
   "outputs": [
    {
     "data": {
      "text/plain": [
       "array([[10.,  0., 10.,  0., 10.,  0.],\n",
       "       [ 5.,  0.,  5.,  0.,  5.,  0.],\n",
       "       [10.,  0., 10.,  0., 10.,  0.],\n",
       "       [ 5.,  0.,  5.,  0.,  5.,  0.],\n",
       "       [10.,  0., 10.,  0., 10.,  0.],\n",
       "       [ 5.,  0.,  5.,  0.,  5.,  0.]])"
      ]
     },
     "execution_count": 43,
     "metadata": {},
     "output_type": "execute_result"
    }
   ],
   "source": [
    "arr"
   ]
  },
  {
   "cell_type": "markdown",
   "metadata": {
    "id": "O0xOhVtwiACe"
   },
   "source": [
    "### <a name='7'></a> Exercise 27\n",
    "Combine the following arrays: $ A $ and $ B $ into one array.\n",
    "\n",
    "```\n",
    "A = np.arange(12).reshape(-1, 4)\n",
    "B = np.array([[4, 3, 7, 2],\n",
    "              [0, 5, 2, 6]])\n",
    "```\n",
    "\n",
    "__The expected result:__\n",
    "\n",
    "```\n",
    "array([[ 0,  1,  2,  3],\n",
    "       [ 4,  5,  6,  7],\n",
    "       [ 8,  9, 10, 11],\n",
    "       [ 4,  3,  7,  2],\n",
    "       [ 0,  5,  2,  6]])\n",
    "```\n",
    "\n",
    "__Tip:__ Use the _np.append()_ function.\n"
   ]
  },
  {
   "cell_type": "code",
   "execution_count": null,
   "metadata": {
    "id": "HlJYAxb6iA3m"
   },
   "outputs": [],
   "source": [
    "# enter solution here"
   ]
  },
  {
   "cell_type": "code",
   "execution_count": 183,
   "metadata": {},
   "outputs": [
    {
     "data": {
      "text/plain": [
       "array([[ 0,  1,  2,  3],\n",
       "       [ 4,  5,  6,  7],\n",
       "       [ 8,  9, 10, 11]])"
      ]
     },
     "execution_count": 183,
     "metadata": {},
     "output_type": "execute_result"
    }
   ],
   "source": [
    "A = np.arange(12).reshape(-1, 4)\n",
    "B = np.array([[4, 3, 7, 2],\n",
    "              [0, 5, 2, 6]])\n",
    "\n",
    "A"
   ]
  },
  {
   "cell_type": "code",
   "execution_count": 184,
   "metadata": {},
   "outputs": [
    {
     "data": {
      "text/plain": [
       "array([[4, 3, 7, 2],\n",
       "       [0, 5, 2, 6]])"
      ]
     },
     "execution_count": 184,
     "metadata": {},
     "output_type": "execute_result"
    }
   ],
   "source": [
    "B"
   ]
  },
  {
   "cell_type": "code",
   "execution_count": 192,
   "metadata": {},
   "outputs": [
    {
     "name": "stdout",
     "output_type": "stream",
     "text": [
      "Shape of A (3, 4)\n"
     ]
    }
   ],
   "source": [
    "print('Shape of A', A.shape)"
   ]
  },
  {
   "cell_type": "code",
   "execution_count": 193,
   "metadata": {},
   "outputs": [
    {
     "name": "stdout",
     "output_type": "stream",
     "text": [
      "Shape of B (2, 4)\n"
     ]
    }
   ],
   "source": [
    "print('Shape of B', B.shape)"
   ]
  },
  {
   "cell_type": "code",
   "execution_count": 191,
   "metadata": {},
   "outputs": [
    {
     "data": {
      "text/plain": [
       "array([[ 0,  1,  2,  3],\n",
       "       [ 4,  5,  6,  7],\n",
       "       [ 8,  9, 10, 11],\n",
       "       [ 4,  3,  7,  2],\n",
       "       [ 0,  5,  2,  6]])"
      ]
     },
     "execution_count": 191,
     "metadata": {},
     "output_type": "execute_result"
    }
   ],
   "source": [
    "c  = np.append(A, B, axis = 0)\n",
    "c"
   ]
  },
  {
   "cell_type": "code",
   "execution_count": 196,
   "metadata": {},
   "outputs": [
    {
     "name": "stdout",
     "output_type": "stream",
     "text": [
      "Shape of C (5, 4)\n"
     ]
    }
   ],
   "source": [
    "print('Shape of C', c.shape)"
   ]
  },
  {
   "cell_type": "markdown",
   "metadata": {
    "id": "aRMp4UpqiFqn"
   },
   "source": [
    "### <a name='8'></a> Exercise 28\n",
    "Use the $ A $ and $ B $ arrays below to extract the common elements (intersection) of the arrays.\n",
    "\n",
    "```\n",
    "A = np.arange(8).reshape(-1, 4)\n",
    "B = np.array([[9, 10, 11, 3],\n",
    "              [2, 8, 0, 9]])      \n",
    "```\n",
    "__Tip:__ Use the _np.intersect1d()_ function."
   ]
  },
  {
   "cell_type": "code",
   "execution_count": null,
   "metadata": {
    "id": "IwBiE5XfiGz-"
   },
   "outputs": [],
   "source": [
    "# enter solution here"
   ]
  },
  {
   "cell_type": "code",
   "execution_count": 197,
   "metadata": {},
   "outputs": [
    {
     "data": {
      "text/plain": [
       "array([[0, 1, 2, 3],\n",
       "       [4, 5, 6, 7]])"
      ]
     },
     "execution_count": 197,
     "metadata": {},
     "output_type": "execute_result"
    }
   ],
   "source": [
    "A = np.arange(8).reshape(-1, 4)\n",
    "B = np.array([[9, 10, 11, 3],\n",
    "              [2, 8, 0, 9]]) \n",
    "A"
   ]
  },
  {
   "cell_type": "code",
   "execution_count": 198,
   "metadata": {},
   "outputs": [
    {
     "data": {
      "text/plain": [
       "array([[ 9, 10, 11,  3],\n",
       "       [ 2,  8,  0,  9]])"
      ]
     },
     "execution_count": 198,
     "metadata": {},
     "output_type": "execute_result"
    }
   ],
   "source": [
    "B"
   ]
  },
  {
   "cell_type": "code",
   "execution_count": 200,
   "metadata": {},
   "outputs": [
    {
     "data": {
      "text/plain": [
       "array([0, 2, 3, 9])"
      ]
     },
     "execution_count": 200,
     "metadata": {},
     "output_type": "execute_result"
    }
   ],
   "source": [
    "np.intersect1d(A,B, assume_unique = True)"
   ]
  },
  {
   "cell_type": "code",
   "execution_count": 201,
   "metadata": {},
   "outputs": [
    {
     "data": {
      "text/plain": [
       "array([0, 2, 3])"
      ]
     },
     "execution_count": 201,
     "metadata": {},
     "output_type": "execute_result"
    }
   ],
   "source": [
    "np.intersect1d(A,B)"
   ]
  },
  {
   "cell_type": "markdown",
   "metadata": {
    "id": "DcCFm9wbiMjW"
   },
   "source": [
    "### <a name='9'></a> Exercise 29\n",
    "The following numpy array $ A $ is given.\n",
    "Find the unique values of this array.\n",
    "\n",
    "```\n",
    "A = np.array([[5, 1, 2, 1, 2],\n",
    "              [9, 1, 9, 7, 5],\n",
    "              [4, 1, 5, 7, 9]])\n",
    "```\n",
    "\n",
    "__Tip:__ Use the _np.unique()_ function."
   ]
  },
  {
   "cell_type": "code",
   "execution_count": null,
   "metadata": {
    "id": "iPNc7v7CiNU4"
   },
   "outputs": [],
   "source": [
    "# enter solution here"
   ]
  },
  {
   "cell_type": "code",
   "execution_count": 202,
   "metadata": {},
   "outputs": [],
   "source": [
    "A = np.array([[5, 1, 2, 1, 2],\n",
    "              [9, 1, 9, 7, 5],\n",
    "              [4, 1, 5, 7, 9]])"
   ]
  },
  {
   "cell_type": "code",
   "execution_count": 203,
   "metadata": {},
   "outputs": [
    {
     "data": {
      "text/plain": [
       "array([[5, 1, 2, 1, 2],\n",
       "       [9, 1, 9, 7, 5],\n",
       "       [4, 1, 5, 7, 9]])"
      ]
     },
     "execution_count": 203,
     "metadata": {},
     "output_type": "execute_result"
    }
   ],
   "source": [
    "A"
   ]
  },
  {
   "cell_type": "code",
   "execution_count": 204,
   "metadata": {},
   "outputs": [
    {
     "data": {
      "text/plain": [
       "array([1, 2, 4, 5, 7, 9])"
      ]
     },
     "execution_count": 204,
     "metadata": {},
     "output_type": "execute_result"
    }
   ],
   "source": [
    "np.unique(A)"
   ]
  },
  {
   "cell_type": "markdown",
   "metadata": {
    "id": "gZByuoPAiRsA"
   },
   "source": [
    "### <a name='10'></a> Exercise 30\n",
    "The array below is given:\n",
    "```\n",
    "A = np.array([[0.4, 0.3, 0.3],\n",
    "              [0.1, 0.1, 0.8],\n",
    "              [0.2, 0.5, 0.3]])\n",
    "```\n",
    "Return indexes with maximum values for a given row.\n",
    "\n",
    "__Tip:__ Use the _np.argmax()_ function."
   ]
  },
  {
   "cell_type": "code",
   "execution_count": null,
   "metadata": {
    "id": "eQ4WLEcCiScR"
   },
   "outputs": [],
   "source": [
    "# enter solution here"
   ]
  },
  {
   "cell_type": "code",
   "execution_count": 44,
   "metadata": {},
   "outputs": [
    {
     "data": {
      "text/plain": [
       "array([[0.4, 0.3, 0.3],\n",
       "       [0.1, 0.1, 0.8],\n",
       "       [0.2, 0.5, 0.3]])"
      ]
     },
     "execution_count": 44,
     "metadata": {},
     "output_type": "execute_result"
    }
   ],
   "source": [
    "A = np.array([[0.4, 0.3, 0.3],\n",
    "              [0.1, 0.1, 0.8],\n",
    "              [0.2, 0.5, 0.3]])\n",
    "A"
   ]
  },
  {
   "cell_type": "code",
   "execution_count": 46,
   "metadata": {},
   "outputs": [
    {
     "data": {
      "text/plain": [
       "array([0, 2, 1], dtype=int64)"
      ]
     },
     "execution_count": 46,
     "metadata": {},
     "output_type": "execute_result"
    }
   ],
   "source": [
    "np.argmax(A,axis = 0)"
   ]
  },
  {
   "cell_type": "code",
   "execution_count": 209,
   "metadata": {},
   "outputs": [
    {
     "data": {
      "text/plain": [
       "array([0, 2, 1], dtype=int64)"
      ]
     },
     "execution_count": 209,
     "metadata": {},
     "output_type": "execute_result"
    }
   ],
   "source": [
    "np.argmax(A,axis = 1)"
   ]
  },
  {
   "cell_type": "code",
   "execution_count": 210,
   "metadata": {},
   "outputs": [
    {
     "data": {
      "text/plain": [
       "5"
      ]
     },
     "execution_count": 210,
     "metadata": {},
     "output_type": "execute_result"
    }
   ],
   "source": [
    "np.argmax(A)"
   ]
  },
  {
   "cell_type": "markdown",
   "metadata": {
    "id": "hZg8-irYjmNf"
   },
   "source": [
    "### <a name='1'></a> Exercise 31\n",
    "Sort the array $ A $ below:\n",
    "* by row (ascending)\n",
    "* by column (ascending)\n",
    "\n",
    "```\n",
    "A = np.array([[4.99, 3.49, 9.99],\n",
    "              [1.99, 9.99, 4.99],\n",
    "              [14.99, 2.39, 7.29]])\n",
    "```\n",
    "__Tip:__ Use the _np.sort()_ function.\n"
   ]
  },
  {
   "cell_type": "code",
   "execution_count": null,
   "metadata": {
    "id": "s2hSadfHjnEX"
   },
   "outputs": [],
   "source": [
    "# enter solution here"
   ]
  },
  {
   "cell_type": "code",
   "execution_count": 211,
   "metadata": {},
   "outputs": [
    {
     "data": {
      "text/plain": [
       "array([[ 4.99,  3.49,  9.99],\n",
       "       [ 1.99,  9.99,  4.99],\n",
       "       [14.99,  2.39,  7.29]])"
      ]
     },
     "execution_count": 211,
     "metadata": {},
     "output_type": "execute_result"
    }
   ],
   "source": [
    "A = np.array([[4.99, 3.49, 9.99],\n",
    "              [1.99, 9.99, 4.99],\n",
    "              [14.99, 2.39, 7.29]])\n",
    "A"
   ]
  },
  {
   "cell_type": "code",
   "execution_count": 212,
   "metadata": {},
   "outputs": [
    {
     "data": {
      "text/plain": [
       "array([[ 3.49,  4.99,  9.99],\n",
       "       [ 1.99,  4.99,  9.99],\n",
       "       [ 2.39,  7.29, 14.99]])"
      ]
     },
     "execution_count": 212,
     "metadata": {},
     "output_type": "execute_result"
    }
   ],
   "source": [
    "np.sort(A)"
   ]
  },
  {
   "cell_type": "code",
   "execution_count": null,
   "metadata": {},
   "outputs": [],
   "source": []
  },
  {
   "cell_type": "markdown",
   "metadata": {
    "id": "Peo2HjmUjqkA"
   },
   "source": [
    "### <a name='2'></a> Exercise 32\n",
    "Extract all elements of the $ A $ array with a value greater than 8.\n",
    "```\n",
    "A = np.array([[4.99, 3.49, 9.99],\n",
    "              [1.99, 9.99, 4.99],\n",
    "              [14.99, 2.39, 7.29]])\n",
    "```"
   ]
  },
  {
   "cell_type": "code",
   "execution_count": null,
   "metadata": {
    "id": "Jac26ZVsjtpH"
   },
   "outputs": [],
   "source": [
    "# enter solution here"
   ]
  },
  {
   "cell_type": "code",
   "execution_count": 213,
   "metadata": {},
   "outputs": [
    {
     "data": {
      "text/plain": [
       "array([[ 4.99,  3.49,  9.99],\n",
       "       [ 1.99,  9.99,  4.99],\n",
       "       [14.99,  2.39,  7.29]])"
      ]
     },
     "execution_count": 213,
     "metadata": {},
     "output_type": "execute_result"
    }
   ],
   "source": [
    "A = np.array([[4.99, 3.49, 9.99],\n",
    "              [1.99, 9.99, 4.99],\n",
    "              [14.99, 2.39, 7.29]])\n",
    "A"
   ]
  },
  {
   "cell_type": "code",
   "execution_count": 214,
   "metadata": {},
   "outputs": [
    {
     "name": "stdout",
     "output_type": "stream",
     "text": [
      "Values greater than 8 :  [ 9.99  9.99 14.99]\n"
     ]
    }
   ],
   "source": [
    "print('Values greater than 8 : ', A[A>8])"
   ]
  },
  {
   "cell_type": "markdown",
   "metadata": {
    "id": "Ii4UiYfcj5u3"
   },
   "source": [
    "### <a name='3'></a> Exercise 33\n",
    "The following array $ A $ is given. Replace elements above 10 with a fixed value of 10 (truncation to 10).\n",
    "\n",
    "```\n",
    "A = np.array([[4.99, 3.49, 9.99],\n",
    "              [1.99, 9.99, 14.99],\n",
    "              [14.99, 2.39, 7.29]])\n",
    "```\n",
    "__Tip:__ Use the _np.where()_ function.\n",
    "\n"
   ]
  },
  {
   "cell_type": "code",
   "execution_count": null,
   "metadata": {
    "id": "WaiLTwlIj6-l"
   },
   "outputs": [],
   "source": [
    "# enter solution here"
   ]
  },
  {
   "cell_type": "code",
   "execution_count": 50,
   "metadata": {},
   "outputs": [
    {
     "data": {
      "text/plain": [
       "array([[ 4.99,  3.49,  9.99],\n",
       "       [ 1.99,  9.99, 14.99],\n",
       "       [14.99,  2.39,  7.29]])"
      ]
     },
     "execution_count": 50,
     "metadata": {},
     "output_type": "execute_result"
    }
   ],
   "source": [
    "A = np.array([[4.99, 3.49, 9.99],\n",
    "              [1.99, 9.99, 14.99],\n",
    "              [14.99, 2.39, 7.29]])\n",
    "A"
   ]
  },
  {
   "cell_type": "code",
   "execution_count": 54,
   "metadata": {},
   "outputs": [
    {
     "data": {
      "text/plain": [
       "array([[ 4.99,  3.49,  9.99],\n",
       "       [ 1.99,  9.99, 10.  ],\n",
       "       [10.  ,  2.39,  7.29]])"
      ]
     },
     "execution_count": 54,
     "metadata": {},
     "output_type": "execute_result"
    }
   ],
   "source": [
    "B = np.where(A<10, A, 10 )\n",
    "B"
   ]
  },
  {
   "cell_type": "markdown",
   "metadata": {
    "id": "ViIvcSEij-rG"
   },
   "source": [
    "### <a name='4'></a> Exercise 34\n",
    "Present the following $ A $ two-dimensional array as a \"flattened\" one-dimensional array.\n",
    "```\n",
    "A = np.array([[4.99, 3.49, 9.99],\n",
    "              [1.99, 9.99, 14.99],\n",
    "              [14.99, 2.39, 7.29]])\n",
    "```\n",
    "__Expected result:__\n",
    "```\n",
    "array([ 4.99,  3.49,  9.99,  1.99,  9.99, 14.99, 14.99,  2.39,  7.29])\n",
    "```\n",
    "\n",
    "__Tip:__ Use the _np.ravel()_ function."
   ]
  },
  {
   "cell_type": "code",
   "execution_count": 224,
   "metadata": {
    "id": "6qCMQMxdkBkI"
   },
   "outputs": [],
   "source": [
    "# enter solution here"
   ]
  },
  {
   "cell_type": "code",
   "execution_count": 226,
   "metadata": {},
   "outputs": [
    {
     "data": {
      "text/plain": [
       "array([[ 4.99,  3.49,  9.99],\n",
       "       [ 1.99,  9.99, 14.99],\n",
       "       [14.99,  2.39,  7.29]])"
      ]
     },
     "execution_count": 226,
     "metadata": {},
     "output_type": "execute_result"
    }
   ],
   "source": [
    "A = np.array([[4.99, 3.49, 9.99],\n",
    "              [1.99, 9.99, 14.99],\n",
    "              [14.99, 2.39, 7.29]])\n",
    "A"
   ]
  },
  {
   "cell_type": "code",
   "execution_count": 227,
   "metadata": {},
   "outputs": [
    {
     "data": {
      "text/plain": [
       "array([ 4.99,  3.49,  9.99,  1.99,  9.99, 14.99, 14.99,  2.39,  7.29])"
      ]
     },
     "execution_count": 227,
     "metadata": {},
     "output_type": "execute_result"
    }
   ],
   "source": [
    "np.ravel(A)"
   ]
  },
  {
   "cell_type": "markdown",
   "metadata": {
    "id": "YJ-wBbtwkEn_"
   },
   "source": [
    "### <a name='5'></a> Exercise 35\n",
    "Build an array of the same shape and data type as the $ A $ array and fill it with a constant value of 0.0.\n",
    "\n",
    "```\n",
    "A = np.array([[4.99, 3.49, 9.99],\n",
    "              [1.99, 9.99, 14.99],\n",
    "              [14.99, 2.39, 7.29]])\n",
    "```\n",
    "__Expected result:__\n",
    "```\n",
    "array([[0., 0., 0.],\n",
    "       [0., 0., 0.],\n",
    "       [0., 0., 0.]])\n",
    "```\n",
    "\n",
    "__Tip:__ Use the _np.zeros_like()_ function."
   ]
  },
  {
   "cell_type": "code",
   "execution_count": null,
   "metadata": {
    "id": "6Znu9sB_kF3_"
   },
   "outputs": [],
   "source": [
    "# enter solution here"
   ]
  },
  {
   "cell_type": "markdown",
   "metadata": {},
   "source": [
    "` **Return an array of zeros with the same shape and type as a given array.**\n",
    "`"
   ]
  },
  {
   "cell_type": "code",
   "execution_count": 228,
   "metadata": {},
   "outputs": [
    {
     "data": {
      "text/plain": [
       "array([[ 4.99,  3.49,  9.99],\n",
       "       [ 1.99,  9.99, 14.99],\n",
       "       [14.99,  2.39,  7.29]])"
      ]
     },
     "execution_count": 228,
     "metadata": {},
     "output_type": "execute_result"
    }
   ],
   "source": [
    "A"
   ]
  },
  {
   "cell_type": "code",
   "execution_count": 229,
   "metadata": {},
   "outputs": [
    {
     "data": {
      "text/plain": [
       "array([[0., 0., 0.],\n",
       "       [0., 0., 0.],\n",
       "       [0., 0., 0.]])"
      ]
     },
     "execution_count": 229,
     "metadata": {},
     "output_type": "execute_result"
    }
   ],
   "source": [
    "np.zeros_like(A)"
   ]
  },
  {
   "cell_type": "markdown",
   "metadata": {
    "id": "948S19m_kJvH"
   },
   "source": [
    "### <a name='6'></a> Exercise 36\n",
    "\n",
    "Build an array of the same shape and data type as the $ A $ array and fill it with a constant value of 9.99.\n",
    "\n",
    "```\n",
    "A = np.array([[4.99, 3.49, 9.99],\n",
    "              [1.99, 9.99, 14.99],\n",
    "              [14.99, 2.39, 7.29]])\n",
    "```\n",
    "__Expected result:__\n",
    "\n",
    "```\n",
    "array([[9.99, 9.99, 9.99],\n",
    "       [9.99, 9.99, 9.99],\n",
    "       [9.99, 9.99, 9.99]])\n",
    "```\n",
    "\n",
    "__Tip:__ Use the function _np.full_like()_.\n",
    "\n",
    "\n"
   ]
  },
  {
   "cell_type": "code",
   "execution_count": null,
   "metadata": {
    "id": "WBuGRZHUkKYo"
   },
   "outputs": [],
   "source": [
    "# enter solution here"
   ]
  },
  {
   "cell_type": "markdown",
   "metadata": {},
   "source": [
    "`Return a full array with the same shape and type as a given array.\n",
    "`"
   ]
  },
  {
   "cell_type": "code",
   "execution_count": 231,
   "metadata": {},
   "outputs": [
    {
     "data": {
      "text/plain": [
       "array([[9.99, 9.99, 9.99],\n",
       "       [9.99, 9.99, 9.99],\n",
       "       [9.99, 9.99, 9.99]])"
      ]
     },
     "execution_count": 231,
     "metadata": {},
     "output_type": "execute_result"
    }
   ],
   "source": [
    "np.full_like(A, fill_value=9.99)"
   ]
  },
  {
   "cell_type": "markdown",
   "metadata": {
    "id": "hKth-eu4kNww"
   },
   "source": [
    "### <a name='7'></a> Exercise 37\n",
    "Build a two-dimensional array (lower triangular matrix) below:\n",
    "```\n",
    "array([[1., 0., 0., 0., 0.],\n",
    "       [1., 1., 0., 0., 0.],\n",
    "       [1., 1., 1., 0., 0.],\n",
    "       [1., 1., 1., 1., 0.],\n",
    "       [1., 1., 1., 1., 1.]])\n",
    "```\n",
    "__Tip:__ Use the _np.tri()_ function."
   ]
  },
  {
   "cell_type": "code",
   "execution_count": null,
   "metadata": {
    "id": "4JVxySHlkPgb"
   },
   "outputs": [],
   "source": [
    "# enter solution here"
   ]
  },
  {
   "cell_type": "code",
   "execution_count": 236,
   "metadata": {},
   "outputs": [
    {
     "data": {
      "text/plain": [
       "array([[1., 0., 0., 0., 0.],\n",
       "       [1., 1., 0., 0., 0.],\n",
       "       [1., 1., 1., 0., 0.],\n",
       "       [1., 1., 1., 1., 0.],\n",
       "       [1., 1., 1., 1., 1.]])"
      ]
     },
     "execution_count": 236,
     "metadata": {},
     "output_type": "execute_result"
    }
   ],
   "source": [
    "np.tri(5,5) "
   ]
  },
  {
   "cell_type": "markdown",
   "metadata": {
    "id": "1AIA1ahdkSjn"
   },
   "source": [
    "### <a name='8'></a> Exercise 38\n",
    "Create any $ (2, 3, 4) $ 3-dimensional array."
   ]
  },
  {
   "cell_type": "code",
   "execution_count": null,
   "metadata": {
    "id": "INKW2aDLkTgY"
   },
   "outputs": [],
   "source": [
    "# enter solution here"
   ]
  },
  {
   "cell_type": "code",
   "execution_count": 238,
   "metadata": {},
   "outputs": [
    {
     "data": {
      "text/plain": [
       "array([[[1., 1., 1., 1.],\n",
       "        [1., 1., 1., 1.],\n",
       "        [1., 1., 1., 1.]],\n",
       "\n",
       "       [[1., 1., 1., 1.],\n",
       "        [1., 1., 1., 1.],\n",
       "        [1., 1., 1., 1.]]])"
      ]
     },
     "execution_count": 238,
     "metadata": {},
     "output_type": "execute_result"
    }
   ],
   "source": [
    "np.ones((2,3,4))"
   ]
  },
  {
   "cell_type": "markdown",
   "metadata": {
    "id": "faF96NfdkXif"
   },
   "source": [
    "### <a name='9'></a> Exercise 39\n",
    "Generate a two-dimensional array _(200, 300)_ filled with random values from 0 to 255 (inclusive) with data type _np.uint8_ and assign to the variable _image_."
   ]
  },
  {
   "cell_type": "code",
   "execution_count": null,
   "metadata": {
    "id": "Pg7HnQWqkYnw"
   },
   "outputs": [],
   "source": [
    "# enter solution here"
   ]
  },
  {
   "cell_type": "code",
   "execution_count": 247,
   "metadata": {},
   "outputs": [],
   "source": [
    "arr = np.random.randint(0,256,size =(200,300), dtype=np.uint8)"
   ]
  },
  {
   "cell_type": "markdown",
   "metadata": {
    "id": "_NrOiHfjkia_"
   },
   "source": [
    "Then run the following block of code. As a result, you'll get a preview of the randomly generated black and white image."
   ]
  },
  {
   "cell_type": "code",
   "execution_count": 56,
   "metadata": {
    "id": "qiiMxi1gkjtA"
   },
   "outputs": [],
   "source": [
    "import matplotlib.pyplot as plt"
   ]
  },
  {
   "cell_type": "code",
   "execution_count": 57,
   "metadata": {},
   "outputs": [],
   "source": [
    "def imshow(arr):\n",
    "    %matplotlib inline \n",
    "    plt.imshow(arr, interpolation='nearest')\n",
    "    plt.show()"
   ]
  },
  {
   "cell_type": "code",
   "execution_count": 58,
   "metadata": {},
   "outputs": [
    {
     "data": {
      "image/png": "[encoded data removed]",
      "text/plain": [
       "<Figure size 432x288 with 1 Axes>"
      ]
     },
     "metadata": {
      "needs_background": "light"
     },
     "output_type": "display_data"
    }
   ],
   "source": [
    "\n",
    "%matplotlib inline \n",
    "plt.imshow(arr, interpolation='nearest')\n",
    "plt.show()"
   ]
  },
  {
   "cell_type": "code",
   "execution_count": null,
   "metadata": {},
   "outputs": [],
   "source": []
  },
  {
   "cell_type": "markdown",
   "metadata": {
    "id": "R7YhiWrJkoxf"
   },
   "source": [
    "### <a name='10'></a> Exercise 40\n",
    "Sort the array _image_ from the previous exercise along the row in ascending order. Then display the image with the _cv2_imshow()_ function."
   ]
  },
  {
   "cell_type": "code",
   "execution_count": 59,
   "metadata": {
    "id": "d2113fRYkwvi"
   },
   "outputs": [],
   "source": [
    "# enter solution here"
   ]
  },
  {
   "cell_type": "code",
   "execution_count": 60,
   "metadata": {},
   "outputs": [],
   "source": [
    "arr.sort()"
   ]
  },
  {
   "cell_type": "code",
   "execution_count": 61,
   "metadata": {},
   "outputs": [
    {
     "data": {
      "text/plain": [
       "array([[ 0.,  0.,  0., 10., 10., 10.],\n",
       "       [ 0.,  0.,  0.,  5.,  5.,  5.],\n",
       "       [ 0.,  0.,  0., 10., 10., 10.],\n",
       "       [ 0.,  0.,  0.,  5.,  5.,  5.],\n",
       "       [ 0.,  0.,  0., 10., 10., 10.],\n",
       "       [ 0.,  0.,  0.,  5.,  5.,  5.]])"
      ]
     },
     "execution_count": 61,
     "metadata": {},
     "output_type": "execute_result"
    }
   ],
   "source": [
    "arr"
   ]
  },
  {
   "cell_type": "code",
   "execution_count": 62,
   "metadata": {},
   "outputs": [
    {
     "data": {
      "image/png": "[encoded data removed]",
      "text/plain": [
       "<Figure size 432x288 with 1 Axes>"
      ]
     },
     "metadata": {
      "needs_background": "light"
     },
     "output_type": "display_data"
    }
   ],
   "source": [
    "%matplotlib inline \n",
    "plt.imshow(arr, interpolation='nearest')\n",
    "plt.show()"
   ]
  },
  {
   "cell_type": "markdown",
   "metadata": {
    "id": "eZFJtadRk48m"
   },
   "source": [
    "Sort the array _image_ from the previous exercise along the column in ascending order. Then display the image with the _cv2_imshow()_ function."
   ]
  },
  {
   "cell_type": "code",
   "execution_count": null,
   "metadata": {
    "id": "Afdw4kHBk5se"
   },
   "outputs": [],
   "source": [
    "# enter solution here"
   ]
  },
  {
   "cell_type": "code",
   "execution_count": 63,
   "metadata": {},
   "outputs": [],
   "source": [
    "img = np.sort(arr, axis = 0)"
   ]
  },
  {
   "cell_type": "code",
   "execution_count": 64,
   "metadata": {},
   "outputs": [
    {
     "data": {
      "image/png": "[encoded data removed]",
      "text/plain": [
       "<Figure size 432x288 with 1 Axes>"
      ]
     },
     "metadata": {
      "needs_background": "light"
     },
     "output_type": "display_data"
    }
   ],
   "source": [
    "%matplotlib inline \n",
    "plt.imshow(img, interpolation='nearest')\n",
    "plt.show()"
   ]
  },
  {
   "cell_type": "markdown",
   "metadata": {
    "id": "lysAQpLwl9Pl"
   },
   "source": [
    "### <a name='1'></a> Exercise 41\n",
    "The following array $ A $ with the shape (2, 3) is given.\n",
    "```\n",
    "A = np.array([[4, 2, 1],\n",
    "              [6, 4, 2]])\n",
    "```"
   ]
  },
  {
   "cell_type": "code",
   "execution_count": null,
   "metadata": {
    "id": "DeQN06z_l_H_"
   },
   "outputs": [],
   "source": [
    "# enter solution here"
   ]
  },
  {
   "cell_type": "code",
   "execution_count": 65,
   "metadata": {},
   "outputs": [],
   "source": [
    "A = np.array([[4, 2, 1],\n",
    "              [6, 4, 2]])"
   ]
  },
  {
   "cell_type": "code",
   "execution_count": 66,
   "metadata": {},
   "outputs": [
    {
     "data": {
      "text/plain": [
       "array([[4, 2, 1],\n",
       "       [6, 4, 2]])"
      ]
     },
     "execution_count": 66,
     "metadata": {},
     "output_type": "execute_result"
    }
   ],
   "source": [
    "A"
   ]
  },
  {
   "cell_type": "markdown",
   "metadata": {
    "id": "SJ5VKayzmD5w"
   },
   "source": [
    "* Expand the array $ A $ by one dimension (add a new dimension at the beginning). Expected shape of the output array: _(1, 2, 3)_.\n",
    "\n",
    "__Tip:__ Use the _np.expand_dims()_ function."
   ]
  },
  {
   "cell_type": "code",
   "execution_count": null,
   "metadata": {
    "id": "6NGvg3IfmFu6"
   },
   "outputs": [],
   "source": [
    "# enter solution here"
   ]
  },
  {
   "cell_type": "code",
   "execution_count": 273,
   "metadata": {},
   "outputs": [
    {
     "data": {
      "text/plain": [
       "(2, 3)"
      ]
     },
     "execution_count": 273,
     "metadata": {},
     "output_type": "execute_result"
    }
   ],
   "source": [
    "A.shape"
   ]
  },
  {
   "cell_type": "code",
   "execution_count": 279,
   "metadata": {
    "id": "y7-fc8HVmIgf"
   },
   "outputs": [
    {
     "data": {
      "text/plain": [
       "(1, 2, 3)"
      ]
     },
     "execution_count": 279,
     "metadata": {},
     "output_type": "execute_result"
    }
   ],
   "source": [
    "np.expand_dims(A, axis = 0).shape"
   ]
  },
  {
   "cell_type": "code",
   "execution_count": 280,
   "metadata": {},
   "outputs": [
    {
     "data": {
      "text/plain": [
       "array([[4, 2, 1],\n",
       "       [6, 4, 2]])"
      ]
     },
     "execution_count": 280,
     "metadata": {},
     "output_type": "execute_result"
    }
   ],
   "source": [
    "A"
   ]
  },
  {
   "cell_type": "code",
   "execution_count": 282,
   "metadata": {},
   "outputs": [
    {
     "data": {
      "text/plain": [
       "array([[[4, 2, 1],\n",
       "        [6, 4, 2]]])"
      ]
     },
     "execution_count": 282,
     "metadata": {},
     "output_type": "execute_result"
    }
   ],
   "source": [
    "np.expand_dims(A, axis = 0)"
   ]
  },
  {
   "cell_type": "markdown",
   "metadata": {
    "id": "8pFHSbuHmIFO"
   },
   "source": [
    "* Expand the array $ A $ by one dimension (add a new dimension at the end). Expected shape of the output array: _(2, 3, 1)_.\n",
    "\n",
    "__Tip:__ Use the _np.expand_dims()_ function."
   ]
  },
  {
   "cell_type": "code",
   "execution_count": null,
   "metadata": {
    "id": "dl8SzpbqmJxe"
   },
   "outputs": [],
   "source": [
    "# enter solution here"
   ]
  },
  {
   "cell_type": "code",
   "execution_count": 284,
   "metadata": {},
   "outputs": [
    {
     "data": {
      "text/plain": [
       "(2, 3, 1)"
      ]
     },
     "execution_count": 284,
     "metadata": {},
     "output_type": "execute_result"
    }
   ],
   "source": [
    "np.expand_dims(A, axis = 2).shape"
   ]
  },
  {
   "cell_type": "code",
   "execution_count": 285,
   "metadata": {},
   "outputs": [
    {
     "data": {
      "text/plain": [
       "array([[[4],\n",
       "        [2],\n",
       "        [1]],\n",
       "\n",
       "       [[6],\n",
       "        [4],\n",
       "        [2]]])"
      ]
     },
     "execution_count": 285,
     "metadata": {},
     "output_type": "execute_result"
    }
   ],
   "source": [
    "np.expand_dims(A, axis = 2)"
   ]
  },
  {
   "cell_type": "markdown",
   "metadata": {
    "id": "ZrwkIUrLmOqW"
   },
   "source": [
    "### <a name='2'></a> Exercise 42\n",
    "Generate a three-dimensional array named _image_ with shape _(200, 300, 3)_ filled with random values from 0 to 255 inclusive and data type _np.uint8_."
   ]
  },
  {
   "cell_type": "code",
   "execution_count": null,
   "metadata": {
    "id": "dUf3YxE8mP9m"
   },
   "outputs": [],
   "source": [
    "# enter solution here"
   ]
  },
  {
   "cell_type": "code",
   "execution_count": 67,
   "metadata": {},
   "outputs": [],
   "source": [
    "arr = np.random.randint(0,256,size =(200,300,3), dtype=np.uint8)"
   ]
  },
  {
   "cell_type": "code",
   "execution_count": 68,
   "metadata": {},
   "outputs": [
    {
     "data": {
      "text/plain": [
       "array([[[ 40, 218,  37],\n",
       "        [195, 224,  61],\n",
       "        [195, 215, 106],\n",
       "        ...,\n",
       "        [179, 151, 254],\n",
       "        [158,  86,  93],\n",
       "        [141,  22,  69]],\n",
       "\n",
       "       [[218,   5,  89],\n",
       "        [236, 246,  62],\n",
       "        [ 65, 180, 121],\n",
       "        ...,\n",
       "        [ 96, 116, 201],\n",
       "        [208, 204, 255],\n",
       "        [165, 213, 177]],\n",
       "\n",
       "       [[ 60,  33, 170],\n",
       "        [162,  22, 166],\n",
       "        [ 10,   2,   7],\n",
       "        ...,\n",
       "        [ 78, 235, 199],\n",
       "        [177, 170, 114],\n",
       "        [234, 179, 221]],\n",
       "\n",
       "       ...,\n",
       "\n",
       "       [[113,  34,  37],\n",
       "        [235, 227,  41],\n",
       "        [199, 156, 108],\n",
       "        ...,\n",
       "        [  2, 103, 146],\n",
       "        [248, 238, 194],\n",
       "        [ 77, 202, 115]],\n",
       "\n",
       "       [[201, 100, 143],\n",
       "        [ 73, 229,  66],\n",
       "        [143,  27,   1],\n",
       "        ...,\n",
       "        [  3, 241,  74],\n",
       "        [192,  62, 127],\n",
       "        [165,  34, 163]],\n",
       "\n",
       "       [[ 39,  11,  23],\n",
       "        [189, 111, 179],\n",
       "        [205, 251,  66],\n",
       "        ...,\n",
       "        [  1, 157,  35],\n",
       "        [153,  98, 194],\n",
       "        [ 79, 179, 234]]], dtype=uint8)"
      ]
     },
     "execution_count": 68,
     "metadata": {},
     "output_type": "execute_result"
    }
   ],
   "source": [
    "arr"
   ]
  },
  {
   "cell_type": "markdown",
   "metadata": {
    "id": "BPUVqBTkmV9V"
   },
   "source": [
    "Then run the following block of code. As a result, you'll get a preview of a randomly generated color image."
   ]
  },
  {
   "cell_type": "code",
   "execution_count": 69,
   "metadata": {},
   "outputs": [
    {
     "data": {
      "text/plain": [
       "(200, 300, 3)"
      ]
     },
     "execution_count": 69,
     "metadata": {},
     "output_type": "execute_result"
    }
   ],
   "source": [
    "arr.shape"
   ]
  },
  {
   "cell_type": "code",
   "execution_count": 70,
   "metadata": {
    "id": "FvLM6t6mmYut"
   },
   "outputs": [
    {
     "data": {
      "image/png": "[encoded data removed]",
      "text/plain": [
       "<Figure size 432x288 with 1 Axes>"
      ]
     },
     "metadata": {
      "needs_background": "light"
     },
     "output_type": "display_data"
    }
   ],
   "source": [
    "imshow(arr)"
   ]
  },
  {
   "cell_type": "markdown",
   "metadata": {
    "id": "s08liM_RmbJF"
   },
   "source": [
    "__Note:__ The color image can be saved as a three-dimensional numpy array with the shape: (height, width, channel)."
   ]
  },
  {
   "cell_type": "markdown",
   "metadata": {
    "id": "bg5HYlyvmd2l"
   },
   "source": [
    "### <a name='3'></a> Exercise 43\n",
    "The _image_ array from the previous task is of the shape _(200, 300, 3)_. Follow the instructions:\n",
    "* Extend the _image_ array by one dimension (add a new dimension at the beginning). Expected shape of the output array: _(1, 200, 300, 3)_.\n",
    "\n",
    "__Tip:__ Use the _np.expand_dims()_ function."
   ]
  },
  {
   "cell_type": "code",
   "execution_count": 71,
   "metadata": {
    "id": "SO_RugRGmf5N"
   },
   "outputs": [],
   "source": [
    "# enter solution here"
   ]
  },
  {
   "cell_type": "code",
   "execution_count": 72,
   "metadata": {},
   "outputs": [
    {
     "data": {
      "text/plain": [
       "(1, 200, 300, 3)"
      ]
     },
     "execution_count": 72,
     "metadata": {},
     "output_type": "execute_result"
    }
   ],
   "source": [
    "np.expand_dims(arr, axis = 0).shape"
   ]
  },
  {
   "cell_type": "code",
   "execution_count": 73,
   "metadata": {},
   "outputs": [
    {
     "data": {
      "text/plain": [
       "array([[[[ 40, 218,  37],\n",
       "         [195, 224,  61],\n",
       "         [195, 215, 106],\n",
       "         ...,\n",
       "         [179, 151, 254],\n",
       "         [158,  86,  93],\n",
       "         [141,  22,  69]],\n",
       "\n",
       "        [[218,   5,  89],\n",
       "         [236, 246,  62],\n",
       "         [ 65, 180, 121],\n",
       "         ...,\n",
       "         [ 96, 116, 201],\n",
       "         [208, 204, 255],\n",
       "         [165, 213, 177]],\n",
       "\n",
       "        [[ 60,  33, 170],\n",
       "         [162,  22, 166],\n",
       "         [ 10,   2,   7],\n",
       "         ...,\n",
       "         [ 78, 235, 199],\n",
       "         [177, 170, 114],\n",
       "         [234, 179, 221]],\n",
       "\n",
       "        ...,\n",
       "\n",
       "        [[113,  34,  37],\n",
       "         [235, 227,  41],\n",
       "         [199, 156, 108],\n",
       "         ...,\n",
       "         [  2, 103, 146],\n",
       "         [248, 238, 194],\n",
       "         [ 77, 202, 115]],\n",
       "\n",
       "        [[201, 100, 143],\n",
       "         [ 73, 229,  66],\n",
       "         [143,  27,   1],\n",
       "         ...,\n",
       "         [  3, 241,  74],\n",
       "         [192,  62, 127],\n",
       "         [165,  34, 163]],\n",
       "\n",
       "        [[ 39,  11,  23],\n",
       "         [189, 111, 179],\n",
       "         [205, 251,  66],\n",
       "         ...,\n",
       "         [  1, 157,  35],\n",
       "         [153,  98, 194],\n",
       "         [ 79, 179, 234]]]], dtype=uint8)"
      ]
     },
     "execution_count": 73,
     "metadata": {},
     "output_type": "execute_result"
    }
   ],
   "source": [
    "arr2 = np.expand_dims(arr, axis = 0)\n",
    "arr2"
   ]
  },
  {
   "cell_type": "markdown",
   "metadata": {
    "id": "JaIzI18SmhrN"
   },
   "source": [
    "* Extend the _image_ array by one dimension (add a new dimension at the end). Expected shape of the output array: _(200, 300, 3, 1)_.\n",
    "\n",
    "__Tip:__ Use the _np.expand_dims()_ function."
   ]
  },
  {
   "cell_type": "code",
   "execution_count": 74,
   "metadata": {
    "id": "Ejzaq-qcmk_l"
   },
   "outputs": [],
   "source": [
    "# enter solution here"
   ]
  },
  {
   "cell_type": "code",
   "execution_count": 75,
   "metadata": {},
   "outputs": [
    {
     "data": {
      "text/plain": [
       "(200, 300, 3, 1)"
      ]
     },
     "execution_count": 75,
     "metadata": {},
     "output_type": "execute_result"
    }
   ],
   "source": [
    "np.expand_dims(arr, axis = 3).shape"
   ]
  },
  {
   "cell_type": "code",
   "execution_count": 76,
   "metadata": {},
   "outputs": [
    {
     "data": {
      "text/plain": [
       "array([[[[ 40],\n",
       "         [218],\n",
       "         [ 37]],\n",
       "\n",
       "        [[195],\n",
       "         [224],\n",
       "         [ 61]],\n",
       "\n",
       "        [[195],\n",
       "         [215],\n",
       "         [106]],\n",
       "\n",
       "        ...,\n",
       "\n",
       "        [[179],\n",
       "         [151],\n",
       "         [254]],\n",
       "\n",
       "        [[158],\n",
       "         [ 86],\n",
       "         [ 93]],\n",
       "\n",
       "        [[141],\n",
       "         [ 22],\n",
       "         [ 69]]],\n",
       "\n",
       "\n",
       "       [[[218],\n",
       "         [  5],\n",
       "         [ 89]],\n",
       "\n",
       "        [[236],\n",
       "         [246],\n",
       "         [ 62]],\n",
       "\n",
       "        [[ 65],\n",
       "         [180],\n",
       "         [121]],\n",
       "\n",
       "        ...,\n",
       "\n",
       "        [[ 96],\n",
       "         [116],\n",
       "         [201]],\n",
       "\n",
       "        [[208],\n",
       "         [204],\n",
       "         [255]],\n",
       "\n",
       "        [[165],\n",
       "         [213],\n",
       "         [177]]],\n",
       "\n",
       "\n",
       "       [[[ 60],\n",
       "         [ 33],\n",
       "         [170]],\n",
       "\n",
       "        [[162],\n",
       "         [ 22],\n",
       "         [166]],\n",
       "\n",
       "        [[ 10],\n",
       "         [  2],\n",
       "         [  7]],\n",
       "\n",
       "        ...,\n",
       "\n",
       "        [[ 78],\n",
       "         [235],\n",
       "         [199]],\n",
       "\n",
       "        [[177],\n",
       "         [170],\n",
       "         [114]],\n",
       "\n",
       "        [[234],\n",
       "         [179],\n",
       "         [221]]],\n",
       "\n",
       "\n",
       "       ...,\n",
       "\n",
       "\n",
       "       [[[113],\n",
       "         [ 34],\n",
       "         [ 37]],\n",
       "\n",
       "        [[235],\n",
       "         [227],\n",
       "         [ 41]],\n",
       "\n",
       "        [[199],\n",
       "         [156],\n",
       "         [108]],\n",
       "\n",
       "        ...,\n",
       "\n",
       "        [[  2],\n",
       "         [103],\n",
       "         [146]],\n",
       "\n",
       "        [[248],\n",
       "         [238],\n",
       "         [194]],\n",
       "\n",
       "        [[ 77],\n",
       "         [202],\n",
       "         [115]]],\n",
       "\n",
       "\n",
       "       [[[201],\n",
       "         [100],\n",
       "         [143]],\n",
       "\n",
       "        [[ 73],\n",
       "         [229],\n",
       "         [ 66]],\n",
       "\n",
       "        [[143],\n",
       "         [ 27],\n",
       "         [  1]],\n",
       "\n",
       "        ...,\n",
       "\n",
       "        [[  3],\n",
       "         [241],\n",
       "         [ 74]],\n",
       "\n",
       "        [[192],\n",
       "         [ 62],\n",
       "         [127]],\n",
       "\n",
       "        [[165],\n",
       "         [ 34],\n",
       "         [163]]],\n",
       "\n",
       "\n",
       "       [[[ 39],\n",
       "         [ 11],\n",
       "         [ 23]],\n",
       "\n",
       "        [[189],\n",
       "         [111],\n",
       "         [179]],\n",
       "\n",
       "        [[205],\n",
       "         [251],\n",
       "         [ 66]],\n",
       "\n",
       "        ...,\n",
       "\n",
       "        [[  1],\n",
       "         [157],\n",
       "         [ 35]],\n",
       "\n",
       "        [[153],\n",
       "         [ 98],\n",
       "         [194]],\n",
       "\n",
       "        [[ 79],\n",
       "         [179],\n",
       "         [234]]]], dtype=uint8)"
      ]
     },
     "execution_count": 76,
     "metadata": {},
     "output_type": "execute_result"
    }
   ],
   "source": [
    "arr3 = np.expand_dims(arr, axis = 3)\n",
    "arr3"
   ]
  },
  {
   "cell_type": "markdown",
   "metadata": {
    "id": "DDxI2lm4moeP"
   },
   "source": [
    "### <a name='4'></a> Exercise 44\n",
    "Two randomly generated arrays _image1_ and _image2_ are given.\n",
    "\n",
    "```\n",
    "image1 = np.random.randint(low=0, high=256, size=(200, 300, 3), dtype=np.uint8)\n",
    "image2 = np.random.randint(low=0, high=256, size=(200, 300, 3), dtype=np.uint8)\n",
    "```\n",
    "\n",
    "Expand each of these arrays by adding one dimension at the beginning and then combine the arrays into one called _images_. Expected shape of array: _(2, 200, 300, 3)_.\n",
    "\n"
   ]
  },
  {
   "cell_type": "code",
   "execution_count": 77,
   "metadata": {
    "id": "GthwmDdqmpKV"
   },
   "outputs": [],
   "source": [
    "image1 = np.random.randint(low=0, high=256, size=(200, 300, 3), dtype=np.uint8)\n",
    "image2 = np.random.randint(low=0, high=256, size=(200, 300, 3), dtype=np.uint8)\n",
    "\n",
    "# enter solution here"
   ]
  },
  {
   "cell_type": "code",
   "execution_count": 78,
   "metadata": {},
   "outputs": [
    {
     "data": {
      "text/plain": [
       "array([[[125, 127,  62],\n",
       "        [179,  97,  40],\n",
       "        [183, 180, 215],\n",
       "        ...,\n",
       "        [ 52,  97,  96],\n",
       "        [141, 150,  43],\n",
       "        [  4,   2,  96]],\n",
       "\n",
       "       [[212, 237, 127],\n",
       "        [ 66,  87, 146],\n",
       "        [250,  28,  28],\n",
       "        ...,\n",
       "        [170,  91, 110],\n",
       "        [103, 109, 215],\n",
       "        [155,  97, 179]],\n",
       "\n",
       "       [[ 31, 213,  29],\n",
       "        [ 61,  74, 156],\n",
       "        [ 26, 207,  87],\n",
       "        ...,\n",
       "        [ 19, 136, 104],\n",
       "        [125, 138, 224],\n",
       "        [131, 214, 189]],\n",
       "\n",
       "       ...,\n",
       "\n",
       "       [[236,  61, 230],\n",
       "        [133, 145,  58],\n",
       "        [ 80,  79,  88],\n",
       "        ...,\n",
       "        [158,   1, 237],\n",
       "        [ 26,  39,  13],\n",
       "        [136,  38, 240]],\n",
       "\n",
       "       [[ 52, 195, 134],\n",
       "        [ 49, 214,  71],\n",
       "        [ 22, 128,  15],\n",
       "        ...,\n",
       "        [ 25, 210,  28],\n",
       "        [ 31, 177, 147],\n",
       "        [136,  93, 126]],\n",
       "\n",
       "       [[113, 251,  34],\n",
       "        [246,  54, 108],\n",
       "        [ 32,  51,  45],\n",
       "        ...,\n",
       "        [ 52,  11, 245],\n",
       "        [ 69,  77, 219],\n",
       "        [155,  50, 144]]], dtype=uint8)"
      ]
     },
     "execution_count": 78,
     "metadata": {},
     "output_type": "execute_result"
    }
   ],
   "source": [
    "image1"
   ]
  },
  {
   "cell_type": "code",
   "execution_count": 79,
   "metadata": {},
   "outputs": [
    {
     "data": {
      "text/plain": [
       "array([[[139,   7,  10],\n",
       "        [ 18, 215, 216],\n",
       "        [151, 237, 164],\n",
       "        ...,\n",
       "        [225, 146,  33],\n",
       "        [174,  24,  20],\n",
       "        [249, 124,  88]],\n",
       "\n",
       "       [[ 45, 250, 255],\n",
       "        [177,  22, 224],\n",
       "        [ 17,  52, 160],\n",
       "        ...,\n",
       "        [ 69,  49,  15],\n",
       "        [ 49, 209, 145],\n",
       "        [220, 169, 133]],\n",
       "\n",
       "       [[166, 253,  99],\n",
       "        [  0,  29, 154],\n",
       "        [ 64, 219, 149],\n",
       "        ...,\n",
       "        [137, 129,  90],\n",
       "        [114, 131,  20],\n",
       "        [  7, 107, 112]],\n",
       "\n",
       "       ...,\n",
       "\n",
       "       [[ 46, 245, 231],\n",
       "        [100, 199, 195],\n",
       "        [ 49,  35,  76],\n",
       "        ...,\n",
       "        [ 59,  42, 119],\n",
       "        [187,  83,  92],\n",
       "        [105, 136,  49]],\n",
       "\n",
       "       [[221,   4, 102],\n",
       "        [ 61, 213, 176],\n",
       "        [208,  81, 127],\n",
       "        ...,\n",
       "        [213,  53, 222],\n",
       "        [178, 226, 108],\n",
       "        [113, 113, 122]],\n",
       "\n",
       "       [[122,  98,  74],\n",
       "        [ 83, 125, 187],\n",
       "        [132, 173,  40],\n",
       "        ...,\n",
       "        [250, 136, 101],\n",
       "        [165,  37,  41],\n",
       "        [114,  91, 230]]], dtype=uint8)"
      ]
     },
     "execution_count": 79,
     "metadata": {},
     "output_type": "execute_result"
    }
   ],
   "source": [
    "image2"
   ]
  },
  {
   "cell_type": "code",
   "execution_count": 80,
   "metadata": {},
   "outputs": [
    {
     "name": "stdout",
     "output_type": "stream",
     "text": [
      "shape of Im1: \n",
      "(200, 300, 3)\n",
      "Shape of Im2 : \n",
      "(200, 300, 3)\n"
     ]
    }
   ],
   "source": [
    "print('shape of Im1: ',image1.shape, 'Shape of Im2 : ',image2.shape, sep = '\\n')"
   ]
  },
  {
   "cell_type": "code",
   "execution_count": 81,
   "metadata": {},
   "outputs": [
    {
     "data": {
      "text/plain": [
       "(1, 200, 300, 3)"
      ]
     },
     "execution_count": 81,
     "metadata": {},
     "output_type": "execute_result"
    }
   ],
   "source": [
    "np.expand_dims(image1, axis = 0).shape"
   ]
  },
  {
   "cell_type": "code",
   "execution_count": 82,
   "metadata": {},
   "outputs": [
    {
     "data": {
      "text/plain": [
       "array([[[[125, 127,  62],\n",
       "         [179,  97,  40],\n",
       "         [183, 180, 215],\n",
       "         ...,\n",
       "         [ 52,  97,  96],\n",
       "         [141, 150,  43],\n",
       "         [  4,   2,  96]],\n",
       "\n",
       "        [[212, 237, 127],\n",
       "         [ 66,  87, 146],\n",
       "         [250,  28,  28],\n",
       "         ...,\n",
       "         [170,  91, 110],\n",
       "         [103, 109, 215],\n",
       "         [155,  97, 179]],\n",
       "\n",
       "        [[ 31, 213,  29],\n",
       "         [ 61,  74, 156],\n",
       "         [ 26, 207,  87],\n",
       "         ...,\n",
       "         [ 19, 136, 104],\n",
       "         [125, 138, 224],\n",
       "         [131, 214, 189]],\n",
       "\n",
       "        ...,\n",
       "\n",
       "        [[236,  61, 230],\n",
       "         [133, 145,  58],\n",
       "         [ 80,  79,  88],\n",
       "         ...,\n",
       "         [158,   1, 237],\n",
       "         [ 26,  39,  13],\n",
       "         [136,  38, 240]],\n",
       "\n",
       "        [[ 52, 195, 134],\n",
       "         [ 49, 214,  71],\n",
       "         [ 22, 128,  15],\n",
       "         ...,\n",
       "         [ 25, 210,  28],\n",
       "         [ 31, 177, 147],\n",
       "         [136,  93, 126]],\n",
       "\n",
       "        [[113, 251,  34],\n",
       "         [246,  54, 108],\n",
       "         [ 32,  51,  45],\n",
       "         ...,\n",
       "         [ 52,  11, 245],\n",
       "         [ 69,  77, 219],\n",
       "         [155,  50, 144]]]], dtype=uint8)"
      ]
     },
     "execution_count": 82,
     "metadata": {},
     "output_type": "execute_result"
    }
   ],
   "source": [
    "im1 = np.expand_dims(image1, axis = 0)\n",
    "im1"
   ]
  },
  {
   "cell_type": "code",
   "execution_count": 83,
   "metadata": {},
   "outputs": [
    {
     "data": {
      "text/plain": [
       "(1, 200, 300, 3)"
      ]
     },
     "execution_count": 83,
     "metadata": {},
     "output_type": "execute_result"
    }
   ],
   "source": [
    "np.expand_dims(image2, axis = 0).shape"
   ]
  },
  {
   "cell_type": "code",
   "execution_count": 84,
   "metadata": {},
   "outputs": [
    {
     "data": {
      "text/plain": [
       "array([[[[139,   7,  10],\n",
       "         [ 18, 215, 216],\n",
       "         [151, 237, 164],\n",
       "         ...,\n",
       "         [225, 146,  33],\n",
       "         [174,  24,  20],\n",
       "         [249, 124,  88]],\n",
       "\n",
       "        [[ 45, 250, 255],\n",
       "         [177,  22, 224],\n",
       "         [ 17,  52, 160],\n",
       "         ...,\n",
       "         [ 69,  49,  15],\n",
       "         [ 49, 209, 145],\n",
       "         [220, 169, 133]],\n",
       "\n",
       "        [[166, 253,  99],\n",
       "         [  0,  29, 154],\n",
       "         [ 64, 219, 149],\n",
       "         ...,\n",
       "         [137, 129,  90],\n",
       "         [114, 131,  20],\n",
       "         [  7, 107, 112]],\n",
       "\n",
       "        ...,\n",
       "\n",
       "        [[ 46, 245, 231],\n",
       "         [100, 199, 195],\n",
       "         [ 49,  35,  76],\n",
       "         ...,\n",
       "         [ 59,  42, 119],\n",
       "         [187,  83,  92],\n",
       "         [105, 136,  49]],\n",
       "\n",
       "        [[221,   4, 102],\n",
       "         [ 61, 213, 176],\n",
       "         [208,  81, 127],\n",
       "         ...,\n",
       "         [213,  53, 222],\n",
       "         [178, 226, 108],\n",
       "         [113, 113, 122]],\n",
       "\n",
       "        [[122,  98,  74],\n",
       "         [ 83, 125, 187],\n",
       "         [132, 173,  40],\n",
       "         ...,\n",
       "         [250, 136, 101],\n",
       "         [165,  37,  41],\n",
       "         [114,  91, 230]]]], dtype=uint8)"
      ]
     },
     "execution_count": 84,
     "metadata": {},
     "output_type": "execute_result"
    }
   ],
   "source": [
    "im2 =  np.expand_dims(image2, axis = 0)\n",
    "im2"
   ]
  },
  {
   "cell_type": "code",
   "execution_count": 85,
   "metadata": {},
   "outputs": [],
   "source": [
    "images = np.append(im1,im2, axis = 1)"
   ]
  },
  {
   "cell_type": "code",
   "execution_count": 86,
   "metadata": {},
   "outputs": [
    {
     "data": {
      "text/plain": [
       "(1, 400, 300, 3)"
      ]
     },
     "execution_count": 86,
     "metadata": {},
     "output_type": "execute_result"
    }
   ],
   "source": [
    "images.shape"
   ]
  },
  {
   "cell_type": "code",
   "execution_count": 87,
   "metadata": {},
   "outputs": [
    {
     "data": {
      "text/plain": [
       "array([[[[125, 127,  62],\n",
       "         [179,  97,  40],\n",
       "         [183, 180, 215],\n",
       "         ...,\n",
       "         [ 52,  97,  96],\n",
       "         [141, 150,  43],\n",
       "         [  4,   2,  96]],\n",
       "\n",
       "        [[212, 237, 127],\n",
       "         [ 66,  87, 146],\n",
       "         [250,  28,  28],\n",
       "         ...,\n",
       "         [170,  91, 110],\n",
       "         [103, 109, 215],\n",
       "         [155,  97, 179]],\n",
       "\n",
       "        [[ 31, 213,  29],\n",
       "         [ 61,  74, 156],\n",
       "         [ 26, 207,  87],\n",
       "         ...,\n",
       "         [ 19, 136, 104],\n",
       "         [125, 138, 224],\n",
       "         [131, 214, 189]],\n",
       "\n",
       "        ...,\n",
       "\n",
       "        [[ 46, 245, 231],\n",
       "         [100, 199, 195],\n",
       "         [ 49,  35,  76],\n",
       "         ...,\n",
       "         [ 59,  42, 119],\n",
       "         [187,  83,  92],\n",
       "         [105, 136,  49]],\n",
       "\n",
       "        [[221,   4, 102],\n",
       "         [ 61, 213, 176],\n",
       "         [208,  81, 127],\n",
       "         ...,\n",
       "         [213,  53, 222],\n",
       "         [178, 226, 108],\n",
       "         [113, 113, 122]],\n",
       "\n",
       "        [[122,  98,  74],\n",
       "         [ 83, 125, 187],\n",
       "         [132, 173,  40],\n",
       "         ...,\n",
       "         [250, 136, 101],\n",
       "         [165,  37,  41],\n",
       "         [114,  91, 230]]]], dtype=uint8)"
      ]
     },
     "execution_count": 87,
     "metadata": {},
     "output_type": "execute_result"
    }
   ],
   "source": [
    "images"
   ]
  },
  {
   "cell_type": "markdown",
   "metadata": {
    "id": "_raltlWYm0Al"
   },
   "source": [
    "### <a name='5'></a> Exercise 45\n",
    "From the _images_ array from the previous exercise, extract the first ten rows and the first ten columns from the third channel (index 2) for the first picture."
   ]
  },
  {
   "cell_type": "code",
   "execution_count": null,
   "metadata": {
    "id": "EJS1OCsFm2Pd"
   },
   "outputs": [],
   "source": [
    "# enter solution here"
   ]
  },
  {
   "cell_type": "code",
   "execution_count": 352,
   "metadata": {},
   "outputs": [
    {
     "data": {
      "text/plain": [
       "array([[[[127, 109,  51],\n",
       "         [252,  12, 127],\n",
       "         [ 96,  95,  73],\n",
       "         [ 96,  34,  17],\n",
       "         [ 66, 129, 246],\n",
       "         [  3,  31, 221],\n",
       "         [ 89, 233,  60],\n",
       "         [223, 230,  47],\n",
       "         [218, 225, 210],\n",
       "         [139,  61, 170]],\n",
       "\n",
       "        [[246, 101, 165],\n",
       "         [158,  32, 140],\n",
       "         [213, 224,  36],\n",
       "         [204, 172, 162],\n",
       "         [120, 108,   2],\n",
       "         [ 62, 106, 250],\n",
       "         [147, 192, 138],\n",
       "         [230,  46, 126],\n",
       "         [252,  38, 151],\n",
       "         [ 92, 206,  66]],\n",
       "\n",
       "        [[ 76,  27, 154],\n",
       "         [205, 112, 214],\n",
       "         [223, 204, 150],\n",
       "         [ 94,  57, 205],\n",
       "         [171, 126,  47],\n",
       "         [101, 238,  54],\n",
       "         [165,  94, 121],\n",
       "         [ 42,  25,  40],\n",
       "         [ 68,  79,  77],\n",
       "         [227,  73,  91]],\n",
       "\n",
       "        [[203, 177,  52],\n",
       "         [227,  53, 195],\n",
       "         [112, 109, 150],\n",
       "         [136,  27, 191],\n",
       "         [197, 252, 164],\n",
       "         [246,  19,  55],\n",
       "         [211,  70, 183],\n",
       "         [164, 128,  66],\n",
       "         [ 49,  79, 199],\n",
       "         [216,  39,  26]],\n",
       "\n",
       "        [[195,  92,  98],\n",
       "         [117, 127,  37],\n",
       "         [165, 239, 130],\n",
       "         [201, 102, 209],\n",
       "         [ 33, 120,  30],\n",
       "         [ 33,   9, 210],\n",
       "         [108,  13, 111],\n",
       "         [254, 160, 227],\n",
       "         [ 45, 238, 247],\n",
       "         [129, 205, 148]],\n",
       "\n",
       "        [[ 72, 226, 119],\n",
       "         [ 50,  52, 154],\n",
       "         [  2,  93,  12],\n",
       "         [ 81,  89, 231],\n",
       "         [ 66, 235, 221],\n",
       "         [143,  88, 129],\n",
       "         [ 75, 154, 142],\n",
       "         [197,  56,  32],\n",
       "         [136,   3, 130],\n",
       "         [116, 118,   3]],\n",
       "\n",
       "        [[213,  45, 243],\n",
       "         [210,  39, 211],\n",
       "         [162, 222, 155],\n",
       "         [104,  67,   5],\n",
       "         [ 17,  36, 243],\n",
       "         [ 33, 161, 251],\n",
       "         [ 16,  28,  68],\n",
       "         [135, 193, 191],\n",
       "         [156, 222, 133],\n",
       "         [106, 241, 189]],\n",
       "\n",
       "        [[183, 128,  93],\n",
       "         [ 95, 160,  22],\n",
       "         [101,  51, 188],\n",
       "         [102,  34, 149],\n",
       "         [214, 108, 218],\n",
       "         [ 91, 165, 231],\n",
       "         [  6, 236, 230],\n",
       "         [173, 223,  16],\n",
       "         [ 40, 186,  38],\n",
       "         [254, 244, 195]],\n",
       "\n",
       "        [[188, 136,  14],\n",
       "         [ 75,  94, 100],\n",
       "         [ 24,   9, 161],\n",
       "         [  5,  62, 233],\n",
       "         [ 16,  67,  72],\n",
       "         [ 86, 245,  63],\n",
       "         [221,   1, 197],\n",
       "         [110,  98, 222],\n",
       "         [153,  43, 233],\n",
       "         [ 49, 245, 102]],\n",
       "\n",
       "        [[168,  99,  61],\n",
       "         [196,   2, 235],\n",
       "         [ 22,  68, 242],\n",
       "         [134, 111, 147],\n",
       "         [250,  70,  63],\n",
       "         [ 58, 198, 148],\n",
       "         [121, 148, 127],\n",
       "         [ 53, 231, 143],\n",
       "         [ 48, 132, 146],\n",
       "         [  9, 184, 237]]]], dtype=uint8)"
      ]
     },
     "execution_count": 352,
     "metadata": {},
     "output_type": "execute_result"
    }
   ],
   "source": [
    "images[:2,:10,:10]"
   ]
  },
  {
   "cell_type": "markdown",
   "metadata": {
    "id": "y-zbYXcem4i_"
   },
   "source": [
    "### <a name='6'></a> Exercise 46\n",
    "From the _images_ array extract the first hundred rows and the first hundred columns for the second image from the first channel (index 0) and display using the function _cv2_imshow_."
   ]
  },
  {
   "cell_type": "code",
   "execution_count": null,
   "metadata": {
    "id": "87VcFEvwm61X"
   },
   "outputs": [],
   "source": [
    "# enter solution here"
   ]
  },
  {
   "cell_type": "markdown",
   "metadata": {
    "id": "aD-L9_Nfm7ll"
   },
   "source": [
    "### <a name='7'></a> Exercise 47\n",
    "Below is a preview of the first image from the array _images_ from Exercise 44.\n",
    "\n"
   ]
  },
  {
   "cell_type": "code",
   "execution_count": 363,
   "metadata": {
    "id": "DtLcBq5Om_sU"
   },
   "outputs": [
    {
     "data": {
      "image/png": "[encoded data removed]",
      "text/plain": [
       "<Figure size 432x288 with 1 Axes>"
      ]
     },
     "metadata": {
      "needs_background": "light"
     },
     "output_type": "display_data"
    }
   ],
   "source": [
    "# cv2_imshow(images[0])\n",
    "\n",
    "imshow(images[0])"
   ]
  },
  {
   "cell_type": "markdown",
   "metadata": {
    "id": "l4gawNORnCl1"
   },
   "source": [
    "For the first image from the array _images_, assign for pixels with the index $ [50: 150, 100: 200] $ the value 0 and then display the image."
   ]
  },
  {
   "cell_type": "code",
   "execution_count": null,
   "metadata": {
    "id": "-_lHtEThnE8O"
   },
   "outputs": [],
   "source": [
    "# enter solution here"
   ]
  },
  {
   "cell_type": "markdown",
   "metadata": {
    "id": "OwhmDNAtnHDt"
   },
   "source": [
    "For the second image from the array _images_, assign for the pixel with the index $ [100: 150, 10:150] $ the value 255 and then display the image."
   ]
  },
  {
   "cell_type": "code",
   "execution_count": null,
   "metadata": {
    "id": "2lSgrg0XnJCm"
   },
   "outputs": [],
   "source": [
    "# enter solution here"
   ]
  },
  {
   "cell_type": "markdown",
   "metadata": {
    "id": "I76ZzmFBnOLv"
   },
   "source": [
    "### <a name='8'></a> Exercise 48\n",
    "The following array $ A $ with the shape _(1, 2, 3)_ is given.\n",
    "\n",
    "```\n",
    "A = np.array([[[1, 2, 3],\n",
    "               [6, 3, 2]]])\n",
    "```\n",
    "\n",
    "Remove the unnecessary first dimension and get an array of _(2, 3)_.\n",
    "\n",
    "__Tip:__ Use the _np.squeeze()_ function.\n"
   ]
  },
  {
   "cell_type": "code",
   "execution_count": null,
   "metadata": {
    "id": "oxTXcORcnS7t"
   },
   "outputs": [],
   "source": [
    "# enter solution here"
   ]
  },
  {
   "cell_type": "code",
   "execution_count": 364,
   "metadata": {},
   "outputs": [
    {
     "data": {
      "text/plain": [
       "array([[[1, 2, 3],\n",
       "        [6, 3, 2]]])"
      ]
     },
     "execution_count": 364,
     "metadata": {},
     "output_type": "execute_result"
    }
   ],
   "source": [
    "A = np.array([[[1, 2, 3],\n",
    "               [6, 3, 2]]])\n",
    "A"
   ]
  },
  {
   "cell_type": "code",
   "execution_count": 365,
   "metadata": {},
   "outputs": [
    {
     "data": {
      "text/plain": [
       "(1, 2, 3)"
      ]
     },
     "execution_count": 365,
     "metadata": {},
     "output_type": "execute_result"
    }
   ],
   "source": [
    "A.shape"
   ]
  },
  {
   "cell_type": "code",
   "execution_count": 368,
   "metadata": {},
   "outputs": [
    {
     "data": {
      "text/plain": [
       "array([[1, 2, 3],\n",
       "       [6, 3, 2]])"
      ]
     },
     "execution_count": 368,
     "metadata": {},
     "output_type": "execute_result"
    }
   ],
   "source": [
    "B = np.squeeze(A, axis = 0)\n",
    "B"
   ]
  },
  {
   "cell_type": "code",
   "execution_count": 369,
   "metadata": {},
   "outputs": [
    {
     "data": {
      "text/plain": [
       "(2, 3)"
      ]
     },
     "execution_count": 369,
     "metadata": {},
     "output_type": "execute_result"
    }
   ],
   "source": [
    "B.shape"
   ]
  },
  {
   "cell_type": "markdown",
   "metadata": {
    "id": "UE6TR85AnVHw"
   },
   "source": [
    "### <a name='9'></a> Exercise 49\n",
    "The following array $ A $ with the shape _(4, 1)_ is given.\n",
    "```\n",
    "A = np.array([[0.4],\n",
    "              [0.9],\n",
    "              [0.5],\n",
    "              [0.6]])\n",
    "```\n",
    "Remove the unnecessary dimension and get an array with the shape _(4,)_.\n",
    "\n",
    "__Tip:__ Use the _np.squeeze()_ function."
   ]
  },
  {
   "cell_type": "code",
   "execution_count": null,
   "metadata": {
    "id": "f3FKL5zNnXN9"
   },
   "outputs": [],
   "source": [
    "# enter solution here"
   ]
  },
  {
   "cell_type": "code",
   "execution_count": 370,
   "metadata": {},
   "outputs": [],
   "source": [
    "A = np.array([[0.4],\n",
    "              [0.9],\n",
    "              [0.5],\n",
    "              [0.6]])"
   ]
  },
  {
   "cell_type": "code",
   "execution_count": 371,
   "metadata": {},
   "outputs": [
    {
     "data": {
      "text/plain": [
       "(4, 1)"
      ]
     },
     "execution_count": 371,
     "metadata": {},
     "output_type": "execute_result"
    }
   ],
   "source": [
    "A.shape"
   ]
  },
  {
   "cell_type": "code",
   "execution_count": 372,
   "metadata": {},
   "outputs": [],
   "source": [
    "B = np.squeeze(A, axis = 1)"
   ]
  },
  {
   "cell_type": "code",
   "execution_count": 373,
   "metadata": {},
   "outputs": [
    {
     "data": {
      "text/plain": [
       "array([0.4, 0.9, 0.5, 0.6])"
      ]
     },
     "execution_count": 373,
     "metadata": {},
     "output_type": "execute_result"
    }
   ],
   "source": [
    "B"
   ]
  },
  {
   "cell_type": "code",
   "execution_count": 374,
   "metadata": {},
   "outputs": [
    {
     "data": {
      "text/plain": [
       "(4,)"
      ]
     },
     "execution_count": 374,
     "metadata": {},
     "output_type": "execute_result"
    }
   ],
   "source": [
    "B.shape"
   ]
  },
  {
   "cell_type": "markdown",
   "metadata": {
    "id": "mJC9TYmJna3N"
   },
   "source": [
    "### <a name='10'></a> Exercise 50\n",
    "The first image was extract from the _images_ array as follows:"
   ]
  },
  {
   "cell_type": "code",
   "execution_count": 375,
   "metadata": {
    "id": "Ek2nrrA3ndAH"
   },
   "outputs": [
    {
     "data": {
      "text/plain": [
       "(1, 400, 300, 3)"
      ]
     },
     "execution_count": 375,
     "metadata": {},
     "output_type": "execute_result"
    }
   ],
   "source": [
    "image1 = images[:1]\n",
    "image1.shape"
   ]
  },
  {
   "cell_type": "markdown",
   "metadata": {
    "id": "HLCFWfIWnfHl"
   },
   "source": [
    "Using the knowledge from previous exercises, remove the unnecessary first dimension of the _image1_ array."
   ]
  },
  {
   "cell_type": "code",
   "execution_count": null,
   "metadata": {
    "id": "E4h33cu8nhru"
   },
   "outputs": [],
   "source": [
    "# enter solution here"
   ]
  },
  {
   "cell_type": "code",
   "execution_count": 386,
   "metadata": {},
   "outputs": [],
   "source": [
    "anlkan = np.squeeze(image1)"
   ]
  },
  {
   "cell_type": "code",
   "execution_count": 387,
   "metadata": {},
   "outputs": [
    {
     "data": {
      "text/plain": [
       "(200, 300, 3)"
      ]
     },
     "execution_count": 387,
     "metadata": {},
     "output_type": "execute_result"
    }
   ],
   "source": [
    "anlkan.shape"
   ]
  },
  {
   "cell_type": "code",
   "execution_count": null,
   "metadata": {},
   "outputs": [],
   "source": []
  },
  {
   "cell_type": "markdown",
   "metadata": {
    "id": "aHRw1S7Qnyy0"
   },
   "source": [
    "### <a name='1'></a> Exercise 51\n",
    "Two arrays $ A $ and $ B $ are given below:\n",
    "\n",
    "```\n",
    "A = np.array([[3, 4, 5],\n",
    "              [8, 3, 1]])\n",
    "B = np.array([[0, 5, 2],\n",
    "              [4, 2, 1]])\n",
    "```\n",
    "* Concatenate these arrays as follows:\n",
    "\n",
    "```\n",
    "array([[3, 4, 5],\n",
    "       [8, 3, 1],\n",
    "       [0, 5, 2],\n",
    "       [4, 2, 1]])\n",
    "```\n",
    "\n",
    "__Tip:__ Use the _np.concatenate()_ function."
   ]
  },
  {
   "cell_type": "code",
   "execution_count": null,
   "metadata": {
    "id": "lHP2XXKVnzdG"
   },
   "outputs": [],
   "source": [
    "# enter solution here"
   ]
  },
  {
   "cell_type": "code",
   "execution_count": 388,
   "metadata": {},
   "outputs": [],
   "source": [
    "A = np.array([[3, 4, 5],\n",
    "              [8, 3, 1]])\n",
    "B = np.array([[0, 5, 2],\n",
    "              [4, 2, 1]])"
   ]
  },
  {
   "cell_type": "code",
   "execution_count": 391,
   "metadata": {},
   "outputs": [
    {
     "data": {
      "text/plain": [
       "array([[3, 4, 5],\n",
       "       [8, 3, 1],\n",
       "       [0, 5, 2],\n",
       "       [4, 2, 1]])"
      ]
     },
     "execution_count": 391,
     "metadata": {},
     "output_type": "execute_result"
    }
   ],
   "source": [
    "C = np.concatenate((A,B))\n",
    "C"
   ]
  },
  {
   "cell_type": "markdown",
   "metadata": {
    "id": "S3i_GdIHn4OE"
   },
   "source": [
    "* Concatenate these arrays as follows:\n",
    "\n",
    "```\n",
    "array([[3, 4, 5, 0, 5, 2],\n",
    "       [8, 3, 1, 4, 2, 1]])\n",
    "```\n",
    "__Tip:__ Use the _np.concatenate()_ function."
   ]
  },
  {
   "cell_type": "code",
   "execution_count": null,
   "metadata": {
    "id": "X1tgQWGun6aW"
   },
   "outputs": [],
   "source": [
    "# enter solution here"
   ]
  },
  {
   "cell_type": "code",
   "execution_count": 392,
   "metadata": {},
   "outputs": [
    {
     "data": {
      "text/plain": [
       "array([[3, 4, 5, 0, 5, 2],\n",
       "       [8, 3, 1, 4, 2, 1]])"
      ]
     },
     "execution_count": 392,
     "metadata": {},
     "output_type": "execute_result"
    }
   ],
   "source": [
    "C = np.concatenate((A,B), axis = 1 )\n",
    "C"
   ]
  },
  {
   "cell_type": "markdown",
   "metadata": {
    "id": "2guroH6gn8os"
   },
   "source": [
    "### <a name='2'></a> Exercise 52\n",
    "The first array is given containing the data (_data_) and the second array containing the target class (_target_) for the given row:\n",
    "\n",
    "```\n",
    "data = np.array([[4.3, 4.2],\n",
    "                 [3.1, 3.6]])\n",
    "target = np.array([[0],\n",
    "                   [1]])\n",
    "```"
   ]
  },
  {
   "cell_type": "markdown",
   "metadata": {
    "id": "BRvT5NEqn_r8"
   },
   "source": [
    "Concatenate these arrays into one as shown below:\n",
    "\n",
    "```\n",
    "array([[4.3, 4.2, 0. ],\n",
    "       [3.1, 3.6, 1. ]])\n",
    "```"
   ]
  },
  {
   "cell_type": "code",
   "execution_count": null,
   "metadata": {
    "id": "hu6KVvFJoAod"
   },
   "outputs": [],
   "source": [
    "# enter solution here"
   ]
  },
  {
   "cell_type": "code",
   "execution_count": 393,
   "metadata": {},
   "outputs": [],
   "source": [
    "data = np.array([[4.3, 4.2],\n",
    "                 [3.1, 3.6]])\n",
    "target = np.array([[0],\n",
    "                   [1]])"
   ]
  },
  {
   "cell_type": "code",
   "execution_count": 394,
   "metadata": {},
   "outputs": [
    {
     "data": {
      "text/plain": [
       "array([[4.3, 4.2, 0. ],\n",
       "       [3.1, 3.6, 1. ]])"
      ]
     },
     "execution_count": 394,
     "metadata": {},
     "output_type": "execute_result"
    }
   ],
   "source": [
    "np.concatenate((data, target), axis = 1)"
   ]
  },
  {
   "cell_type": "code",
   "execution_count": null,
   "metadata": {},
   "outputs": [],
   "source": []
  },
  {
   "cell_type": "markdown",
   "metadata": {
    "id": "JgczK-kOoEBF"
   },
   "source": [
    "### <a name='3'></a> Exercise 53\n",
    "The following three one-dimensional arrays are given:\n",
    "```\n",
    "feature1 = np.array([1.6, 0.9, 2.2])\n",
    "feature2 = np.array([0.4, 1.3, 3.2])\n",
    "feature3 = np.array([1.4, 0.3, 1.2])\n",
    "```\n",
    "Transform each of these arrays into a column and concatenate them into one large array.\n",
    "\n",
    "__Expected result:__\n",
    "```\n",
    "array([[1.6, 0.4, 1.4],\n",
    "       [0.9, 1.3, 0.3],\n",
    "       [2.2, 3.2, 1.2]])\n",
    "```\n",
    "__Tip:__ Use the function _np.column_stack()_.\n"
   ]
  },
  {
   "cell_type": "code",
   "execution_count": null,
   "metadata": {
    "id": "OOlaCGGGoGe0"
   },
   "outputs": [],
   "source": [
    "# enter solution here"
   ]
  },
  {
   "cell_type": "code",
   "execution_count": 395,
   "metadata": {},
   "outputs": [],
   "source": [
    "feature1 = np.array([1.6, 0.9, 2.2])\n",
    "feature2 = np.array([0.4, 1.3, 3.2])\n",
    "feature3 = np.array([1.4, 0.3, 1.2])"
   ]
  },
  {
   "cell_type": "code",
   "execution_count": 396,
   "metadata": {},
   "outputs": [
    {
     "data": {
      "text/plain": [
       "array([[1.6, 0.4, 1.4],\n",
       "       [0.9, 1.3, 0.3],\n",
       "       [2.2, 3.2, 1.2]])"
      ]
     },
     "execution_count": 396,
     "metadata": {},
     "output_type": "execute_result"
    }
   ],
   "source": [
    "np.column_stack((feature1, feature2, feature3))"
   ]
  },
  {
   "cell_type": "code",
   "execution_count": null,
   "metadata": {},
   "outputs": [],
   "source": []
  },
  {
   "cell_type": "code",
   "execution_count": null,
   "metadata": {},
   "outputs": [],
   "source": []
  },
  {
   "cell_type": "markdown",
   "metadata": {
    "id": "C3G2XiVaoI-M"
   },
   "source": [
    "### <a name='4'></a> Exercise 54 -- > Question not Understood\n",
    "The following two-dimensional array is given:\n",
    "```\n",
    "A = np.random.randint(low=0, high=7, size=(5, 8))\n",
    "A[:, :2] = 0\n",
    "A[:, -2:] = 1\n",
    "A\n",
    "```\n",
    "```\n",
    "array([[0, 0, 4, 6, 2, 4, 1, 1],\n",
    "       [0, 0, 6, 2, 2, 4, 1, 1],\n",
    "       [0, 0, 1, 3, 5, 5, 1, 1],\n",
    "       [0, 0, 3, 1, 5, 4, 1, 1],\n",
    "       [0, 0, 2, 6, 1, 3, 1, 1]])\n",
    "```\n",
    "Split an array into three parts so that the first two columns formed the first array $ A1 $, four consecutive second array $ A2 $ and the last two third array $ A3 $.\n",
    "\n",
    "__Tip:__ Use the function _np.split()_."
   ]
  },
  {
   "cell_type": "code",
   "execution_count": null,
   "metadata": {
    "id": "sIO7agWkoLXk"
   },
   "outputs": [],
   "source": [
    "# enter solution here"
   ]
  },
  {
   "cell_type": "code",
   "execution_count": 399,
   "metadata": {},
   "outputs": [
    {
     "data": {
      "text/plain": [
       "array([[3, 4, 0, 1, 2, 3, 4, 5],\n",
       "       [6, 0, 1, 6, 6, 1, 4, 4],\n",
       "       [0, 3, 5, 2, 1, 1, 2, 6],\n",
       "       [6, 3, 6, 5, 5, 6, 3, 4],\n",
       "       [3, 2, 4, 5, 6, 3, 0, 4]])"
      ]
     },
     "execution_count": 399,
     "metadata": {},
     "output_type": "execute_result"
    }
   ],
   "source": [
    "A = np.random.randint(low=0, high=7, size=(5, 8))\n",
    "A"
   ]
  },
  {
   "cell_type": "code",
   "execution_count": 400,
   "metadata": {},
   "outputs": [
    {
     "data": {
      "text/plain": [
       "array([[0, 0, 0, 1, 2, 3, 4, 5],\n",
       "       [0, 0, 1, 6, 6, 1, 4, 4],\n",
       "       [0, 0, 5, 2, 1, 1, 2, 6],\n",
       "       [0, 0, 6, 5, 5, 6, 3, 4],\n",
       "       [0, 0, 4, 5, 6, 3, 0, 4]])"
      ]
     },
     "execution_count": 400,
     "metadata": {},
     "output_type": "execute_result"
    }
   ],
   "source": [
    "A[:, :2] = 0\n",
    "A"
   ]
  },
  {
   "cell_type": "code",
   "execution_count": 401,
   "metadata": {},
   "outputs": [
    {
     "data": {
      "text/plain": [
       "array([[0, 0, 0, 1, 2, 3, 1, 1],\n",
       "       [0, 0, 1, 6, 6, 1, 1, 1],\n",
       "       [0, 0, 5, 2, 1, 1, 1, 1],\n",
       "       [0, 0, 6, 5, 5, 6, 1, 1],\n",
       "       [0, 0, 4, 5, 6, 3, 1, 1]])"
      ]
     },
     "execution_count": 401,
     "metadata": {},
     "output_type": "execute_result"
    }
   ],
   "source": [
    "A[:, -2:] = 1\n",
    "A"
   ]
  },
  {
   "cell_type": "code",
   "execution_count": null,
   "metadata": {},
   "outputs": [],
   "source": []
  },
  {
   "cell_type": "code",
   "execution_count": null,
   "metadata": {},
   "outputs": [],
   "source": []
  },
  {
   "cell_type": "code",
   "execution_count": null,
   "metadata": {},
   "outputs": [],
   "source": []
  },
  {
   "cell_type": "code",
   "execution_count": null,
   "metadata": {},
   "outputs": [],
   "source": []
  },
  {
   "cell_type": "code",
   "execution_count": null,
   "metadata": {},
   "outputs": [],
   "source": []
  },
  {
   "cell_type": "markdown",
   "metadata": {
    "id": "vSPaRxz1oNqk"
   },
   "source": [
    "### <a name='5'></a> Exercise 55\n",
    "The following numpy array $ A $ is given:\n",
    "\n",
    "```\n",
    "A = np.random.randint(low=0, high=2, size=(10, 6))\n",
    "```\n",
    "\n",
    "Calculate the total number of non-zero elements for this array.\n",
    "\n",
    "__Tip:__ Use the function _np.count_nonzero()_.\n"
   ]
  },
  {
   "cell_type": "code",
   "execution_count": null,
   "metadata": {
    "id": "k2G--9xYoOeX"
   },
   "outputs": [],
   "source": [
    "# enter solution here"
   ]
  },
  {
   "cell_type": "code",
   "execution_count": 402,
   "metadata": {},
   "outputs": [
    {
     "data": {
      "text/plain": [
       "array([[1, 1, 1, 0, 0, 0],\n",
       "       [1, 0, 0, 1, 1, 0],\n",
       "       [0, 0, 0, 0, 0, 0],\n",
       "       [1, 0, 1, 0, 0, 0],\n",
       "       [1, 1, 0, 0, 1, 1],\n",
       "       [1, 0, 1, 1, 0, 0],\n",
       "       [0, 1, 1, 1, 0, 0],\n",
       "       [1, 1, 0, 0, 0, 1],\n",
       "       [1, 1, 1, 1, 0, 1],\n",
       "       [0, 0, 1, 1, 1, 0]])"
      ]
     },
     "execution_count": 402,
     "metadata": {},
     "output_type": "execute_result"
    }
   ],
   "source": [
    "A = np.random.randint(low=0, high=2, size=(10, 6))\n",
    "A"
   ]
  },
  {
   "cell_type": "code",
   "execution_count": 406,
   "metadata": {},
   "outputs": [
    {
     "data": {
      "text/plain": [
       "array([3, 3, 0, 2, 4, 3, 3, 3, 5, 3], dtype=int64)"
      ]
     },
     "execution_count": 406,
     "metadata": {},
     "output_type": "execute_result"
    }
   ],
   "source": [
    "np.count_nonzero(A, axis = 1)"
   ]
  },
  {
   "cell_type": "markdown",
   "metadata": {
    "id": "SmvPMrYeoRbM"
   },
   "source": [
    "Calculate the total number of non-zero elements for each row in this array.\n",
    "\n",
    "__Tip:__ Use the function _np.count_nonzero()_."
   ]
  },
  {
   "cell_type": "code",
   "execution_count": null,
   "metadata": {
    "id": "AGRmPBksoR-E"
   },
   "outputs": [],
   "source": [
    "# enter solution here"
   ]
  },
  {
   "cell_type": "code",
   "execution_count": 407,
   "metadata": {},
   "outputs": [
    {
     "data": {
      "text/plain": [
       "array([7, 5, 6, 5, 3, 3], dtype=int64)"
      ]
     },
     "execution_count": 407,
     "metadata": {},
     "output_type": "execute_result"
    }
   ],
   "source": [
    "np.count_nonzero(A, axis = 0)"
   ]
  },
  {
   "cell_type": "markdown",
   "metadata": {
    "id": "moRv0TcxoVRE"
   },
   "source": [
    "### <a name='6'></a> Exercise 56\n",
    "An example numpy array $ A $ is given below:\n",
    "\n",
    "```\n",
    "A = np.random.randn(10, 4)\n",
    "```\n",
    "\n",
    "```\n",
    "array([[-0.53441645, -1.49505387, -0.78925833,  0.74371128],\n",
    "       [-0.21216142, -0.42686879,  0.50144833,  1.15818665],\n",
    "       [ 0.25711687,  0.3145129 ,  1.37186213,  0.17555329],\n",
    "       [-0.30928855,  0.6731255 , -0.25663018, -0.36782572],\n",
    "       [ 1.27373362, -0.29195267, -2.65517605,  0.34551794],\n",
    "       [-0.39551645, -0.28913686,  0.45293633, -0.16606091],\n",
    "       [ 0.21493883, -2.02231493, -0.94305681,  1.40395874],\n",
    "       [-0.0185508 , -1.67350462, -1.07253183, -0.99258618],\n",
    "       [ 0.10234768, -0.43260928, -0.6591823 ,  0.0039373 ],\n",
    "       [ 0.4777541 , -0.25902864, -0.57470921, -0.42149822]])\n",
    "```\n",
    "\n",
    "Set the numpy library option to print arrays with specified precision. Set its value to 4 and print the $ A $ array."
   ]
  },
  {
   "cell_type": "code",
   "execution_count": null,
   "metadata": {
    "id": "sWSp_u2VoXFM"
   },
   "outputs": [],
   "source": [
    "# enter solution here"
   ]
  },
  {
   "cell_type": "code",
   "execution_count": 415,
   "metadata": {},
   "outputs": [
    {
     "data": {
      "text/plain": [
       "array([[-0.845 ,  0.6556,  0.278 ,  0.2133],\n",
       "       [-0.3964,  0.6842, -0.817 , -1.3613],\n",
       "       [-0.609 , -0.2463,  0.743 , -0.5919],\n",
       "       [-1.1744, -0.6648,  0.4159, -0.115 ],\n",
       "       [-1.4044,  0.5481, -0.4195,  0.1265],\n",
       "       [-1.1403, -0.3923, -1.3807,  0.848 ],\n",
       "       [ 1.209 ,  1.0112, -0.6334,  0.5491],\n",
       "       [-1.3704,  0.082 , -1.3324,  1.9598],\n",
       "       [-0.1129, -0.9825, -0.003 , -1.37  ],\n",
       "       [-0.3075,  1.2402,  1.2349, -1.4823]])"
      ]
     },
     "execution_count": 415,
     "metadata": {},
     "output_type": "execute_result"
    }
   ],
   "source": [
    "A = np.random.randn(10, 4)\n",
    "A"
   ]
  },
  {
   "cell_type": "code",
   "execution_count": 416,
   "metadata": {},
   "outputs": [
    {
     "name": "stdout",
     "output_type": "stream",
     "text": [
      "[[-0.845   0.6556  0.278   0.2133]\n",
      " [-0.3964  0.6842 -0.817  -1.3613]\n",
      " [-0.609  -0.2463  0.743  -0.5919]\n",
      " [-1.1744 -0.6648  0.4159 -0.115 ]\n",
      " [-1.4044  0.5481 -0.4195  0.1265]\n",
      " [-1.1403 -0.3923 -1.3807  0.848 ]\n",
      " [ 1.209   1.0112 -0.6334  0.5491]\n",
      " [-1.3704  0.082  -1.3324  1.9598]\n",
      " [-0.1129 -0.9825 -0.003  -1.37  ]\n",
      " [-0.3075  1.2402  1.2349 -1.4823]]\n"
     ]
    }
   ],
   "source": [
    "np.set_printoptions(suppress=True, precision=4)\n",
    "print(A)"
   ]
  },
  {
   "cell_type": "markdown",
   "metadata": {
    "id": "a7u7TuXEoaV7"
   },
   "source": [
    "### <a name='7'></a> Exercise 57\n",
    "\n",
    "The following numpy array $ A $ is given:\n",
    "\n",
    "```\n",
    "A = np.array([1.2e-6, 1.7e-7])\n",
    "```\n",
    "Set the precision value to 8. Then set the appropriate numpy library option to suppress mathematical notation. Print the array $ A $.\n",
    "\n",
    "__Expected result:__\n",
    "```\n",
    "array([0.0000012 , 0.00000017])\n",
    "```\n"
   ]
  },
  {
   "cell_type": "code",
   "execution_count": null,
   "metadata": {
    "id": "57JZJCOEodDU"
   },
   "outputs": [],
   "source": [
    "# enter solution here"
   ]
  },
  {
   "cell_type": "code",
   "execution_count": 417,
   "metadata": {},
   "outputs": [
    {
     "data": {
      "text/plain": [
       "array([0., 0.])"
      ]
     },
     "execution_count": 417,
     "metadata": {},
     "output_type": "execute_result"
    }
   ],
   "source": [
    "\n",
    "A = np.array([1.2e-6, 1.7e-7])\n",
    "A"
   ]
  },
  {
   "cell_type": "code",
   "execution_count": 420,
   "metadata": {},
   "outputs": [
    {
     "name": "stdout",
     "output_type": "stream",
     "text": [
      "[0.0000012  0.00000017]\n"
     ]
    }
   ],
   "source": [
    "np.set_printoptions(suppress=True, precision=8)\n",
    "print(A)"
   ]
  },
  {
   "cell_type": "markdown",
   "metadata": {
    "id": "vj7caAz0ofTT"
   },
   "source": [
    "### <a name='8'></a> Exercise 58\n",
    "The following numpy array $ A $ is given:\n",
    "```\n",
    "A = np.random.randn(8, 4)\n",
    "```\n",
    "Remove the third column from the $ A $ array.\n",
    "\n",
    "__Expected result:__\n",
    "```\n",
    "array([[-0.55692881, -0.66003196,  0.70856031],\n",
    "       [ 0.22378737, -0.19796576, -0.16889332],\n",
    "       [ 0.26062786,  0.29865445, -0.92259267],\n",
    "       [-2.40317659,  1.79961876, -1.96495796],\n",
    "       [ 0.13051561, -1.7085185 ,  0.54885043],\n",
    "       [ 1.77268727,  0.38751181, -0.05141955],\n",
    "       [-1.80858596, -0.45075211,  0.15332866],\n",
    "       [ 1.94218961, -1.93679529, -1.83350954]])\n",
    "```\n",
    "__Tip:__ Use the _np.delete()_ function.\n"
   ]
  },
  {
   "cell_type": "code",
   "execution_count": null,
   "metadata": {
    "id": "OAdX3gE7ohzL"
   },
   "outputs": [],
   "source": [
    "# enter solution here"
   ]
  },
  {
   "cell_type": "code",
   "execution_count": 421,
   "metadata": {},
   "outputs": [
    {
     "data": {
      "text/plain": [
       "array([[-0.38599463, -0.21008422, -1.1122266 ,  1.81659407],\n",
       "       [-0.22870294, -0.02601583,  1.64588147, -1.17580078],\n",
       "       [-0.64916479, -0.33878467,  0.85078142, -0.40990209],\n",
       "       [-0.89250006,  1.08585478,  0.43351592, -0.13690487],\n",
       "       [-2.01179562, -1.66819185, -0.39865219, -1.580116  ],\n",
       "       [-0.3512784 , -2.09216946, -1.39928099,  0.15511594],\n",
       "       [-0.2948254 ,  2.48534648, -0.95783992, -1.31869232],\n",
       "       [-0.22435593, -0.21017787,  1.02287176, -0.27955356]])"
      ]
     },
     "execution_count": 421,
     "metadata": {},
     "output_type": "execute_result"
    }
   ],
   "source": [
    "A = np.random.randn(8, 4)\n",
    "A"
   ]
  },
  {
   "cell_type": "code",
   "execution_count": 423,
   "metadata": {},
   "outputs": [
    {
     "data": {
      "text/plain": [
       "(8, 4)"
      ]
     },
     "execution_count": 423,
     "metadata": {},
     "output_type": "execute_result"
    }
   ],
   "source": [
    "A.shape"
   ]
  },
  {
   "cell_type": "code",
   "execution_count": 425,
   "metadata": {},
   "outputs": [
    {
     "data": {
      "text/plain": [
       "array([[-0.38599463, -0.21008422, -1.1122266 ],\n",
       "       [-0.22870294, -0.02601583,  1.64588147],\n",
       "       [-0.64916479, -0.33878467,  0.85078142],\n",
       "       [-0.89250006,  1.08585478,  0.43351592],\n",
       "       [-2.01179562, -1.66819185, -0.39865219],\n",
       "       [-0.3512784 , -2.09216946, -1.39928099],\n",
       "       [-0.2948254 ,  2.48534648, -0.95783992],\n",
       "       [-0.22435593, -0.21017787,  1.02287176]])"
      ]
     },
     "execution_count": 425,
     "metadata": {},
     "output_type": "execute_result"
    }
   ],
   "source": [
    "B = np.delete(A,3,1)\n",
    "B"
   ]
  },
  {
   "cell_type": "markdown",
   "metadata": {
    "id": "gF8RURumojnM"
   },
   "source": [
    "### <a name='9'></a> Exercise 59\n",
    "\n",
    "A one-dimensional array $ v $ (vector) is given:\n",
    "\n",
    "```\n",
    "v = np.array([3, 4, -2])\n",
    "```\n",
    "Calculate the norm of the vetor $ v $.\n"
   ]
  },
  {
   "cell_type": "code",
   "execution_count": null,
   "metadata": {
    "id": "uKkJVDssol-c"
   },
   "outputs": [],
   "source": [
    "# enter solution here"
   ]
  },
  {
   "cell_type": "code",
   "execution_count": 427,
   "metadata": {},
   "outputs": [
    {
     "data": {
      "text/plain": [
       "array([ 3,  4, -2])"
      ]
     },
     "execution_count": 427,
     "metadata": {},
     "output_type": "execute_result"
    }
   ],
   "source": [
    "v = np.array([3, 4, -2])\n",
    "v"
   ]
  },
  {
   "cell_type": "code",
   "execution_count": 428,
   "metadata": {},
   "outputs": [
    {
     "data": {
      "text/plain": [
       "5.385164807134504"
      ]
     },
     "execution_count": 428,
     "metadata": {},
     "output_type": "execute_result"
    }
   ],
   "source": [
    "np.linalg.norm(v)"
   ]
  },
  {
   "cell_type": "markdown",
   "metadata": {
    "id": "L4KAaAlTon68"
   },
   "source": [
    "### <a name='10'></a> Exercise 60  --> Question not understood\n",
    "An example $ A $ array is given below:\n",
    "\n",
    "```\n",
    "A = np.random.randint(10, size=(100, 30))\n",
    "```\n",
    "Set the numpy library option to print 10 edge elements. Print the array $ A $.\n"
   ]
  },
  {
   "cell_type": "code",
   "execution_count": null,
   "metadata": {
    "id": "P1NZsx8vooon"
   },
   "outputs": [],
   "source": [
    "# enter solution here"
   ]
  },
  {
   "cell_type": "code",
   "execution_count": 431,
   "metadata": {},
   "outputs": [
    {
     "data": {
      "text/plain": [
       "array([[1, 7, 5, ..., 8, 8, 2],\n",
       "       [4, 5, 6, ..., 3, 0, 5],\n",
       "       [8, 3, 0, ..., 9, 7, 9],\n",
       "       ...,\n",
       "       [4, 9, 0, ..., 0, 4, 2],\n",
       "       [9, 4, 2, ..., 3, 7, 5],\n",
       "       [2, 9, 0, ..., 8, 0, 1]])"
      ]
     },
     "execution_count": 431,
     "metadata": {},
     "output_type": "execute_result"
    }
   ],
   "source": [
    "A = np.random.randint(10, size=(100, 30))\n",
    "A"
   ]
  },
  {
   "cell_type": "code",
   "execution_count": 432,
   "metadata": {},
   "outputs": [
    {
     "name": "stdout",
     "output_type": "stream",
     "text": [
      "[[5 6 2 ... 2 3 0]\n",
      " [3 0 5 ... 3 9 7]\n",
      " [5 6 4 ... 8 9 2]\n",
      " ...\n",
      " [1 2 8 ... 5 2 2]\n",
      " [9 0 0 ... 6 0 4]\n",
      " [4 2 3 ... 7 3 7]]\n"
     ]
    }
   ],
   "source": [
    "print(A[1:-1,1:-1])"
   ]
  },
  {
   "cell_type": "markdown",
   "metadata": {
    "id": "-a_EfKxIo3oY"
   },
   "source": [
    "### <a name='1'></a> Exercise 61\n",
    "The following two arrays $ A $ and $ B $ are given:\n",
    "\n",
    "```\n",
    "A = np.array([[3, 4, 9, 2],\n",
    "              [5, 3, 2, 5]])\n",
    "B = np.array([[4, 3, 2, 5],\n",
    "              [6, 3, 1, 6]])\n",
    "```\n",
    "\n",
    "Determine an array consisting of arithmetic means $ A $ and $ B $ of the corresponding elements.\n",
    "\n",
    "__Expected result:__\n",
    "```\n",
    "array([[3.5, 3.5, 5.5, 3.5],\n",
    "       [5.5, 3. , 1.5, 5.5]])\n",
    "```"
   ]
  },
  {
   "cell_type": "code",
   "execution_count": null,
   "metadata": {
    "id": "jgs2ACQ4o6GU"
   },
   "outputs": [],
   "source": [
    "# enter solution here"
   ]
  },
  {
   "cell_type": "markdown",
   "metadata": {
    "id": "_6LsGZ5-o9I8"
   },
   "source": [
    "### <a name='2'></a> Exercise 62\n",
    "The following two arrays $ A $ and $ B $ are given:\n",
    "```\n",
    "A = np.array([[3, 4, 9, 2],\n",
    "              [5, 3, 2, 5]])\n",
    "B = np.array([[4, 3, 2, 5],\n",
    "              [6, 3, 1, 6]])\n",
    "```\n",
    "Multiply arrays element-by-element (element-wise)."
   ]
  },
  {
   "cell_type": "code",
   "execution_count": null,
   "metadata": {
    "id": "plbJPlMEo_Bk"
   },
   "outputs": [],
   "source": [
    "# enter solution here"
   ]
  },
  {
   "cell_type": "markdown",
   "metadata": {
    "id": "GbNiKkpSpCg1"
   },
   "source": [
    "### <a name='3'></a> Exercise 63\n",
    "The following numpy array $ A $ is given:\n",
    "```\n",
    "A = np.array([[3, 4, 9, 2],\n",
    "              [5, 3, 2, 5]])\n",
    "```\n",
    "Determine the root of each element of the array $ A $.\n",
    "\n",
    "__Tip:__ Use the _np.sqrt()_ function."
   ]
  },
  {
   "cell_type": "code",
   "execution_count": null,
   "metadata": {
    "id": "x8KwPfiNpDdb"
   },
   "outputs": [],
   "source": [
    "# enter solution here"
   ]
  },
  {
   "cell_type": "markdown",
   "metadata": {
    "id": "dasVx4mEpHt1"
   },
   "source": [
    "### <a name='4'></a> Exercise 64\n",
    "The following arrays $ A $ and $ B $ are given:\n",
    "```\n",
    "A = np.linspace(0, np.pi / 2, 20)\n",
    "B = np.full(shape=(20,), fill_value=1, dtype='float')\n",
    "```\n",
    "Check the Pythagorean formula for sines and cosines on the $ A $ array and then compare the result with the $ B $ array. Use the _np.allclose()_ function.\n",
    "\n",
    "__Pythagorean formula for sines and cosines:__ For any angle value $\\alpha \\in R $:\n",
    "$$sin^2\\alpha + cos^2\\alpha = 1$$"
   ]
  },
  {
   "cell_type": "code",
   "execution_count": null,
   "metadata": {
    "id": "3mH5fW6bpKPZ"
   },
   "outputs": [],
   "source": [
    "# enter solution here"
   ]
  },
  {
   "cell_type": "markdown",
   "metadata": {
    "id": "j5bTa7pwpg50"
   },
   "source": [
    "### Reminder\n",
    "### Matrix mulitplication:\n",
    "$${A} ={\\begin{bmatrix}a_{11}&a_{12}&\\cdots &a_{1n}\\\\a_{21}&a_{22}&\\cdots &a_{2n}\\\\\\vdots &\\vdots &\\ddots &\\vdots \\\\a_{m1}&a_{m2}&\\cdots &a_{mn}\\\\\\end{bmatrix}}$$\n",
    "A - $m\\ x\\ n$ matrix\n",
    "\n",
    "$$ {B} ={\\begin{bmatrix}b_{11}&b_{12}&\\cdots &b_{1p}\\\\b_{21}&b_{22}&\\cdots &b_{2p}\\\\\\vdots &\\vdots &\\ddots &\\vdots \\\\b_{n1}&b_{n2}&\\cdots &b_{np}\\\\\\end{bmatrix}}$$\n",
    "B - $n\\ x\\ p$ matrix\n",
    "\n",
    "$$C = AB$$\n",
    "C - $ m \\ x \\ p $ matrix  \n",
    "To be able to multiply two matrices, the number of columns in the left matrix must match the number of rows in the right matrix.\n",
    "\n",
    "Matrix multiplication is not alternating! $$AB \\neq BA$$\n",
    "\n",
    "### Example 1\n",
    "$ X = \\begin{bmatrix}5&3\\\\3&9\\end{bmatrix}$, $ Y= \\begin{bmatrix}1\\\\-1\\end{bmatrix} $   \n",
    "$ X - $ 2x2 matrix  \n",
    "$ Y - $ 2x1 matrix  \n",
    "$$Z = X \\cdot Y = \\begin{bmatrix}5&3\\\\3&9\\end{bmatrix} \\cdot \\begin{bmatrix}1\\\\-1\\end{bmatrix} = \\begin{bmatrix}2\\\\-6\\end{bmatrix}$$\n",
    "$ Z - $ 2x1 matrix  \n",
    "\n",
    "### Example 2\n",
    "$X = \\begin{bmatrix}2&-1&3\\\\3&1&0\\end{bmatrix}$, $Y = \\begin{bmatrix}2&1&-1\\\\0&-1&2\\\\3&2&0\\end{bmatrix}$    \n",
    "  \n",
    "$X  -$ 2x3 matrix     \n",
    "$Y - $ 3x3 matrix  \n",
    "$$Z = X \\cdot Y =  \\begin{bmatrix}2&-1&3\\\\3&1&0\\end{bmatrix} \\cdot \\begin{bmatrix}2&1&-1\\\\0&-1&2\\\\3&2&0\\end{bmatrix} = \\begin{bmatrix}13&9&-4\\\\6&2&-1\\end{bmatrix}$$\n",
    "$Z - $ 2x3 matrix  "
   ]
  },
  {
   "cell_type": "markdown",
   "metadata": {
    "id": "QW_hlvXjpiAB"
   },
   "source": [
    "### <a name='5'></a> Exercise 65\n",
    "Two two-dimensional arrays are provided, numpy $ A $ and $ B $.  \n",
    "$ A $ - dimension matrix $ (3, 2) $  \n",
    "$ B $ - dimension matrix $ (2, 3) $  \n",
    "```\n",
    "A = np.array([[2, 3],\n",
    "              [-4, 2],\n",
    "              [5, 0]])\n",
    "B = np.array([[4, 3, 2],\n",
    "              [-1, 0, 2]])\n",
    "```\n",
    "Perform matrix multiplication of $ A $ and $ B $ arrays.\n",
    "\n",
    "__Tip:__ Use the _np.dot()_ function."
   ]
  },
  {
   "cell_type": "code",
   "execution_count": null,
   "metadata": {
    "id": "660KEDD0psb5"
   },
   "outputs": [],
   "source": [
    "# enter solution here"
   ]
  },
  {
   "cell_type": "markdown",
   "metadata": {
    "id": "ul4QHp11pxQz"
   },
   "source": [
    "### Reminder\n",
    "\n",
    "### Determinant of the matrix:\n",
    "\n",
    "$${\\displaystyle A={\\begin{bmatrix}a_{11}&a_{12}&\\dots &a_{1n}\\\\a_{21}&a_{22}&\\dots &a_{2n}\\\\\\vdots &\\vdots &\\ddots &\\vdots \\\\a_{n1}&a_{n2}&\\dots &a_{nn}\\end{bmatrix}}}$$\n",
    "$A$ - _nxn_ matrix\n",
    "\n",
    "#### Signs:\n",
    "\n",
    "${\\displaystyle |A|=\\left|{\\begin{array}{c}a_{11}&a_{12}&\\dots &a_{1n}\\\\a_{21}&a_{22}&\\dots &a_{2n}\\\\\\vdots &\\vdots &\\ddots &\\vdots \\\\a_{n1}&a_{n2}&\\dots &a_{nn}\\end{array}}\\right|} $  lub  $ {\\displaystyle \\det A=\\det {\\begin{bmatrix}a_{11}&a_{12}&\\dots &a_{1n}\\\\a_{21}&a_{22}&\\dots &a_{2n}\\\\\\vdots &\\vdots &\\ddots &\\vdots \\\\a_{n1}&a_{n2}&\\dots &a_{nn}\\end{bmatrix}}}$\n",
    "\n",
    "#### Example:\n",
    "${\\displaystyle \\det A={\\begin{vmatrix}a_{11}&a_{12}\\\\a_{21}&a_{22}\\end{vmatrix}}=a_{11}a_{22}-a_{12}a_{21}}$\n",
    "\n",
    "${\\displaystyle \\det A={\\begin{vmatrix}a_{11}&a_{12}&a_{13}\\\\a_{21}&a_{22}&a_{23}\\\\a_{31}&a_{32}&a_{33}\\end{vmatrix}}=a_{11}a_{22}a_{33}+a_{21}a_{32}a_{13}+a_{31}a_{12}a_{23}-a_{21}a_{12}a_{33}-a_{11}a_{32}a_{23}-a_{31}a_{22}a_{13}}$\n",
    "\n",
    "${\\displaystyle \\det A={\\begin{vmatrix}2&4\\\\-1&3\\end{vmatrix}}=2\\cdot3-4\\cdot(-1)} = 6 + 4 = 10 $"
   ]
  },
  {
   "cell_type": "markdown",
   "metadata": {
    "id": "B5RGYFm9pyTr"
   },
   "source": [
    "### <a name='6'></a> Exercise 66\n",
    "The following array (square matrix) $ A $ is given:\n",
    "\n",
    "```\n",
    "A = np.array([[-2, 0, 4],\n",
    "              [5, 2, -1],\n",
    "              [-4, 2, 4]])\n",
    "```\n",
    "Compute the determinant of the $ A $ matrix.\n",
    "\n",
    "__Tip:__ Use the function _np.linalg.det()_.\n"
   ]
  },
  {
   "cell_type": "code",
   "execution_count": null,
   "metadata": {
    "id": "Q6mXzKIlp5lM"
   },
   "outputs": [],
   "source": [
    "# enter solution here"
   ]
  },
  {
   "cell_type": "markdown",
   "metadata": {
    "id": "scq4zDQ5p7oU"
   },
   "source": [
    "### <a name='7'></a> Exercise 67\n",
    "The following array (square matrix) $ A $ is given:\n",
    "```\n",
    "A = np.array([[5, 8, 16],\n",
    "              [4, 1, 8],\n",
    "              [-4, 4, -11]])\n",
    "```\n",
    "Calculate eigenvalues and their corresponding eigenvectors of the $ A $ matrix.\n",
    "__Tip:__ Use the function _np.linalg.eig()_."
   ]
  },
  {
   "cell_type": "code",
   "execution_count": null,
   "metadata": {
    "id": "efPVjDnYp98l"
   },
   "outputs": [],
   "source": [
    "# enter solution here"
   ]
  },
  {
   "cell_type": "markdown",
   "metadata": {
    "id": "jvJ14m6VrCsA"
   },
   "source": [
    "### Reminder\n",
    "### Inverse matrix:\n",
    "\n",
    "$ A $ - square matrix of degree $ n $. The $ A $ matrix has an inverse matrix when there is a $ B $ matrix such as\n",
    "$$ AB = BA = I $$\n",
    "\n",
    "$A = \\begin{bmatrix}2&4\\\\-1&3\\end{bmatrix}$"
   ]
  },
  {
   "cell_type": "markdown",
   "metadata": {
    "id": "_dp4LKvlrFJC"
   },
   "source": [
    "### <a name='8'></a> Exercise 68\n",
    "The following array (square matrix) $ A $ is given:\n",
    "```\n",
    "A = np.array([[5, 8, 16],\n",
    "              [4, 1, 8],\n",
    "              [-4, 4, -11]])\n",
    "```\n",
    "Find the inverse matrix to the $ A $ matrix.\n",
    "\n",
    "__Tip:__ Use the function _np.linalg.inv()_."
   ]
  },
  {
   "cell_type": "code",
   "execution_count": null,
   "metadata": {
    "id": "RJjZ_UJPrH7q"
   },
   "outputs": [],
   "source": [
    "# enter solution here"
   ]
  },
  {
   "cell_type": "markdown",
   "metadata": {
    "id": "5kvAC-WxrL4_"
   },
   "source": [
    "### Reminder\n",
    "\n",
    "### Matrix trace:\n",
    "\n",
    "$${\\displaystyle A={\\begin{bmatrix}a_{11}&a_{12}&\\dots &a_{1n}\\\\a_{21}&a_{22}&\\dots &a_{2n}\\\\\\vdots &\\vdots &\\ddots &\\vdots \\\\a_{n1}&a_{n2}&\\dots &a_{nn}\\end{bmatrix}}}$$\n",
    "$A$ - nxn matrix\n",
    "\n",
    "${\\displaystyle \\operatorname {tr} (A)=\\sum _{i=1}^{n}a_{ii}=a_{11}+a_{22}+\\dots +a_{nn}}$\n",
    "\n",
    "\n",
    "#### Example:\n",
    "$A = \\begin{bmatrix}2&4\\\\-1&3\\end{bmatrix}$\n",
    "\n",
    "${\\displaystyle \\operatorname {tr} (A)=\\sum _{i=1}^{2}a_{ii}=a_{11}+a_{22} = 2 + 3 = 5}$"
   ]
  },
  {
   "cell_type": "markdown",
   "metadata": {
    "id": "Y95fYJG4rOwa"
   },
   "source": [
    "### <a name='9'></a> Exercise 69\n",
    "The following array (square matrix) $ A $ is given:\n",
    "```\n",
    "A = np.array([[5, 8, 16],\n",
    "              [4, 1, 8],\n",
    "              [-4, 4, -11]])\n",
    "```\n",
    "Find the trace of the square matrix $ A $ (sum of elements on the main diagonal).\n",
    "\n",
    "__Tip:__ Use the _np.trace()_ function."
   ]
  },
  {
   "cell_type": "code",
   "execution_count": null,
   "metadata": {
    "id": "bsEBDusZrR7a"
   },
   "outputs": [],
   "source": [
    "# enter solution here"
   ]
  },
  {
   "cell_type": "markdown",
   "metadata": {
    "id": "b2UlN0lyrVvq"
   },
   "source": [
    "### Reminder\n",
    "### Transposed matrix:\n",
    "\n",
    "Replace rows with columns and columns with rows.\n",
    "\n",
    "#### Example 1:\n",
    "\n",
    "$A = \\begin{bmatrix}2&4\\\\-1&3\\end{bmatrix}$,\n",
    "$A^{T} = \\begin{bmatrix}2&-1\\\\4&3\\end{bmatrix}$\n",
    "\n",
    "#### Example 2:\n",
    "$A = \\begin{bmatrix}2&1&-1\\\\0&-1&2\\end{bmatrix}$,\n",
    "$A^{T} = \\begin{bmatrix}2&0\\\\1&-1\\\\-1&2\\end{bmatrix}$"
   ]
  },
  {
   "cell_type": "markdown",
   "metadata": {
    "id": "H-kLeq5Arh9K"
   },
   "source": [
    "### Exercise 69 continued\n",
    "Transpose the $ A $ matrix."
   ]
  },
  {
   "cell_type": "code",
   "execution_count": null,
   "metadata": {
    "id": "x0nQXHqArkU1"
   },
   "outputs": [],
   "source": [
    "# enter solution here"
   ]
  },
  {
   "cell_type": "markdown",
   "metadata": {
    "id": "hYeJXYyPrmar"
   },
   "source": [
    "### <a name='10'> </a> Exercise 70\n",
    "Two two-dimensional arrays numpy $ A $ and $ B $ are given:  \n",
    "$ A $ - matrix of $ (4, 2) $ dimension  \n",
    "$ B $ - matrix of $ (1, 8) $ dimension\n",
    "\n",
    "```\n",
    "A = np.array([[2, 0],\n",
    "              [4, 2],\n",
    "              [5, 3],\n",
    "              [4, 2]])\n",
    "B = np.array([[4, 0, 2, 1, 1, 0, 2, 9]])\n",
    "```\n",
    "Transform the $ B $ array so that you can do the matrix multiplication of $ A \\cdot B $. Perform this multiplication.\n",
    "\n",
    "__Expected result:__\n",
    "```\n",
    "array([[ 8,  0,  4,  2],\n",
    "       [18,  0, 12, 22],\n",
    "       [23,  0, 16, 32],\n",
    "       [18,  0, 12, 22]])\n",
    "```"
   ]
  },
  {
   "cell_type": "code",
   "execution_count": null,
   "metadata": {
    "id": "JH_gzDhWroza"
   },
   "outputs": [],
   "source": [
    "# enter solution here"
   ]
  },
  {
   "cell_type": "markdown",
   "metadata": {
    "id": "lMXI--PAsNHs"
   },
   "source": [
    "### <a name='1'></a> Exercise 71\n",
    "The following $ A $ array is given:\n",
    "```\n",
    "A = np.array([['id', 'price'],\n",
    "              ['001', 14.99],\n",
    "              ['002', 4.99],\n",
    "              ['003', 7.99],\n",
    "              ['004', 2.49],\n",
    "              ['005', 1.49]])\n",
    "```\n",
    "From the second row of the $ A $ array, randomly shuffle the rows in the array.\n",
    "\n",
    "__Tip:__ Use the _np.random.shuffle()_ function.\n"
   ]
  },
  {
   "cell_type": "code",
   "execution_count": null,
   "metadata": {
    "id": "EyB-vkixsPX6"
   },
   "outputs": [],
   "source": [
    "# enter solution here"
   ]
  },
  {
   "cell_type": "markdown",
   "metadata": {
    "id": "6IyHWnNGsRQC"
   },
   "source": [
    "### <a name='2'></a> Exercise 72\n",
    "The following array $ A $ is given:\n",
    "\n",
    "```\n",
    "A = np.array([0.2, 0.15, 0.1, 0.3, 0.2, 0.05])\n",
    "```\n",
    "Return an array of indexes that will sort the array $ A $ in ascending order.\n",
    "\n",
    "__Expected result:__\n",
    "\n",
    "```\n",
    "array([5, 2, 1, 0, 4, 3])\n",
    "```\n",
    "__Tip:__ Use the _np.argsort()_ function.\n"
   ]
  },
  {
   "cell_type": "code",
   "execution_count": null,
   "metadata": {
    "id": "cqs1pv-6sTXM"
   },
   "outputs": [],
   "source": [
    "# enter solution here"
   ]
  },
  {
   "cell_type": "markdown",
   "metadata": {
    "id": "M_vGyIA8sVdi"
   },
   "source": [
    "### <a name='3'></a> Exercise 73\n",
    "\n",
    "The following array $ A $ is given:\n",
    "```\n",
    "A = np.random.randn(10, 8)\n",
    "```\n",
    "Round the values of this array to three decimal places.\n",
    "\n",
    "__Tip:__ Use the function _np.round()_.\n"
   ]
  },
  {
   "cell_type": "code",
   "execution_count": null,
   "metadata": {
    "id": "8gsg4lkgsXTE"
   },
   "outputs": [],
   "source": [
    "# enter solution here"
   ]
  },
  {
   "cell_type": "markdown",
   "metadata": {
    "id": "rFsSIpBwsZpy"
   },
   "source": [
    "### <a name='4'></a> Exercise 74\n",
    "Determine the roots of the polynomial:\n",
    "* $W(x) = 4x^2 + 5x + 1$\n",
    "\n",
    "Check the solution.\n",
    "\n",
    "__Tip:__ Use the _np.roots()_ and _np.polyval()_ functions."
   ]
  },
  {
   "cell_type": "code",
   "execution_count": null,
   "metadata": {
    "id": "suhU4XXHscjl"
   },
   "outputs": [],
   "source": [
    "# enter solution here"
   ]
  },
  {
   "cell_type": "markdown",
   "metadata": {
    "id": "-CLNFQI0set6"
   },
   "source": [
    "### <a name='5'></a> Exercise 75\n",
    "Determine the roots of polynomials:\n",
    "* $Q(x) = 2x^3 + 4x^2 -5x + 1$\n",
    "* $R(x) = 2x^3 -5x + 1$\n",
    "\n",
    "__Tip:__ Use the _np.roots()_ function.\n"
   ]
  },
  {
   "cell_type": "code",
   "execution_count": null,
   "metadata": {
    "id": "M0gwQ77MsiYS"
   },
   "outputs": [],
   "source": [
    "# enter solution here"
   ]
  },
  {
   "cell_type": "markdown",
   "metadata": {
    "id": "5Su2N1CdskRq"
   },
   "source": [
    "### <a name='6'></a> Exercise 76\n",
    "Polynomials are given:\n",
    "* $W(x) = 4x^2 + 5x + 1$\n",
    "* $Q(x) = 2x^3 + 4x^2 -5x + 1$\n"
   ]
  },
  {
   "cell_type": "code",
   "execution_count": null,
   "metadata": {
    "id": "2_vQZI-qsmyu"
   },
   "outputs": [],
   "source": [
    "# enter solution here"
   ]
  },
  {
   "cell_type": "markdown",
   "metadata": {
    "id": "uBDD2iWzsqeW"
   },
   "source": [
    "Perform:\n",
    "* $ W (x) + Q (x) $"
   ]
  },
  {
   "cell_type": "code",
   "execution_count": null,
   "metadata": {
    "id": "wysNdVzIs4-F"
   },
   "outputs": [],
   "source": [
    "# enter solution here"
   ]
  },
  {
   "cell_type": "markdown",
   "metadata": {
    "id": "SR3GM1iess99"
   },
   "source": [
    "* $W(x) - Q(x)$\n"
   ]
  },
  {
   "cell_type": "code",
   "execution_count": null,
   "metadata": {
    "id": "ORGkpd7Ps5eJ"
   },
   "outputs": [],
   "source": [
    "# enter solution here"
   ]
  },
  {
   "cell_type": "markdown",
   "metadata": {
    "id": "ZPiam3u2svHL"
   },
   "source": [
    "* $W(x) * Q(x)$\n"
   ]
  },
  {
   "cell_type": "code",
   "execution_count": null,
   "metadata": {
    "id": "IryeE_iks6UL"
   },
   "outputs": [],
   "source": [
    "# enter solution here"
   ]
  },
  {
   "cell_type": "markdown",
   "metadata": {
    "id": "BiU72lhKszCC"
   },
   "source": [
    "* $W(x) + 2Q(x)$"
   ]
  },
  {
   "cell_type": "code",
   "execution_count": null,
   "metadata": {
    "id": "011VYy2is3MC"
   },
   "outputs": [],
   "source": [
    "# enter solution here"
   ]
  },
  {
   "cell_type": "markdown",
   "metadata": {
    "id": "eF1VLJ7Ps7Qs"
   },
   "source": [
    "### <a name='7'></a> Exercise 77\n",
    "The array below is given:\n",
    "\n",
    "```\n",
    "A = np.array([[-4, 3, 0, 1, -5],\n",
    "              [6, -4, -2, 1, 3]])\n",
    "```\n",
    "Use the sign function for the array $ A $. As a reminder, the function works as follows: returns -1 for negative values, zero for zero, and 1 for positive values.\n",
    "\n",
    "__Expected result:__\n",
    "\n",
    "```\n",
    "array([[-1,  1,  0,  1, -1],\n",
    "       [ 1, -1, -1,  1,  1]])\n",
    "```\n",
    "__Tip:__ Use the _np.sign()_ function."
   ]
  },
  {
   "cell_type": "code",
   "execution_count": null,
   "metadata": {
    "id": "0Qfr8sfotA_D"
   },
   "outputs": [],
   "source": [
    "# enter solution here"
   ]
  },
  {
   "cell_type": "markdown",
   "metadata": {
    "id": "A2jfoD4etFcD"
   },
   "source": [
    "### <a name='8'></a> Exercise 78\n",
    "Using the _np.arange()_ function, generate the following array:\n",
    "\n",
    "```\n",
    "array(['2021-01-01', '2021-01-02', '2021-01-03', '2021-01-04',\n",
    "       '2021-01-05', '2021-01-06', '2021-01-07', '2021-01-08',\n",
    "       '2021-01-09', '2021-01-10', '2021-01-11', '2021-01-12',\n",
    "       '2021-01-13', '2021-01-14', '2021-01-15', '2021-01-16',\n",
    "       '2021-01-17', '2021-01-18', '2021-01-19', '2021-01-20',\n",
    "       '2021-01-21', '2021-01-22', '2021-01-23', '2021-01-24',\n",
    "       '2021-01-25', '2021-01-26', '2021-01-27', '2021-01-28',\n",
    "       '2021-01-29', '2021-01-30', '2021-01-31'], dtype='datetime64[D]')\n",
    "```\n"
   ]
  },
  {
   "cell_type": "code",
   "execution_count": null,
   "metadata": {
    "id": "3w7EIsestHhS"
   },
   "outputs": [],
   "source": [
    "# enter solution here"
   ]
  },
  {
   "cell_type": "markdown",
   "metadata": {
    "id": "D73aHZ4WtJsB"
   },
   "source": [
    "### <a name='9'></a> Exercise 79\n",
    "\n",
    "Using the _np.arange()_ function, generate the following array:\n",
    "\n",
    "```\n",
    "array([['2021-01', '2021-02', '2021-03'],\n",
    "       ['2021-04', '2021-05', '2021-06'],\n",
    "       ['2021-07', '2021-08', '2021-09'],\n",
    "       ['2021-10', '2021-11', '2021-12']], dtype='datetime64[M]')\n",
    "```\n"
   ]
  },
  {
   "cell_type": "code",
   "execution_count": null,
   "metadata": {
    "id": "GfzmBCJ-tL4Z"
   },
   "outputs": [],
   "source": [
    "# enter solution here"
   ]
  },
  {
   "cell_type": "markdown",
   "metadata": {
    "id": "kiEL545ZtNsf"
   },
   "source": [
    "### <a name='10'></a> Exercise 80\n",
    "Using the _np.datetime64()_ function, generate today's date (the date you were doing the exercise)."
   ]
  },
  {
   "cell_type": "code",
   "execution_count": null,
   "metadata": {
    "id": "ulqG1TuitOdC"
   },
   "outputs": [],
   "source": [
    "# enter solution here"
   ]
  },
  {
   "cell_type": "markdown",
   "metadata": {
    "id": "Rf428pcptxKR"
   },
   "source": [
    "### <a name='1'></a> Exercise 81\n",
    "Generate all dates for mondays from January and February 2020 as a numpy array.\n",
    "\n",
    "__Expected result:__\n",
    "```\n",
    "array(['2020-01-06', '2020-01-13', '2020-01-20', '2020-01-27', '2020-02-03', '2020-02-10',\n",
    "       '2020-02-17', '2020-02-24'], dtype='datetime64[D]')\n",
    "```"
   ]
  },
  {
   "cell_type": "code",
   "execution_count": null,
   "metadata": {
    "id": "VzRm__Yit3rp"
   },
   "outputs": [],
   "source": [
    "# enter solution here"
   ]
  },
  {
   "cell_type": "markdown",
   "metadata": {
    "id": "BmPTpCDdt601"
   },
   "source": [
    "### <a name='2'></a> Exercise 82 \n",
    "Two $ A $ and $ B $ arrays are given:\n",
    "```\n",
    "A = np.array(['001', '002', '003'], dtype=np.str)\n",
    "B = np.array(['XC', 'YC', 'ZC'], dtype=np.str)\n",
    "```\n",
    "Merge them together as shown below:\n",
    "\n",
    "```\n",
    "array(['001XC', '002YC', '003ZC'], dtype='<U5')\n",
    "```\n",
    "\n",
    "__Tip:__ Use the function _np.char.add()_."
   ]
  },
  {
   "cell_type": "code",
   "execution_count": null,
   "metadata": {
    "id": "5e4wccCst7_y"
   },
   "outputs": [],
   "source": [
    "# enter solution here"
   ]
  },
  {
   "cell_type": "markdown",
   "metadata": {
    "id": "B0H4eNwFt_tX"
   },
   "source": [
    "### <a name='3'></a> Exercise 83\n",
    "The array below is given:\n",
    "\n",
    "```\n",
    "A = np.array(['1', '2', '3'], dtype=np.str)\n",
    "```\n",
    "Add '000' (3 zeros) to the beginning of each element of the array.\n",
    "\n",
    "__Tip:__ Use the function _np.char.add()_ or _np.char.rjust()_ or _np.char.zfill()_.\n"
   ]
  },
  {
   "cell_type": "code",
   "execution_count": null,
   "metadata": {
    "id": "PtI3kNSpuG3G"
   },
   "outputs": [],
   "source": [
    "# enter solution here"
   ]
  },
  {
   "cell_type": "markdown",
   "metadata": {
    "id": "xI-uGz4puJuw"
   },
   "source": [
    "### <a name='4'></a> Exercise 84\n",
    "The array below is given:\n",
    "```\n",
    "A = np.array([['PLW CDR 11B TEN', 'AMC LPP'],\n",
    "              ['CDR PKO KGH', 'CCC QMK']], dtype=np.str)\n",
    "```\n",
    "Split each element of the above array by spaces, obtaining a list of values in each place.\n",
    "\n",
    "__Expected result:__\n",
    "```\n",
    "array([[list(['PLW', 'CDR', '11B', 'TEN']), list(['AMC', 'LPP'])],\n",
    "       [list(['CDR', 'PKO', 'KGH']), list(['CCC', 'QMK'])]], dtype=object)\n",
    "```\n",
    "__Tip:__ Use the function _np.char.split()_.\n"
   ]
  },
  {
   "cell_type": "code",
   "execution_count": null,
   "metadata": {
    "id": "RLc1yzibuL7i"
   },
   "outputs": [],
   "source": [
    "# enter solution here"
   ]
  },
  {
   "cell_type": "markdown",
   "metadata": {
    "id": "ChSDa-geuOt6"
   },
   "source": [
    "### <a name='5'></a> Exercise 85\n",
    "The array below is given:\n",
    "```\n",
    "A = np.array([['#summer#time#mood'],\n",
    "              ['#sport#time']])\n",
    "```\n",
    "Replace all # with spaces and then remove any unnecessary spaces around the text.\n",
    "\n",
    "__Expected result:__\n",
    "```\n",
    "array([['summer time mood'],\n",
    "       ['sport time']], dtype='<U17')\n",
    "```\n"
   ]
  },
  {
   "cell_type": "code",
   "execution_count": null,
   "metadata": {
    "id": "sjMFFIhXuR21"
   },
   "outputs": [],
   "source": [
    "# enter solution here"
   ]
  },
  {
   "cell_type": "markdown",
   "metadata": {
    "id": "bAz9Pgg5uUkE"
   },
   "source": [
    "### <a name='6'></a> Exercise 86\n",
    "The following array is provided:\n",
    "\n",
    "```\n",
    "A = np.array([['#summer#time#mood', '#vibe'],\n",
    "              ['#sport#time', '#good#time'],\n",
    "              ['#event#summer', '#fast#move']])\n",
    "```\n",
    "Count the number of occurrences of the word 'time' in each element of the $ A $ array.\n",
    "\n",
    "__Tip:__ Use the _np.char.count()_ function.\n",
    "\n"
   ]
  },
  {
   "cell_type": "code",
   "execution_count": null,
   "metadata": {
    "id": "xMGt-LhpuYeY"
   },
   "outputs": [],
   "source": [
    "# enter solution here"
   ]
  },
  {
   "cell_type": "markdown",
   "metadata": {
    "id": "TtmmX7V2ucT4"
   },
   "source": [
    "### <a name='7'></a> Exercise 87\n",
    "The following text is provided containing data (companies from the WIG20 index):\n",
    "\n",
    "```\n",
    "text = \"\"\"ALIOR\tPLALIOR00045\t88 860 000\t1 386 216 000\t0,891\t2,16\t14\n",
    "CCC\tPLCCC0000016\t27 918 000\t1 292 603 400\t0,831\t5,28\t42\n",
    "CDPROJEKT\tPLOPTTC00011\t67 348 000\t22 864 646 000\t14,702\t7,39\t7\n",
    "CYFRPLSAT\tPLCFRPT00013\t275 301 000\t6 854 994 900\t4,408\t1,17\t14\n",
    "DINOPL\tPLDINPL00011\t47 937 000\t8 916 282 000\t5,733\t9,13\t12\n",
    "JSW\tPLJSW0000015\t52 636 000\t716 902 320\t0,461\t1,51\t24\n",
    "KGHM\tPLKGHM000017\t136 410 000\t9 881 540 400\t6,354\t4,78\t8\n",
    "LOTOS\tPLLOTOS00025\t86 543 000\t5 609 717 260\t3,607\t2,91\t16\n",
    "LPP\tPLLPP0000011\t1 306 000\t7 444 200 000\t4,787\t1,43\t19\n",
    "MBANK\tPLBRE0000012\t12 997 000\t2 830 746 600\t1,820\t0,42\t24\n",
    "ORANGEPL\tPLTLKPL00017\t647 357 000\t4 285 503 340\t2,756\t1,16\t13\n",
    "PEKAO\tPLPEKAO00016\t176 379 000\t9 619 710 660\t6,185\t5,27\t9\n",
    "PGE\tPLPGER000010\t796 776 000\t3 561 588 720\t2,290\t2,88\t18\n",
    "PGNIG\tPLPGNIG00014\t1 624 608 000\t6 072 784 704\t3,905\t1,56\t12\n",
    "PKNORLEN\tPLPKN0000018\t289 049 000\t17 701 360 760\t11,382\t12,44\t8\n",
    "PKOBP\tPLPKO0000016\t857 593 000\t18 807 014 490\t12,093\t10,49\t9\n",
    "PLAY\tLU1642887738\t114 151 000\t3 696 209 380\t2,377\t1,47\t16\n",
    "PZU\tPLPZU0000011\t568 305 000\t17 515 160 100\t11,262\t6,64\t6\n",
    "SANPL\tPLBZ00000044\t33 207 000\t5 213 499 000\t3,352\t1,91\t18\n",
    "TAURONPE\tPLTAURN00011\t1 043 590 000\t1 252 308 000\t0,805\t1,21\t33\"\"\"\n",
    "```\n",
    "\n",
    "__Columns mean \\:__\n",
    "\n",
    "Instrument | ISIN code | Package | Package (PLN) | Share in portfolio (%) | Share in trading shares and PDAs per session (%) | Average spread per session\n",
    "\n",
    "Split text into lines. Then divide each line by the tab character `\\t` and build a numpy array (without headers) containing the following data. Assign the resulting array to the _result_ variable.\n",
    "\n",
    "__Expected result:__\n",
    "```\n",
    "array([['ALIOR', 'PLALIOR00045', '88 860 000', '1 386 216 000', '0,891', '2,16', '14'],\n",
    "       ['CCC', 'PLCCC0000016', '27 918 000', '1 292 603 400', '0,831', '5,28', '42'],\n",
    "       ['CDPROJEKT', 'PLOPTTC00011', '67 348 000', '22 864 646 000', '14,702', '7,39', '7'],\n",
    "       ['CYFRPLSAT', 'PLCFRPT00013', '275 301 000', '6 854 994 900', '4,408', '1,17', '14'],\n",
    "       ['DINOPL', 'PLDINPL00011', '47 937 000', '8 916 282 000', '5,733', '9,13', '12'],\n",
    "       ['JSW', 'PLJSW0000015', '52 636 000', '716 902 320', '0,461', '1,51', '24'],\n",
    "       ['KGHM', 'PLKGHM000017', '136 410 000', '9 881 540 400', '6,354', '4,78', '8'],\n",
    "       ['LOTOS', 'PLLOTOS00025', '86 543 000', '5 609 717 260', '3,607', '2,91', '16'],\n",
    "       ['LPP', 'PLLPP0000011', '1 306 000', '7 444 200 000', '4,787', '1,43', '19'],\n",
    "       ['MBANK', 'PLBRE0000012', '12 997 000', '2 830 746 600', '1,820', '0,42', '24'],\n",
    "       ['ORANGEPL', 'PLTLKPL00017', '647 357 000', '4 285 503 340', '2,756', '1,16', '13'],\n",
    "       ['PEKAO', 'PLPEKAO00016', '176 379 000', '9 619 710 660', '6,185', '5,27', '9'],\n",
    "       ['PGE', 'PLPGER000010', '796 776 000', '3 561 588 720', '2,290', '2,88', '18'],\n",
    "       ['PGNIG', 'PLPGNIG00014', '1 624 608 000', '6 072 784 704', '3,905', '1,56', '12'],\n",
    "       ['PKNORLEN', 'PLPKN0000018', '289 049 000', '17 701 360 760', '11,382', '12,44', '8'],\n",
    "       ['PKOBP', 'PLPKO0000016', '857 593 000', '18 807 014 490', '12,093', '10,49', '9'],\n",
    "       ['PLAY', 'LU1642887738', '114 151 000', '3 696 209 380', '2,377', '1,47', '16'],\n",
    "       ['PZU', 'PLPZU0000011', '568 305 000', '17 515 160 100', '11,262', '6,64', '6'],\n",
    "       ['SANPL', 'PLBZ00000044', '33 207 000', '5 213 499 000', '3,352', '1,91', '18'],\n",
    "       ['TAURONPE', 'PLTAURN00011', '1 043 590 000', '1 252 308 000', '0,805', '1,21', '33']],\n",
    "      dtype='<U14')\n",
    "```\n"
   ]
  },
  {
   "cell_type": "code",
   "execution_count": null,
   "metadata": {
    "id": "NZk0HJ0UujPo"
   },
   "outputs": [],
   "source": [
    "text = \"\"\"ALIOR\tPLALIOR00045\t88 860 000\t1 386 216 000\t0,891\t2,16\t14\n",
    "CCC\tPLCCC0000016\t27 918 000\t1 292 603 400\t0,831\t5,28\t42\n",
    "CDPROJEKT\tPLOPTTC00011\t67 348 000\t22 864 646 000\t14,702\t7,39\t7\n",
    "CYFRPLSAT\tPLCFRPT00013\t275 301 000\t6 854 994 900\t4,408\t1,17\t14\n",
    "DINOPL\tPLDINPL00011\t47 937 000\t8 916 282 000\t5,733\t9,13\t12\n",
    "JSW\tPLJSW0000015\t52 636 000\t716 902 320\t0,461\t1,51\t24\n",
    "KGHM\tPLKGHM000017\t136 410 000\t9 881 540 400\t6,354\t4,78\t8\n",
    "LOTOS\tPLLOTOS00025\t86 543 000\t5 609 717 260\t3,607\t2,91\t16\n",
    "LPP\tPLLPP0000011\t1 306 000\t7 444 200 000\t4,787\t1,43\t19\n",
    "MBANK\tPLBRE0000012\t12 997 000\t2 830 746 600\t1,820\t0,42\t24\n",
    "ORANGEPL\tPLTLKPL00017\t647 357 000\t4 285 503 340\t2,756\t1,16\t13\n",
    "PEKAO\tPLPEKAO00016\t176 379 000\t9 619 710 660\t6,185\t5,27\t9\n",
    "PGE\tPLPGER000010\t796 776 000\t3 561 588 720\t2,290\t2,88\t18\n",
    "PGNIG\tPLPGNIG00014\t1 624 608 000\t6 072 784 704\t3,905\t1,56\t12\n",
    "PKNORLEN\tPLPKN0000018\t289 049 000\t17 701 360 760\t11,382\t12,44\t8\n",
    "PKOBP\tPLPKO0000016\t857 593 000\t18 807 014 490\t12,093\t10,49\t9\n",
    "PLAY\tLU1642887738\t114 151 000\t3 696 209 380\t2,377\t1,47\t16\n",
    "PZU\tPLPZU0000011\t568 305 000\t17 515 160 100\t11,262\t6,64\t6\n",
    "SANPL\tPLBZ00000044\t33 207 000\t5 213 499 000\t3,352\t1,91\t18\n",
    "TAURONPE\tPLTAURN00011\t1 043 590 000\t1 252 308 000\t0,805\t1,21\t33\"\"\"\n",
    "\n",
    "# enter solution here"
   ]
  },
  {
   "cell_type": "markdown",
   "metadata": {
    "id": "RwCV8jNXulN5"
   },
   "source": [
    "### <a name='8'></a> Exercise 88\n",
    "From the _result_ array from the previous exercise, remove all spaces in the text and replace all commas with periods."
   ]
  },
  {
   "cell_type": "code",
   "execution_count": null,
   "metadata": {
    "id": "KKSpYNvmuoQm"
   },
   "outputs": [],
   "source": [
    "# enter solution here"
   ]
  },
  {
   "cell_type": "markdown",
   "metadata": {
    "id": "pjjEvdl9uqIo"
   },
   "source": [
    "Then extract column 'Share in portfolio (%)' convert its type to _float_ and calculate the sum for this column. Check if it's 100%."
   ]
  },
  {
   "cell_type": "code",
   "execution_count": null,
   "metadata": {
    "id": "MTwp0NJ9utTd"
   },
   "outputs": [],
   "source": [
    "# enter solution here"
   ]
  },
  {
   "cell_type": "markdown",
   "metadata": {
    "id": "38gnwf-fuxCg"
   },
   "source": [
    "### <a name='9'></a> Exercise 89\n",
    "From the _result_ array, extract all the rows with the company name beginning with the letter P and assign it to the variable _stocks_startswith_P_.\n",
    "\n",
    "__Expected result:__\n",
    "\n",
    "```\n",
    "array([['PEKAO', 'PLPEKAO00016', '176379000', '9619710660', '6.185', '5.27', '9'],\n",
    "       ['PGE', 'PLPGER000010', '796776000', '3561588720', '2.290', '2.88', '18'],\n",
    "       ['PGNIG', 'PLPGNIG00014', '1624608000', '6072784704', '3.905', '1.56', '12'],\n",
    "       ['PKNORLEN', 'PLPKN0000018', '289049000', '17701360760', '11.382', '12.44', '8'],\n",
    "       ['PKOBP', 'PLPKO0000016', '857593000', '18807014490', '12.093', '10.49', '9'],\n",
    "       ['PLAY', 'LU1642887738', '114151000', '3696209380', '2.377', '1.47', '16'],\n",
    "       ['PZU', 'PLPZU0000011', '568305000', '17515160100', '11.262', '6.64', '6']], dtype='<U12')\n",
    "```"
   ]
  },
  {
   "cell_type": "code",
   "execution_count": null,
   "metadata": {
    "id": "R8ZX-yMMuzs4"
   },
   "outputs": [],
   "source": [
    "# enter solution here"
   ]
  },
  {
   "cell_type": "markdown",
   "metadata": {
    "id": "lLvA3dMau15w"
   },
   "source": [
    "### <a name='10'></a> Exercise 90\n",
    "Using the variable _stocks_startswith_P_, calculate the total share of companies whose name begins with the letter P. Round the result to two decimal places."
   ]
  },
  {
   "cell_type": "code",
   "execution_count": null,
   "metadata": {
    "id": "gWPDyEAnu4Qa"
   },
   "outputs": [],
   "source": [
    "# enter solution here"
   ]
  },
  {
   "cell_type": "markdown",
   "metadata": {
    "id": "39rc-jvnvSFI"
   },
   "source": [
    "### <a name='1'></a> Exercise 91\n",
    "The following string _wig_games_raw_ is provided containing data on the WIG.GAMES sector index:\n",
    "\n",
    "```\n",
    "wig_games_raw = \"\"\"Profile\tTime\tCourse\tChange\tChange%\tRef.\tOpen\tLow\tHigh\tVolume\tTurn\tShare\n",
    "11B (11BIT)\t17 kwi 17:01\t391.00\t+8.00\t(+2.09%)\t383.00\t383.50\t383.00\t394.00\t12 784\t4 994 874\t19.034%\n",
    "CDR (CDPROJEKT)\t17 kwi 17:01\t339.50\t+5.30\t(+1.59%)\t334.20\t338.30\t337.00\t344.20\t233 059\t79 245 368\t39.618%\n",
    "CIG (CIGAMES)\t17 kwi 17:03\t0.742\t-0.012\t(-1.59%)\t0.754\t0.772\t0.730\t0.772\t1 311 078\t971 459\t1.855%\n",
    "PLW (PLAYWAY)\t17 kwi 17:03\t387.50\t+18.00\t(+4.87%)\t369.50\t374.00\t373.00\t388.00\t33 206\t12 661 786\t10.638%\n",
    "TEN (TSGAMES)\t17 kwi 17:02\t349.50\t+22.50\t(+6.88%)\t327.00\t332.00\t330.00\t353.50\t39 793\t13 697 060\t28.855%\"\"\"\n",
    "```\n",
    "Build a numpy array from this data and name it _wig_games_.\n",
    "\n",
    "__Expected result:__\n",
    "```\n",
    "array([['Profil', 'Czas', 'Kurs', 'Zmiana', 'Zmiana%', 'Odn.', 'Otw.', 'Min.', 'Max.', 'Wolumen', 'Obrót', 'Udział'],\n",
    "       ['11B(11BIT)', '17kwi17:01', '391.00', '+8.00', '(+2.09%)', '383.00', '383.50', '383.00', '394.00', '12784', '4994874', '19.034%'],\n",
    "       ['CDR(CDPROJEKT)', '17kwi17:01', '339.50', '+5.30', '(+1.59%)', '334.20', '338.30', '337.00', '344.20', '233059', '79245368', '39.618%'],\n",
    "       ['CIG(CIGAMES)', '17kwi17:03', '0.742', '-0.012', '(-1.59%)', '0.754', '0.772', '0.730', '0.772', '1311078', '971459', '1.855%'],\n",
    "       ['PLW(PLAYWAY)', '17kwi17:03', '387.50', '+18.00', '(+4.87%)', '369.50', '374.00', '373.00', '388.00', '33206', '12661786', '10.638%'],\n",
    "       ['TEN(TSGAMES)', '17kwi17:02', '349.50', '+22.50', '(+6.88%)', '327.00', '332.00', '330.00', '353.50', '39793', '13697060', '28.855%']], dtype='<U14')\n",
    "```\n"
   ]
  },
  {
   "cell_type": "code",
   "execution_count": null,
   "metadata": {
    "id": "-AIjUTnAvWzG"
   },
   "outputs": [],
   "source": [
    "wig_games_raw = \"\"\"Profile\tTime\tCourse\tChange\tChange%\tRef.\tOpen\tLow\tHigh\tVolume\tTurn\tShare\n",
    "11B (11BIT)\t17 kwi 17:01\t391.00\t+8.00\t(+2.09%)\t383.00\t383.50\t383.00\t394.00\t12 784\t4 994 874\t19.034%\n",
    "CDR (CDPROJEKT)\t17 kwi 17:01\t339.50\t+5.30\t(+1.59%)\t334.20\t338.30\t337.00\t344.20\t233 059\t79 245 368\t39.618%\n",
    "CIG (CIGAMES)\t17 kwi 17:03\t0.742\t-0.012\t(-1.59%)\t0.754\t0.772\t0.730\t0.772\t1 311 078\t971 459\t1.855%\n",
    "PLW (PLAYWAY)\t17 kwi 17:03\t387.50\t+18.00\t(+4.87%)\t369.50\t374.00\t373.00\t388.00\t33 206\t12 661 786\t10.638%\n",
    "TEN (TSGAMES)\t17 kwi 17:02\t349.50\t+22.50\t(+6.88%)\t327.00\t332.00\t330.00\t353.50\t39 793\t13 697 060\t28.855%\"\"\"\n",
    "\n",
    "# enter solution here"
   ]
  },
  {
   "cell_type": "markdown",
   "metadata": {
    "id": "htnAhXsvvZEw"
   },
   "source": [
    "### <a name='2'></a> Exercise 92\n",
    "Remove the columns from the _wig_games_ array from the previous exercise:\n",
    "* Change\n",
    "* Change%\n",
    "* Ref.\n",
    "* Volume\n",
    "\n",
    "__Expected result:__\n",
    "```\n",
    "array([['Profile', 'Time', 'Course', 'Open', 'Low', 'High', 'Turn', 'Share'],\n",
    "       ['11B(11BIT)', '17kwi17:01', '391.00', '383.50', '383.00', '394.00', '4994874', '19.034%'],\n",
    "       ['CDR(CDPROJEKT)', '17kwi17:01', '339.50', '338.30', '337.00', '344.20', '79245368', '39.618%'],\n",
    "       ['CIG(CIGAMES)', '17kwi17:03', '0.742', '0.772', '0.730', '0.772', '971459', '1.855%'],\n",
    "       ['PLW(PLAYWAY)', '17kwi17:03', '387.50', '374.00', '373.00', '388.00', '12661786', '10.638%'],\n",
    "       ['TEN(TSGAMES)', '17kwi17:02', '349.50', '332.00', '330.00', '353.50', '13697060', '28.855%']], dtype='<U14')\n",
    "```\n"
   ]
  },
  {
   "cell_type": "code",
   "execution_count": null,
   "metadata": {
    "id": "-rJV_w8cvcC0"
   },
   "outputs": [],
   "source": [
    "# enter solution here"
   ]
  },
  {
   "cell_type": "markdown",
   "metadata": {
    "id": "7dJbcBOdvejz"
   },
   "source": [
    "### <a name='3'></a> Exercise 93\n",
    "Save the array _wig_games_ from the previous exercise to the _wig_games.csv_ file."
   ]
  },
  {
   "cell_type": "code",
   "execution_count": null,
   "metadata": {
    "id": "4wf4YTQOvgHp"
   },
   "outputs": [],
   "source": [
    "# enter solution here"
   ]
  },
  {
   "cell_type": "markdown",
   "metadata": {
    "id": "HKoXcwIfvotk"
   },
   "source": [
    "Run the cell below to check."
   ]
  },
  {
   "cell_type": "code",
   "execution_count": null,
   "metadata": {
    "id": "m9Nep0_Pvq1o"
   },
   "outputs": [],
   "source": [
    "!head wig_games.csv"
   ]
  },
  {
   "cell_type": "markdown",
   "metadata": {
    "id": "Rjlfj8VuvtBD"
   },
   "source": [
    "### <a name='4'></a> Exercise 94\n",
    "Load the contents of the _wig_games.csv_ file into the _wig_games_new_ variable."
   ]
  },
  {
   "cell_type": "code",
   "execution_count": null,
   "metadata": {
    "id": "EHLgkl0ovvGg"
   },
   "outputs": [],
   "source": [
    "# enter solution here"
   ]
  },
  {
   "cell_type": "markdown",
   "metadata": {
    "id": "pWgfdexHvxBQ"
   },
   "source": [
    "### <a name='5'></a> Exercise 95\n",
    "The following string _playway_raw_ is provided containing Playway's March 2020 listings:\n",
    "\n",
    "```\n",
    "playway_raw = \"\"\"Date,Open,High,Low,Close,Volume\n",
    "2020-03-02,305,324.5,283.5,310,64081\n",
    "2020-03-03,325.5,340.5,320,340.5,55496\n",
    "2020-03-04,324,340.5,315,330,36152\n",
    "2020-03-05,344,344,310,315,35992\n",
    "2020-03-06,306.5,307,291,305,32539\n",
    "2020-03-09,274,291,250,258,79402\n",
    "2020-03-10,278,284.5,256,264,35700\n",
    "2020-03-11,270,270,238.5,245,60445\n",
    "2020-03-12,218,228,196,197,94031\n",
    "2020-03-13,210,229,198.8,211,100412\n",
    "2020-03-16,205,248,197.8,240.5,50659\n",
    "2020-03-17,245,269,232.5,264,99480\n",
    "2020-03-18,264,280,251,270,70136\n",
    "2020-03-19,267,280,267,279.5,30732\n",
    "2020-03-20,297.5,307,280,280.5,43426\n",
    "2020-03-23,274,289,258,285,37098\n",
    "2020-03-24,305,309,296.5,309,31939\n",
    "2020-03-25,313,330,295,304,46724\n",
    "2020-03-26,300,309,295.5,300,27213\n",
    "2020-03-27,302,306.5,290,296,13466\n",
    "2020-03-30,299,300,287,300,10316\n",
    "2020-03-31,302.5,309,302,306.5,15698\"\"\"\n",
    "```\n",
    "\n",
    "Create an array named _playway_ and assign the following data to it."
   ]
  },
  {
   "cell_type": "code",
   "execution_count": null,
   "metadata": {
    "id": "XC9G54HZvz1a"
   },
   "outputs": [],
   "source": [
    "playway_raw = \"\"\"Date,Open,High,Low,Close,Volume\n",
    "2020-03-02,305,324.5,283.5,310,64081\n",
    "2020-03-03,325.5,340.5,320,340.5,55496\n",
    "2020-03-04,324,340.5,315,330,36152\n",
    "2020-03-05,344,344,310,315,35992\n",
    "2020-03-06,306.5,307,291,305,32539\n",
    "2020-03-09,274,291,250,258,79402\n",
    "2020-03-10,278,284.5,256,264,35700\n",
    "2020-03-11,270,270,238.5,245,60445\n",
    "2020-03-12,218,228,196,197,94031\n",
    "2020-03-13,210,229,198.8,211,100412\n",
    "2020-03-16,205,248,197.8,240.5,50659\n",
    "2020-03-17,245,269,232.5,264,99480\n",
    "2020-03-18,264,280,251,270,70136\n",
    "2020-03-19,267,280,267,279.5,30732\n",
    "2020-03-20,297.5,307,280,280.5,43426\n",
    "2020-03-23,274,289,258,285,37098\n",
    "2020-03-24,305,309,296.5,309,31939\n",
    "2020-03-25,313,330,295,304,46724\n",
    "2020-03-26,300,309,295.5,300,27213\n",
    "2020-03-27,302,306.5,290,296,13466\n",
    "2020-03-30,299,300,287,300,10316\n",
    "2020-03-31,302.5,309,302,306.5,15698\"\"\"\n",
    "\n",
    "# enter solution here"
   ]
  },
  {
   "cell_type": "markdown",
   "metadata": {
    "id": "8EDYZcOrv2fP"
   },
   "source": [
    "Delete the column named 'Date'. Assign only column values without headers to the _playway_values_ variable. Convert the array to the _float_ data type.\n",
    "\n",
    "__Expected result:__\n",
    "```\n",
    "array([[   305. ,    324.5,    283.5,    310. ,  64081. ],\n",
    "       [   325.5,    340.5,    320. ,    340.5,  55496. ],\n",
    "       [   324. ,    340.5,    315. ,    330. ,  36152. ],\n",
    "       [   344. ,    344. ,    310. ,    315. ,  35992. ],\n",
    "       [   306.5,    307. ,    291. ,    305. ,  32539. ],\n",
    "       [   274. ,    291. ,    250. ,    258. ,  79402. ],\n",
    "       [   278. ,    284.5,    256. ,    264. ,  35700. ],\n",
    "       [   270. ,    270. ,    238.5,    245. ,  60445. ],\n",
    "       [   218. ,    228. ,    196. ,    197. ,  94031. ],\n",
    "       [   210. ,    229. ,    198.8,    211. , 100412. ],\n",
    "       [   205. ,    248. ,    197.8,    240.5,  50659. ],\n",
    "       [   245. ,    269. ,    232.5,    264. ,  99480. ],\n",
    "       [   264. ,    280. ,    251. ,    270. ,  70136. ],\n",
    "       [   267. ,    280. ,    267. ,    279.5,  30732. ],\n",
    "       [   297.5,    307. ,    280. ,    280.5,  43426. ],\n",
    "       [   274. ,    289. ,    258. ,    285. ,  37098. ],\n",
    "       [   305. ,    309. ,    296.5,    309. ,  31939. ],\n",
    "       [   313. ,    330. ,    295. ,    304. ,  46724. ],\n",
    "       [   300. ,    309. ,    295.5,    300. ,  27213. ],\n",
    "       [   302. ,    306.5,    290. ,    296. ,  13466. ],\n",
    "       [   299. ,    300. ,    287. ,    300. ,  10316. ],\n",
    "       [   302.5,    309. ,    302. ,    306.5,  15698. ]])\n",
    "```"
   ]
  },
  {
   "cell_type": "code",
   "execution_count": null,
   "metadata": {
    "id": "2y3imzTOv4bb"
   },
   "outputs": [],
   "source": [
    "# enter solution here"
   ]
  },
  {
   "cell_type": "markdown",
   "metadata": {
    "id": "ojwh8klNv6PX"
   },
   "source": [
    "### <a name='6'></a> Exercise 96\n",
    "For the _playway_values_ array from the previous exercise, calculate the average value for each column. Round the result to two decimal places."
   ]
  },
  {
   "cell_type": "code",
   "execution_count": null,
   "metadata": {
    "id": "T417a6PLwK3e"
   },
   "outputs": [],
   "source": [
    "# enter solution here"
   ]
  },
  {
   "cell_type": "markdown",
   "metadata": {
    "id": "FIS7nUeJv-Jk"
   },
   "source": [
    "For the _playway_values_ array from the previous exercise, calculate the minimum value for each column. Round the result to two decimal places."
   ]
  },
  {
   "cell_type": "code",
   "execution_count": null,
   "metadata": {
    "id": "EmUyUzcCwLdf"
   },
   "outputs": [],
   "source": [
    "# enter solution here"
   ]
  },
  {
   "cell_type": "markdown",
   "metadata": {
    "id": "smEc-HYpwALw"
   },
   "source": [
    "For the _playway_values_ array from the previous exercise, calculate the maximum value for each column. Round the result to two decimal places."
   ]
  },
  {
   "cell_type": "code",
   "execution_count": null,
   "metadata": {
    "id": "-OjKc2mswMYY"
   },
   "outputs": [],
   "source": [
    "# enter solution here"
   ]
  },
  {
   "cell_type": "markdown",
   "metadata": {
    "id": "8hqZfLohwCPe"
   },
   "source": [
    "Calculate the difference between the maximum and minimum value for each column."
   ]
  },
  {
   "cell_type": "code",
   "execution_count": null,
   "metadata": {
    "id": "Q12U-EZ8wMzg"
   },
   "outputs": [],
   "source": [
    "# enter solution here"
   ]
  },
  {
   "cell_type": "markdown",
   "metadata": {
    "id": "GWDK13QHwWM_"
   },
   "source": [
    "### <a name='7'></a> Exercise 97\n",
    "Using the _playway_values_ array, calculate the new column: the difference between the highest and lowest price.\n",
    "\n",
    "Steps:\n",
    "1. assign the calculated difference to the _max_min_diff_ variable\n",
    "2. add the calculated column (variable _max_min_diff_) to the array _playway_values_ at the end.\n",
    "\n",
    "__Expected result:__\n",
    "```\n",
    "array([[   305. ,    324.5,    283.5,    310. ,  64081. ,     41. ],\n",
    "       [   325.5,    340.5,    320. ,    340.5,  55496. ,     20.5],\n",
    "       [   324. ,    340.5,    315. ,    330. ,  36152. ,     25.5],\n",
    "       [   344. ,    344. ,    310. ,    315. ,  35992. ,     34. ],\n",
    "       [   306.5,    307. ,    291. ,    305. ,  32539. ,     16. ],\n",
    "       [   274. ,    291. ,    250. ,    258. ,  79402. ,     41. ],\n",
    "       [   278. ,    284.5,    256. ,    264. ,  35700. ,     28.5],\n",
    "       [   270. ,    270. ,    238.5,    245. ,  60445. ,     31.5],\n",
    "       [   218. ,    228. ,    196. ,    197. ,  94031. ,     32. ],\n",
    "       [   210. ,    229. ,    198.8,    211. , 100412. ,     30.2],\n",
    "       [   205. ,    248. ,    197.8,    240.5,  50659. ,     50.2],\n",
    "       [   245. ,    269. ,    232.5,    264. ,  99480. ,     36.5],\n",
    "       [   264. ,    280. ,    251. ,    270. ,  70136. ,     29. ],\n",
    "       [   267. ,    280. ,    267. ,    279.5,  30732. ,     13. ],\n",
    "       [   297.5,    307. ,    280. ,    280.5,  43426. ,     27. ],\n",
    "       [   274. ,    289. ,    258. ,    285. ,  37098. ,     31. ],\n",
    "       [   305. ,    309. ,    296.5,    309. ,  31939. ,     12.5],\n",
    "       [   313. ,    330. ,    295. ,    304. ,  46724. ,     35. ],\n",
    "       [   300. ,    309. ,    295.5,    300. ,  27213. ,     13.5],\n",
    "       [   302. ,    306.5,    290. ,    296. ,  13466. ,     16.5],\n",
    "       [   299. ,    300. ,    287. ,    300. ,  10316. ,     13. ],\n",
    "       [   302.5,    309. ,    302. ,    306.5,  15698. ,      7. ]])\n",
    "```"
   ]
  },
  {
   "cell_type": "code",
   "execution_count": null,
   "metadata": {
    "id": "JihKxYaFwul1"
   },
   "outputs": [],
   "source": [
    "# enter solution here"
   ]
  },
  {
   "cell_type": "markdown",
   "metadata": {
    "id": "N08h2_fpwztR"
   },
   "source": [
    "### <a name='8'></a> Exercise 98\n",
    "Extract rows from the array _playway_values_ where closing price is grater than 300.00."
   ]
  },
  {
   "cell_type": "code",
   "execution_count": null,
   "metadata": {
    "id": "puPPRluNw2_q"
   },
   "outputs": [],
   "source": [
    "# enter solution here"
   ]
  },
  {
   "cell_type": "markdown",
   "metadata": {
    "id": "kiobmGONwfT5"
   },
   "source": [
    "### <a name='9'></a> Exercise 99\n",
    "From the array _playway_values_ extract the first 10 rows with the highest volume value sorted in descending order."
   ]
  },
  {
   "cell_type": "code",
   "execution_count": null,
   "metadata": {
    "id": "9Mhk3tdtwvmB"
   },
   "outputs": [],
   "source": [
    "# enter solution here"
   ]
  },
  {
   "cell_type": "markdown",
   "metadata": {
    "id": "iEKC2kWtwkBg"
   },
   "source": [
    "### <a name='10'></a> Exercise 100\n",
    "Add to the _playway_values_ array column that will return 1 in case the closing price is higher than the opening price and 0 opposite.\n",
    "\n",
    "__Expected result:__\n",
    "```\n",
    "array([[   305. ,    324.5,    283.5,    310. ,  64081. ,     41. ,      1. ],\n",
    "       [   325.5,    340.5,    320. ,    340.5,  55496. ,     20.5,      1. ],\n",
    "       [   324. ,    340.5,    315. ,    330. ,  36152. ,     25.5,      1. ],\n",
    "       [   344. ,    344. ,    310. ,    315. ,  35992. ,     34. ,      0. ],\n",
    "       [   306.5,    307. ,    291. ,    305. ,  32539. ,     16. ,      0. ],\n",
    "       [   274. ,    291. ,    250. ,    258. ,  79402. ,     41. ,      0. ],\n",
    "       [   278. ,    284.5,    256. ,    264. ,  35700. ,     28.5,      0. ],\n",
    "       [   270. ,    270. ,    238.5,    245. ,  60445. ,     31.5,      0. ],\n",
    "       [   218. ,    228. ,    196. ,    197. ,  94031. ,     32. ,      0. ],\n",
    "       [   210. ,    229. ,    198.8,    211. , 100412. ,     30.2,      1. ],\n",
    "       [   205. ,    248. ,    197.8,    240.5,  50659. ,     50.2,      1. ],\n",
    "       [   245. ,    269. ,    232.5,    264. ,  99480. ,     36.5,      1. ],\n",
    "       [   264. ,    280. ,    251. ,    270. ,  70136. ,     29. ,      1. ],\n",
    "       [   267. ,    280. ,    267. ,    279.5,  30732. ,     13. ,      1. ],\n",
    "       [   297.5,    307. ,    280. ,    280.5,  43426. ,     27. ,      0. ],\n",
    "       [   274. ,    289. ,    258. ,    285. ,  37098. ,     31. ,      1. ],\n",
    "       [   305. ,    309. ,    296.5,    309. ,  31939. ,     12.5,      1. ],\n",
    "       [   313. ,    330. ,    295. ,    304. ,  46724. ,     35. ,      0. ],\n",
    "       [   300. ,    309. ,    295.5,    300. ,  27213. ,     13.5,      0. ],\n",
    "       [   302. ,    306.5,    290. ,    296. ,  13466. ,     16.5,      0. ],\n",
    "       [   299. ,    300. ,    287. ,    300. ,  10316. ,     13. ,      1. ],\n",
    "       [   302.5,    309. ,    302. ,    306.5,  15698. ,      7. ,      1. ]])\n",
    "```"
   ]
  },
  {
   "cell_type": "code",
   "execution_count": null,
   "metadata": {
    "id": "iZWMGGmMwxNl"
   },
   "outputs": [],
   "source": [
    "# enter solution here"
   ]
  }
 ],
 "metadata": {
  "colab": {
   "collapsed_sections": [],
   "provenance": []
  },
  "kernelspec": {
   "display_name": "Python 3",
   "language": "python",
   "name": "python3"
  },
  "language_info": {
   "codemirror_mode": {
    "name": "ipython",
    "version": 3
   },
   "file_extension": ".py",
   "mimetype": "text/x-python",
   "name": "python",
   "nbconvert_exporter": "python",
   "pygments_lexer": "ipython3",
   "version": "3.7.13"
  }
 },
 "nbformat": 4,
 "nbformat_minor": 1
}
